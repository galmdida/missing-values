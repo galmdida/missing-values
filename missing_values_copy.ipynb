{
 "cells": [
  {
   "cell_type": "markdown",
   "id": "0ff2ff74-bd38-42c3-9fa7-825d58886e54",
   "metadata": {},
   "source": [
    "# What is missing values\n",
    "Missing data is defined as the values or data that is not stored (or not present) for some variable/s in the given dataset."
   ]
  },
  {
   "cell_type": "markdown",
   "id": "fe87dea8-af6f-4726-a32d-4fdd48d68245",
   "metadata": {},
   "source": [
    "# Reasons for missing values\n",
    "\n",
    "The real world data is messy and always contain alot of missing values which could affect the analysis. There could be multiple reasons for missing values but primarily the reason for missingness can be attributed to:\n",
    "- Data retrived wrongly from database\n",
    "- Data doesn't collected due to human error\n",
    "- Data deleted accidentally\n",
    "- The user has not provided the values intentionally\n",
    "- Past data might get corrupted due to improper maintenance\n",
    "\n",
    "- Either way we need to address this issue before we proceed with the modeling stuff. It is also important to note that some algorithms like XGBoost and LightGBM can treat missing data without any preprocessing."
   ]
  },
  {
   "cell_type": "code",
   "execution_count": null,
   "id": "e609ffc2-f49f-466f-9556-e8baa480b5fc",
   "metadata": {},
   "outputs": [],
   "source": []
  }
 ],
 "metadata": {
  "kernelspec": {
   "display_name": "Python 3 (ipykernel)",
   "language": "python",
   "name": "python3"
  },
  "language_info": {
   "codemirror_mode": {
    "name": "ipython",
    "version": 3
   },
   "file_extension": ".py",
   "mimetype": "text/x-python",
   "name": "python",
   "nbconvert_exporter": "python",
   "pygments_lexer": "ipython3",
   "version": "3.11.7"
  }
 },
 "nbformat": 4,
 "nbformat_minor": 5
}
