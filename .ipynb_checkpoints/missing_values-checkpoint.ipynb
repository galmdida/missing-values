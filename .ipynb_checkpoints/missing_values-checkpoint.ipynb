{
 "cells": [
  {
   "cell_type": "markdown",
   "id": "82d9648a-5f84-4029-b898-117c6556b859",
   "metadata": {},
   "source": [
    "# INTUITIVE GUIDE TO HANDLE MISSING VALUES IN PYTHON"
   ]
  },
  {
   "cell_type": "markdown",
   "id": "1a60023b-4c1c-4dda-ab77-58b223410989",
   "metadata": {},
   "source": [
    "# What is missing values\n",
    "Missing data is defined as the values or data that is not stored (or not present) for some variable/s in the given dataset.\n"
   ]
  },
  {
   "cell_type": "markdown",
   "id": "3020df7a-f50c-4add-9b8a-b88a30d08c41",
   "metadata": {},
   "source": [
    "# Reasons for missing values\n",
    "\n",
    "The real world data is messy and always contain alot of missing values which could affect the analysis. There could be multiple reasons for missing values but primarily the reason for missingness can be attributed to:\n",
    "- Data retrived wrongly from database\n",
    "- Data doesn't collected due to human error\n",
    "- Data deleted accidentally\n",
    "- The user has not provided the values intentionally\n",
    "- Past data might get corrupted due to improper maintenance\n",
    "\n",
    "- Either way we need to address this issue before we proceed with the modeling stuff. It is also important to note that some algorithms like XGBoost and LightGBM can treat missing data without any preprocessing."
   ]
  },
  {
   "cell_type": "markdown",
   "id": "c192c372-9ed3-45ca-8042-4f24f629606b",
   "metadata": {},
   "source": [
    "# How missing values are represented in the dataset\n",
    "Missing values in a dataset can be represented in various ways, depending on the source of the data and the conventions used. Here are some common representations:\n",
    "\n",
    "- NaN (Not a Number): In many programming languages and data analysis tools, missing values are represented as NaN. This is the default for libraries like Pandas in Python.\n",
    "- NULL or None: In databases and some programming languages, missing values are often represented as NULL or None. For instance, in SQL databases, a missing value is typically recorded as NULL.\n",
    "- Empty Strings: Sometimes, missing values are denoted by empty strings (\"\"). This is common in text-based data or CSV files where a field might be left blank.\n",
    "- Special Indicators: Datasets might use specific indicators like -999, 9999, or other unlikely values to signify missing data. This is often seen in older datasets or specific industries where such conventions were established.ed."
   ]
  },
  {
   "cell_type": "markdown",
   "id": "8b4dd9b1-605b-42b7-97f1-6813bce13b25",
   "metadata": {},
   "source": [
    "# Why is it important to handle missing values\n",
    "- Missing data can lead to a lack of precision in the statistical analysis.\n",
    "- Many machine learning algorithms fail if the dataset contains missing values. However, algorithms like K-nearest and Naive Bayes support data with missing values.\n",
    "- You may end up building a biased machine learning model, leading to incorrect results if the missing values are not handled properly."
   ]
  },
  {
   "cell_type": "markdown",
   "id": "ca2bb437-124e-4e72-bceb-8016347e26d4",
   "metadata": {},
   "source": [
    "# Types of missing values\n",
    "\n",
    "### Introduction\n",
    "Missing values in a dataset can occur for various reasons, and understanding the types of missing values can help in choosing appropriate strategies for handling them.\n",
    "\n",
    "### 1. Missing Completely at Random (MCAR)\n",
    "In this scenario missing values completely occur at random and there is no relationship between the missing data and any other values in the dataset. That is there is no pattern. We can say that the probability of data being missing is the same for all observations.\r\n",
    "\r\n",
    "E.g., Suppose that after the customer service call ends, we would be asked to give ratings to the customer representative. Not all the customers would do this and any customer who decides to give feedback is completely random irrespective of their experience or any other factors. In this case the missing values in the feedback column would be an MCA\n",
    "\n",
    "### 2. Missing at Random (MAR)\n",
    "In this scenario, missing values do not occur at random but the pattern of missingness could be explained by other observations. That is, the likelihood of a value missing in the dataset could possibly be due to some other variables in the dataset.\r\n",
    "\r\n",
    "For e.g., suppose a survey is taken at a dermatology clinic where the gender and their skincare routine is asked. Assume that most of the females answer the survey whereas men are less likely to answer. So here, why the data is missing could be explained by the factor, that is gender. In this case, the missing data in the skincare routine column is MA\n",
    "\n",
    "### 3. Missing Not at Random (MNAR)\n",
    "In this case, the missing values are not random and cannot be explained by the observed data. This could be challenging case as possible reason for the missingness are related to the unobserved data.\r\n",
    "\r\n",
    "For example people having more income may refuse to share the exact information in a survey or questionnaire.R.R."
   ]
  },
  {
   "cell_type": "markdown",
   "id": "bfd87fd0-b4ba-44d1-ac04-be25e1be38de",
   "metadata": {},
   "source": [
    "# Detecting Missing Values"
   ]
  },
  {
   "cell_type": "markdown",
   "id": "e50046db-43cf-422e-81d2-06ab67595ccb",
   "metadata": {},
   "source": [
    "# Libraries"
   ]
  },
  {
   "cell_type": "code",
   "execution_count": 35,
   "id": "86cfd784-4745-4815-9368-e1e36a36d671",
   "metadata": {},
   "outputs": [
    {
     "name": "stdout",
     "output_type": "stream",
     "text": [
      "Collecting missingno\n",
      "  Downloading missingno-0.5.2-py3-none-any.whl.metadata (639 bytes)\n",
      "Requirement already satisfied: numpy in c:\\users\\admin\\anaconda3\\lib\\site-packages (from missingno) (1.26.4)\n",
      "Requirement already satisfied: matplotlib in c:\\users\\admin\\anaconda3\\lib\\site-packages (from missingno) (3.8.0)\n",
      "Requirement already satisfied: scipy in c:\\users\\admin\\anaconda3\\lib\\site-packages (from missingno) (1.13.1)\n",
      "Requirement already satisfied: seaborn in c:\\users\\admin\\anaconda3\\lib\\site-packages (from missingno) (0.13.2)\n",
      "Requirement already satisfied: contourpy>=1.0.1 in c:\\users\\admin\\anaconda3\\lib\\site-packages (from matplotlib->missingno) (1.2.0)\n",
      "Requirement already satisfied: cycler>=0.10 in c:\\users\\admin\\anaconda3\\lib\\site-packages (from matplotlib->missingno) (0.11.0)\n",
      "Requirement already satisfied: fonttools>=4.22.0 in c:\\users\\admin\\anaconda3\\lib\\site-packages (from matplotlib->missingno) (4.25.0)\n",
      "Requirement already satisfied: kiwisolver>=1.0.1 in c:\\users\\admin\\anaconda3\\lib\\site-packages (from matplotlib->missingno) (1.4.4)\n",
      "Requirement already satisfied: packaging>=20.0 in c:\\users\\admin\\anaconda3\\lib\\site-packages (from matplotlib->missingno) (23.1)\n",
      "Requirement already satisfied: pillow>=6.2.0 in c:\\users\\admin\\anaconda3\\lib\\site-packages (from matplotlib->missingno) (10.2.0)\n",
      "Requirement already satisfied: pyparsing>=2.3.1 in c:\\users\\admin\\anaconda3\\lib\\site-packages (from matplotlib->missingno) (3.0.9)\n",
      "Requirement already satisfied: python-dateutil>=2.7 in c:\\users\\admin\\anaconda3\\lib\\site-packages (from matplotlib->missingno) (2.8.2)\n",
      "Requirement already satisfied: pandas>=1.2 in c:\\users\\admin\\anaconda3\\lib\\site-packages (from seaborn->missingno) (2.1.4)\n",
      "Requirement already satisfied: pytz>=2020.1 in c:\\users\\admin\\anaconda3\\lib\\site-packages (from pandas>=1.2->seaborn->missingno) (2023.3.post1)\n",
      "Requirement already satisfied: tzdata>=2022.1 in c:\\users\\admin\\anaconda3\\lib\\site-packages (from pandas>=1.2->seaborn->missingno) (2023.3)\n",
      "Requirement already satisfied: six>=1.5 in c:\\users\\admin\\anaconda3\\lib\\site-packages (from python-dateutil>=2.7->matplotlib->missingno) (1.16.0)\n",
      "Downloading missingno-0.5.2-py3-none-any.whl (8.7 kB)\n",
      "Installing collected packages: missingno\n",
      "Successfully installed missingno-0.5.2\n"
     ]
    }
   ],
   "source": [
    "# Install libraries\n",
    "!pip install missingno"
   ]
  },
  {
   "cell_type": "code",
   "execution_count": 1,
   "id": "0a99c64b-f22d-4003-a691-2d6f0247307b",
   "metadata": {},
   "outputs": [],
   "source": [
    "import pandas as pd\n",
    "import numpy as np\n",
    "\n",
    "# Detecting and visualizing missing values\n",
    "import missingno as msno\n",
    "\n",
    "import warnings\n",
    "\n",
    "# Missing value univariate imputer\n",
    "from sklearn.impute import SimpleImputer\n",
    "\n",
    "# Missing values multivariate imputer\n",
    "from sklearn.experimental import enable_iterative_imputer\n",
    "from sklearn.impute import IterativeImputer"
   ]
  },
  {
   "cell_type": "markdown",
   "id": "743fac9d-0394-445a-96d0-d8119f9710bc",
   "metadata": {},
   "source": [
    "# Load and read dataset"
   ]
  },
  {
   "cell_type": "code",
   "execution_count": 2,
   "id": "ee2c1488-eded-4b63-bea4-5e926303f2e9",
   "metadata": {},
   "outputs": [],
   "source": [
    "loan_predic_train = pd.read_csv(\"C:/Users/ADMIN/Documents/PYTHON BLOG DATA AND NOTEBOOKS/Data cleaning/\" + \n",
    "\"Handling missing values/datasets/train_ctrUa4K.csv\")"
   ]
  },
  {
   "cell_type": "code",
   "execution_count": 3,
   "id": "6c4ede0a-ce2d-4ef6-938a-6baa8a4fc994",
   "metadata": {},
   "outputs": [
    {
     "data": {
      "text/html": [
       "<div>\n",
       "<style scoped>\n",
       "    .dataframe tbody tr th:only-of-type {\n",
       "        vertical-align: middle;\n",
       "    }\n",
       "\n",
       "    .dataframe tbody tr th {\n",
       "        vertical-align: top;\n",
       "    }\n",
       "\n",
       "    .dataframe thead th {\n",
       "        text-align: right;\n",
       "    }\n",
       "</style>\n",
       "<table border=\"1\" class=\"dataframe\">\n",
       "  <thead>\n",
       "    <tr style=\"text-align: right;\">\n",
       "      <th></th>\n",
       "      <th>Loan_ID</th>\n",
       "      <th>Gender</th>\n",
       "      <th>Married</th>\n",
       "      <th>Dependents</th>\n",
       "      <th>Education</th>\n",
       "      <th>Self_Employed</th>\n",
       "      <th>ApplicantIncome</th>\n",
       "      <th>CoapplicantIncome</th>\n",
       "      <th>LoanAmount</th>\n",
       "      <th>Loan_Amount_Term</th>\n",
       "      <th>Credit_History</th>\n",
       "      <th>Property_Area</th>\n",
       "      <th>Loan_Status</th>\n",
       "    </tr>\n",
       "  </thead>\n",
       "  <tbody>\n",
       "    <tr>\n",
       "      <th>0</th>\n",
       "      <td>LP001002</td>\n",
       "      <td>Male</td>\n",
       "      <td>No</td>\n",
       "      <td>0</td>\n",
       "      <td>Graduate</td>\n",
       "      <td>No</td>\n",
       "      <td>5849</td>\n",
       "      <td>0.0</td>\n",
       "      <td>NaN</td>\n",
       "      <td>360.0</td>\n",
       "      <td>1.0</td>\n",
       "      <td>Urban</td>\n",
       "      <td>Y</td>\n",
       "    </tr>\n",
       "    <tr>\n",
       "      <th>1</th>\n",
       "      <td>LP001003</td>\n",
       "      <td>Male</td>\n",
       "      <td>Yes</td>\n",
       "      <td>1</td>\n",
       "      <td>Graduate</td>\n",
       "      <td>No</td>\n",
       "      <td>4583</td>\n",
       "      <td>1508.0</td>\n",
       "      <td>128.0</td>\n",
       "      <td>360.0</td>\n",
       "      <td>1.0</td>\n",
       "      <td>Rural</td>\n",
       "      <td>N</td>\n",
       "    </tr>\n",
       "    <tr>\n",
       "      <th>2</th>\n",
       "      <td>LP001005</td>\n",
       "      <td>Male</td>\n",
       "      <td>Yes</td>\n",
       "      <td>0</td>\n",
       "      <td>Graduate</td>\n",
       "      <td>Yes</td>\n",
       "      <td>3000</td>\n",
       "      <td>0.0</td>\n",
       "      <td>66.0</td>\n",
       "      <td>360.0</td>\n",
       "      <td>1.0</td>\n",
       "      <td>Urban</td>\n",
       "      <td>Y</td>\n",
       "    </tr>\n",
       "    <tr>\n",
       "      <th>3</th>\n",
       "      <td>LP001006</td>\n",
       "      <td>Male</td>\n",
       "      <td>Yes</td>\n",
       "      <td>0</td>\n",
       "      <td>Not Graduate</td>\n",
       "      <td>No</td>\n",
       "      <td>2583</td>\n",
       "      <td>2358.0</td>\n",
       "      <td>120.0</td>\n",
       "      <td>360.0</td>\n",
       "      <td>1.0</td>\n",
       "      <td>Urban</td>\n",
       "      <td>Y</td>\n",
       "    </tr>\n",
       "    <tr>\n",
       "      <th>4</th>\n",
       "      <td>LP001008</td>\n",
       "      <td>Male</td>\n",
       "      <td>No</td>\n",
       "      <td>0</td>\n",
       "      <td>Graduate</td>\n",
       "      <td>No</td>\n",
       "      <td>6000</td>\n",
       "      <td>0.0</td>\n",
       "      <td>141.0</td>\n",
       "      <td>360.0</td>\n",
       "      <td>1.0</td>\n",
       "      <td>Urban</td>\n",
       "      <td>Y</td>\n",
       "    </tr>\n",
       "  </tbody>\n",
       "</table>\n",
       "</div>"
      ],
      "text/plain": [
       "    Loan_ID Gender Married Dependents     Education Self_Employed  \\\n",
       "0  LP001002   Male      No          0      Graduate            No   \n",
       "1  LP001003   Male     Yes          1      Graduate            No   \n",
       "2  LP001005   Male     Yes          0      Graduate           Yes   \n",
       "3  LP001006   Male     Yes          0  Not Graduate            No   \n",
       "4  LP001008   Male      No          0      Graduate            No   \n",
       "\n",
       "   ApplicantIncome  CoapplicantIncome  LoanAmount  Loan_Amount_Term  \\\n",
       "0             5849                0.0         NaN             360.0   \n",
       "1             4583             1508.0       128.0             360.0   \n",
       "2             3000                0.0        66.0             360.0   \n",
       "3             2583             2358.0       120.0             360.0   \n",
       "4             6000                0.0       141.0             360.0   \n",
       "\n",
       "   Credit_History Property_Area Loan_Status  \n",
       "0             1.0         Urban           Y  \n",
       "1             1.0         Rural           N  \n",
       "2             1.0         Urban           Y  \n",
       "3             1.0         Urban           Y  \n",
       "4             1.0         Urban           Y  "
      ]
     },
     "execution_count": 3,
     "metadata": {},
     "output_type": "execute_result"
    }
   ],
   "source": [
    "loan_predic_train.head()"
   ]
  },
  {
   "cell_type": "markdown",
   "id": "d1077024-32c7-419e-962a-2ffb3383e830",
   "metadata": {},
   "source": [
    "### Number of rows and columns"
   ]
  },
  {
   "cell_type": "code",
   "execution_count": 4,
   "id": "60557fb0-74b0-4125-bcd4-02cb610101a2",
   "metadata": {},
   "outputs": [
    {
     "data": {
      "text/plain": [
       "(614, 13)"
      ]
     },
     "execution_count": 4,
     "metadata": {},
     "output_type": "execute_result"
    }
   ],
   "source": [
    "loan_predic_train.shape"
   ]
  },
  {
   "cell_type": "code",
   "execution_count": 5,
   "id": "0212fb79-c7c3-482d-b8d6-6f5586fa6bf0",
   "metadata": {},
   "outputs": [
    {
     "data": {
      "text/plain": [
       "Loan_ID               object\n",
       "Gender                object\n",
       "Married               object\n",
       "Dependents            object\n",
       "Education             object\n",
       "Self_Employed         object\n",
       "ApplicantIncome        int64\n",
       "CoapplicantIncome    float64\n",
       "LoanAmount           float64\n",
       "Loan_Amount_Term     float64\n",
       "Credit_History       float64\n",
       "Property_Area         object\n",
       "Loan_Status           object\n",
       "dtype: object"
      ]
     },
     "execution_count": 5,
     "metadata": {},
     "output_type": "execute_result"
    }
   ],
   "source": [
    "# Variable data types\n",
    "loan_predic_train.dtypes"
   ]
  },
  {
   "cell_type": "markdown",
   "id": "a59d9d28-bbfc-4fc8-ad13-2d677ca733a9",
   "metadata": {},
   "source": [
    "### Whether columns have missing values"
   ]
  },
  {
   "cell_type": "code",
   "execution_count": 6,
   "id": "daa12e5e-c0ca-4b08-9113-b23253c2b177",
   "metadata": {},
   "outputs": [
    {
     "data": {
      "text/plain": [
       "Loan_ID              False\n",
       "Gender                True\n",
       "Married               True\n",
       "Dependents            True\n",
       "Education            False\n",
       "Self_Employed         True\n",
       "ApplicantIncome      False\n",
       "CoapplicantIncome    False\n",
       "LoanAmount            True\n",
       "Loan_Amount_Term      True\n",
       "Credit_History        True\n",
       "Property_Area        False\n",
       "Loan_Status          False\n",
       "dtype: bool"
      ]
     },
     "execution_count": 6,
     "metadata": {},
     "output_type": "execute_result"
    }
   ],
   "source": [
    "# Whether columns have null values\n",
    "loan_predic_train.isna().any()"
   ]
  },
  {
   "cell_type": "markdown",
   "id": "fc245932-cc5a-473c-9b72-a5b74738145a",
   "metadata": {},
   "source": [
    "### Total number of missing values in each column"
   ]
  },
  {
   "cell_type": "code",
   "execution_count": 7,
   "id": "1ec973d8-08fe-4208-a448-d1ed561510f3",
   "metadata": {},
   "outputs": [
    {
     "data": {
      "text/plain": [
       "Loan_ID               0\n",
       "Gender               13\n",
       "Married               3\n",
       "Dependents           15\n",
       "Education             0\n",
       "Self_Employed        32\n",
       "ApplicantIncome       0\n",
       "CoapplicantIncome     0\n",
       "LoanAmount           22\n",
       "Loan_Amount_Term     14\n",
       "Credit_History       50\n",
       "Property_Area         0\n",
       "Loan_Status           0\n",
       "dtype: int64"
      ]
     },
     "execution_count": 7,
     "metadata": {},
     "output_type": "execute_result"
    }
   ],
   "source": [
    "# The count of null values for each column\n",
    "loan_predic_train.isna().sum()"
   ]
  },
  {
   "cell_type": "markdown",
   "id": "f03f02be-b3e8-489f-b1d3-370f48264aab",
   "metadata": {},
   "source": [
    "### Sort the column by the number of missing values"
   ]
  },
  {
   "cell_type": "code",
   "execution_count": 8,
   "id": "7bce1101-77e9-44e8-b5b7-af2e09ddfdd0",
   "metadata": {},
   "outputs": [
    {
     "data": {
      "text/plain": [
       "Credit_History       50\n",
       "Self_Employed        32\n",
       "LoanAmount           22\n",
       "Dependents           15\n",
       "Loan_Amount_Term     14\n",
       "Gender               13\n",
       "Married               3\n",
       "Loan_ID               0\n",
       "Education             0\n",
       "ApplicantIncome       0\n",
       "CoapplicantIncome     0\n",
       "Property_Area         0\n",
       "Loan_Status           0\n",
       "dtype: int64"
      ]
     },
     "execution_count": 8,
     "metadata": {},
     "output_type": "execute_result"
    }
   ],
   "source": [
    "# Want to see the missing values in the column in descending order\n",
    "loan_predic_train.isna().sum().sort_values(ascending=False)"
   ]
  },
  {
   "cell_type": "markdown",
   "id": "d552fdfb-0fe0-4cd4-b476-8d8e8a73b817",
   "metadata": {},
   "source": [
    "### %ge of missing values in each column"
   ]
  },
  {
   "cell_type": "code",
   "execution_count": 9,
   "id": "b67008cf-a163-4867-b776-1832cc2fa52b",
   "metadata": {},
   "outputs": [
    {
     "data": {
      "text/plain": [
       "Credit_History       0.081433\n",
       "Self_Employed        0.052117\n",
       "LoanAmount           0.035831\n",
       "Dependents           0.024430\n",
       "Loan_Amount_Term     0.022801\n",
       "Gender               0.021173\n",
       "Married              0.004886\n",
       "Loan_ID              0.000000\n",
       "Education            0.000000\n",
       "ApplicantIncome      0.000000\n",
       "CoapplicantIncome    0.000000\n",
       "Property_Area        0.000000\n",
       "Loan_Status          0.000000\n",
       "dtype: float64"
      ]
     },
     "execution_count": 9,
     "metadata": {},
     "output_type": "execute_result"
    }
   ],
   "source": [
    "# Percentage of missing values\n",
    "loan_predic_train.isna().sum().sort_values(ascending=False)/len(loan_predic_train)"
   ]
  },
  {
   "cell_type": "markdown",
   "id": "99c969e3-8d3a-468c-9871-d8022b00ddcc",
   "metadata": {},
   "source": [
    "### Total missing values in the dataset"
   ]
  },
  {
   "cell_type": "code",
   "execution_count": 10,
   "id": "2f5e95d6-4590-41ae-a0c9-292f2f765d4f",
   "metadata": {},
   "outputs": [
    {
     "data": {
      "text/plain": [
       "149"
      ]
     },
     "execution_count": 10,
     "metadata": {},
     "output_type": "execute_result"
    }
   ],
   "source": [
    "# Find the total number of missing values from the entire dataset\n",
    "loan_predic_train.isnull().sum().sum()"
   ]
  },
  {
   "cell_type": "markdown",
   "id": "4e1bbe87-ddff-4d11-93f5-a0b95f71f8a9",
   "metadata": {},
   "source": [
    "---"
   ]
  },
  {
   "cell_type": "markdown",
   "id": "6c5d34fa-8e47-4175-b3d5-3f08e9f3ac92",
   "metadata": {},
   "source": [
    "<hr>"
   ]
  },
  {
   "cell_type": "markdown",
   "id": "5b1cdc4c-981c-46a4-9178-06f609118632",
   "metadata": {},
   "source": [
    "# Handling Missing Values"
   ]
  },
  {
   "cell_type": "markdown",
   "id": "92f51f37-7eae-4d6c-8df7-5af1c182927f",
   "metadata": {},
   "source": [
    "## 1) Handling numerical missing values"
   ]
  },
  {
   "cell_type": "markdown",
   "id": "868ef634-5186-4e74-bdf5-8c39d47dc0ea",
   "metadata": {},
   "source": [
    "<hr>\n",
    "<br>\n",
    "\n",
    "### i) Getting pure numerical variables"
   ]
  },
  {
   "cell_type": "code",
   "execution_count": 11,
   "id": "d2293aa5-5e7e-4bd2-bd1d-8368e7c27060",
   "metadata": {},
   "outputs": [
    {
     "data": {
      "text/plain": [
       "['ApplicantIncome',\n",
       " 'CoapplicantIncome',\n",
       " 'LoanAmount',\n",
       " 'Loan_Amount_Term',\n",
       " 'Credit_History']"
      ]
     },
     "execution_count": 11,
     "metadata": {},
     "output_type": "execute_result"
    }
   ],
   "source": [
    "# Listing numerical data\n",
    "numerical_variables = list(loan_predic_train.select_dtypes(include=[np.number]).columns.values)\n",
    "numerical_variables"
   ]
  },
  {
   "cell_type": "code",
   "execution_count": 12,
   "id": "28e6bb53-16aa-49aa-9092-d27f973c855d",
   "metadata": {},
   "outputs": [
    {
     "data": {
      "text/html": [
       "<div>\n",
       "<style scoped>\n",
       "    .dataframe tbody tr th:only-of-type {\n",
       "        vertical-align: middle;\n",
       "    }\n",
       "\n",
       "    .dataframe tbody tr th {\n",
       "        vertical-align: top;\n",
       "    }\n",
       "\n",
       "    .dataframe thead th {\n",
       "        text-align: right;\n",
       "    }\n",
       "</style>\n",
       "<table border=\"1\" class=\"dataframe\">\n",
       "  <thead>\n",
       "    <tr style=\"text-align: right;\">\n",
       "      <th></th>\n",
       "      <th>ApplicantIncome</th>\n",
       "      <th>CoapplicantIncome</th>\n",
       "      <th>LoanAmount</th>\n",
       "      <th>Loan_Amount_Term</th>\n",
       "      <th>Credit_History</th>\n",
       "    </tr>\n",
       "  </thead>\n",
       "  <tbody>\n",
       "    <tr>\n",
       "      <th>0</th>\n",
       "      <td>5849</td>\n",
       "      <td>0.0</td>\n",
       "      <td>NaN</td>\n",
       "      <td>360.0</td>\n",
       "      <td>1.0</td>\n",
       "    </tr>\n",
       "    <tr>\n",
       "      <th>1</th>\n",
       "      <td>4583</td>\n",
       "      <td>1508.0</td>\n",
       "      <td>128.0</td>\n",
       "      <td>360.0</td>\n",
       "      <td>1.0</td>\n",
       "    </tr>\n",
       "    <tr>\n",
       "      <th>2</th>\n",
       "      <td>3000</td>\n",
       "      <td>0.0</td>\n",
       "      <td>66.0</td>\n",
       "      <td>360.0</td>\n",
       "      <td>1.0</td>\n",
       "    </tr>\n",
       "    <tr>\n",
       "      <th>3</th>\n",
       "      <td>2583</td>\n",
       "      <td>2358.0</td>\n",
       "      <td>120.0</td>\n",
       "      <td>360.0</td>\n",
       "      <td>1.0</td>\n",
       "    </tr>\n",
       "    <tr>\n",
       "      <th>4</th>\n",
       "      <td>6000</td>\n",
       "      <td>0.0</td>\n",
       "      <td>141.0</td>\n",
       "      <td>360.0</td>\n",
       "      <td>1.0</td>\n",
       "    </tr>\n",
       "    <tr>\n",
       "      <th>...</th>\n",
       "      <td>...</td>\n",
       "      <td>...</td>\n",
       "      <td>...</td>\n",
       "      <td>...</td>\n",
       "      <td>...</td>\n",
       "    </tr>\n",
       "    <tr>\n",
       "      <th>609</th>\n",
       "      <td>2900</td>\n",
       "      <td>0.0</td>\n",
       "      <td>71.0</td>\n",
       "      <td>360.0</td>\n",
       "      <td>1.0</td>\n",
       "    </tr>\n",
       "    <tr>\n",
       "      <th>610</th>\n",
       "      <td>4106</td>\n",
       "      <td>0.0</td>\n",
       "      <td>40.0</td>\n",
       "      <td>180.0</td>\n",
       "      <td>1.0</td>\n",
       "    </tr>\n",
       "    <tr>\n",
       "      <th>611</th>\n",
       "      <td>8072</td>\n",
       "      <td>240.0</td>\n",
       "      <td>253.0</td>\n",
       "      <td>360.0</td>\n",
       "      <td>1.0</td>\n",
       "    </tr>\n",
       "    <tr>\n",
       "      <th>612</th>\n",
       "      <td>7583</td>\n",
       "      <td>0.0</td>\n",
       "      <td>187.0</td>\n",
       "      <td>360.0</td>\n",
       "      <td>1.0</td>\n",
       "    </tr>\n",
       "    <tr>\n",
       "      <th>613</th>\n",
       "      <td>4583</td>\n",
       "      <td>0.0</td>\n",
       "      <td>133.0</td>\n",
       "      <td>360.0</td>\n",
       "      <td>0.0</td>\n",
       "    </tr>\n",
       "  </tbody>\n",
       "</table>\n",
       "<p>614 rows × 5 columns</p>\n",
       "</div>"
      ],
      "text/plain": [
       "     ApplicantIncome  CoapplicantIncome  LoanAmount  Loan_Amount_Term  \\\n",
       "0               5849                0.0         NaN             360.0   \n",
       "1               4583             1508.0       128.0             360.0   \n",
       "2               3000                0.0        66.0             360.0   \n",
       "3               2583             2358.0       120.0             360.0   \n",
       "4               6000                0.0       141.0             360.0   \n",
       "..               ...                ...         ...               ...   \n",
       "609             2900                0.0        71.0             360.0   \n",
       "610             4106                0.0        40.0             180.0   \n",
       "611             8072              240.0       253.0             360.0   \n",
       "612             7583                0.0       187.0             360.0   \n",
       "613             4583                0.0       133.0             360.0   \n",
       "\n",
       "     Credit_History  \n",
       "0               1.0  \n",
       "1               1.0  \n",
       "2               1.0  \n",
       "3               1.0  \n",
       "4               1.0  \n",
       "..              ...  \n",
       "609             1.0  \n",
       "610             1.0  \n",
       "611             1.0  \n",
       "612             1.0  \n",
       "613             0.0  \n",
       "\n",
       "[614 rows x 5 columns]"
      ]
     },
     "execution_count": 12,
     "metadata": {},
     "output_type": "execute_result"
    }
   ],
   "source": [
    "# dataframe of numerical variables only\n",
    "\n",
    "loan_data_numerical = loan_predic_train.select_dtypes(include=[np.number])\n",
    "loan_data_numerical"
   ]
  },
  {
   "cell_type": "code",
   "execution_count": 13,
   "id": "ae93bdda-aa11-4efa-8073-ba7bda2b1879",
   "metadata": {},
   "outputs": [],
   "source": [
    "# We can see that some of our numerical variables are actually,\n",
    "# coded categorical variables\n",
    "# These are variables with min of 0 and maximum of 1\n",
    "# Lets get the list of such variables"
   ]
  },
  {
   "cell_type": "code",
   "execution_count": 14,
   "id": "13e91b7e-16ac-4f2f-8f3a-3265e7d456a0",
   "metadata": {},
   "outputs": [],
   "source": [
    "# Get the dataset of coded categorical variables\n",
    "coded_categorical_data=loan_data_numerical.loc[:,[(loan_data_numerical[col].max() == 1)\n",
    "                                                   for col in loan_data_numerical.columns]]"
   ]
  },
  {
   "cell_type": "code",
   "execution_count": 15,
   "id": "26ee1b1a-92ca-4a8a-b050-5b5dc3bb96a6",
   "metadata": {},
   "outputs": [
    {
     "data": {
      "text/html": [
       "<div>\n",
       "<style scoped>\n",
       "    .dataframe tbody tr th:only-of-type {\n",
       "        vertical-align: middle;\n",
       "    }\n",
       "\n",
       "    .dataframe tbody tr th {\n",
       "        vertical-align: top;\n",
       "    }\n",
       "\n",
       "    .dataframe thead th {\n",
       "        text-align: right;\n",
       "    }\n",
       "</style>\n",
       "<table border=\"1\" class=\"dataframe\">\n",
       "  <thead>\n",
       "    <tr style=\"text-align: right;\">\n",
       "      <th></th>\n",
       "      <th>Credit_History</th>\n",
       "    </tr>\n",
       "  </thead>\n",
       "  <tbody>\n",
       "    <tr>\n",
       "      <th>0</th>\n",
       "      <td>1.0</td>\n",
       "    </tr>\n",
       "    <tr>\n",
       "      <th>1</th>\n",
       "      <td>1.0</td>\n",
       "    </tr>\n",
       "    <tr>\n",
       "      <th>2</th>\n",
       "      <td>1.0</td>\n",
       "    </tr>\n",
       "    <tr>\n",
       "      <th>3</th>\n",
       "      <td>1.0</td>\n",
       "    </tr>\n",
       "    <tr>\n",
       "      <th>4</th>\n",
       "      <td>1.0</td>\n",
       "    </tr>\n",
       "    <tr>\n",
       "      <th>...</th>\n",
       "      <td>...</td>\n",
       "    </tr>\n",
       "    <tr>\n",
       "      <th>609</th>\n",
       "      <td>1.0</td>\n",
       "    </tr>\n",
       "    <tr>\n",
       "      <th>610</th>\n",
       "      <td>1.0</td>\n",
       "    </tr>\n",
       "    <tr>\n",
       "      <th>611</th>\n",
       "      <td>1.0</td>\n",
       "    </tr>\n",
       "    <tr>\n",
       "      <th>612</th>\n",
       "      <td>1.0</td>\n",
       "    </tr>\n",
       "    <tr>\n",
       "      <th>613</th>\n",
       "      <td>0.0</td>\n",
       "    </tr>\n",
       "  </tbody>\n",
       "</table>\n",
       "<p>614 rows × 1 columns</p>\n",
       "</div>"
      ],
      "text/plain": [
       "     Credit_History\n",
       "0               1.0\n",
       "1               1.0\n",
       "2               1.0\n",
       "3               1.0\n",
       "4               1.0\n",
       "..              ...\n",
       "609             1.0\n",
       "610             1.0\n",
       "611             1.0\n",
       "612             1.0\n",
       "613             0.0\n",
       "\n",
       "[614 rows x 1 columns]"
      ]
     },
     "execution_count": 15,
     "metadata": {},
     "output_type": "execute_result"
    }
   ],
   "source": [
    "coded_categorical_data"
   ]
  },
  {
   "cell_type": "code",
   "execution_count": 16,
   "id": "53071060-6dac-417f-b56d-da1fe7d0fa72",
   "metadata": {},
   "outputs": [
    {
     "data": {
      "text/plain": [
       "['Credit_History']"
      ]
     },
     "execution_count": 16,
     "metadata": {},
     "output_type": "execute_result"
    }
   ],
   "source": [
    "# Get the list of coded categorical variables\n",
    "coded_categorical_variables =list(coded_categorical_data.columns.values)\n",
    "coded_categorical_variables"
   ]
  },
  {
   "cell_type": "code",
   "execution_count": 17,
   "id": "67f28f1a-9530-4f15-b444-71ed4a680f9c",
   "metadata": {},
   "outputs": [
    {
     "data": {
      "text/plain": [
       "['Loan_Amount_Term', 'LoanAmount', 'CoapplicantIncome', 'ApplicantIncome']"
      ]
     },
     "execution_count": 17,
     "metadata": {},
     "output_type": "execute_result"
    }
   ],
   "source": [
    "# Get pure numerical variables\n",
    "\n",
    "pure_numerical_variables = list(set(numerical_variables)-set(coded_categorical_variables))\n",
    "pure_numerical_variables"
   ]
  },
  {
   "cell_type": "code",
   "execution_count": 18,
   "id": "8fc0c8cc-fa01-4ad7-903a-26c200858cf2",
   "metadata": {},
   "outputs": [
    {
     "data": {
      "text/html": [
       "<div>\n",
       "<style scoped>\n",
       "    .dataframe tbody tr th:only-of-type {\n",
       "        vertical-align: middle;\n",
       "    }\n",
       "\n",
       "    .dataframe tbody tr th {\n",
       "        vertical-align: top;\n",
       "    }\n",
       "\n",
       "    .dataframe thead th {\n",
       "        text-align: right;\n",
       "    }\n",
       "</style>\n",
       "<table border=\"1\" class=\"dataframe\">\n",
       "  <thead>\n",
       "    <tr style=\"text-align: right;\">\n",
       "      <th></th>\n",
       "      <th>Loan_Amount_Term</th>\n",
       "      <th>LoanAmount</th>\n",
       "      <th>CoapplicantIncome</th>\n",
       "      <th>ApplicantIncome</th>\n",
       "    </tr>\n",
       "  </thead>\n",
       "  <tbody>\n",
       "    <tr>\n",
       "      <th>0</th>\n",
       "      <td>360.0</td>\n",
       "      <td>NaN</td>\n",
       "      <td>0.0</td>\n",
       "      <td>5849</td>\n",
       "    </tr>\n",
       "    <tr>\n",
       "      <th>1</th>\n",
       "      <td>360.0</td>\n",
       "      <td>128.0</td>\n",
       "      <td>1508.0</td>\n",
       "      <td>4583</td>\n",
       "    </tr>\n",
       "    <tr>\n",
       "      <th>2</th>\n",
       "      <td>360.0</td>\n",
       "      <td>66.0</td>\n",
       "      <td>0.0</td>\n",
       "      <td>3000</td>\n",
       "    </tr>\n",
       "    <tr>\n",
       "      <th>3</th>\n",
       "      <td>360.0</td>\n",
       "      <td>120.0</td>\n",
       "      <td>2358.0</td>\n",
       "      <td>2583</td>\n",
       "    </tr>\n",
       "    <tr>\n",
       "      <th>4</th>\n",
       "      <td>360.0</td>\n",
       "      <td>141.0</td>\n",
       "      <td>0.0</td>\n",
       "      <td>6000</td>\n",
       "    </tr>\n",
       "    <tr>\n",
       "      <th>...</th>\n",
       "      <td>...</td>\n",
       "      <td>...</td>\n",
       "      <td>...</td>\n",
       "      <td>...</td>\n",
       "    </tr>\n",
       "    <tr>\n",
       "      <th>609</th>\n",
       "      <td>360.0</td>\n",
       "      <td>71.0</td>\n",
       "      <td>0.0</td>\n",
       "      <td>2900</td>\n",
       "    </tr>\n",
       "    <tr>\n",
       "      <th>610</th>\n",
       "      <td>180.0</td>\n",
       "      <td>40.0</td>\n",
       "      <td>0.0</td>\n",
       "      <td>4106</td>\n",
       "    </tr>\n",
       "    <tr>\n",
       "      <th>611</th>\n",
       "      <td>360.0</td>\n",
       "      <td>253.0</td>\n",
       "      <td>240.0</td>\n",
       "      <td>8072</td>\n",
       "    </tr>\n",
       "    <tr>\n",
       "      <th>612</th>\n",
       "      <td>360.0</td>\n",
       "      <td>187.0</td>\n",
       "      <td>0.0</td>\n",
       "      <td>7583</td>\n",
       "    </tr>\n",
       "    <tr>\n",
       "      <th>613</th>\n",
       "      <td>360.0</td>\n",
       "      <td>133.0</td>\n",
       "      <td>0.0</td>\n",
       "      <td>4583</td>\n",
       "    </tr>\n",
       "  </tbody>\n",
       "</table>\n",
       "<p>614 rows × 4 columns</p>\n",
       "</div>"
      ],
      "text/plain": [
       "     Loan_Amount_Term  LoanAmount  CoapplicantIncome  ApplicantIncome\n",
       "0               360.0         NaN                0.0             5849\n",
       "1               360.0       128.0             1508.0             4583\n",
       "2               360.0        66.0                0.0             3000\n",
       "3               360.0       120.0             2358.0             2583\n",
       "4               360.0       141.0                0.0             6000\n",
       "..                ...         ...                ...              ...\n",
       "609             360.0        71.0                0.0             2900\n",
       "610             180.0        40.0                0.0             4106\n",
       "611             360.0       253.0              240.0             8072\n",
       "612             360.0       187.0                0.0             7583\n",
       "613             360.0       133.0                0.0             4583\n",
       "\n",
       "[614 rows x 4 columns]"
      ]
     },
     "execution_count": 18,
     "metadata": {},
     "output_type": "execute_result"
    }
   ],
   "source": [
    "# Create pure numerical data set\n",
    "pure_numerical_data=loan_predic_train[pure_numerical_variables]\n",
    "pure_numerical_data"
   ]
  },
  {
   "cell_type": "code",
   "execution_count": 19,
   "id": "d5e75f03-c892-48a6-b341-7c5d4d7e2ef2",
   "metadata": {},
   "outputs": [
    {
     "data": {
      "text/html": [
       "<div>\n",
       "<style scoped>\n",
       "    .dataframe tbody tr th:only-of-type {\n",
       "        vertical-align: middle;\n",
       "    }\n",
       "\n",
       "    .dataframe tbody tr th {\n",
       "        vertical-align: top;\n",
       "    }\n",
       "\n",
       "    .dataframe thead th {\n",
       "        text-align: right;\n",
       "    }\n",
       "</style>\n",
       "<table border=\"1\" class=\"dataframe\">\n",
       "  <thead>\n",
       "    <tr style=\"text-align: right;\">\n",
       "      <th></th>\n",
       "      <th>Loan_Amount_Term</th>\n",
       "      <th>LoanAmount</th>\n",
       "      <th>CoapplicantIncome</th>\n",
       "      <th>ApplicantIncome</th>\n",
       "    </tr>\n",
       "  </thead>\n",
       "  <tbody>\n",
       "    <tr>\n",
       "      <th>count</th>\n",
       "      <td>600.00000</td>\n",
       "      <td>592.000000</td>\n",
       "      <td>614.000000</td>\n",
       "      <td>614.000000</td>\n",
       "    </tr>\n",
       "    <tr>\n",
       "      <th>mean</th>\n",
       "      <td>342.00000</td>\n",
       "      <td>146.412162</td>\n",
       "      <td>1621.245798</td>\n",
       "      <td>5403.459283</td>\n",
       "    </tr>\n",
       "    <tr>\n",
       "      <th>std</th>\n",
       "      <td>65.12041</td>\n",
       "      <td>85.587325</td>\n",
       "      <td>2926.248369</td>\n",
       "      <td>6109.041673</td>\n",
       "    </tr>\n",
       "    <tr>\n",
       "      <th>min</th>\n",
       "      <td>12.00000</td>\n",
       "      <td>9.000000</td>\n",
       "      <td>0.000000</td>\n",
       "      <td>150.000000</td>\n",
       "    </tr>\n",
       "    <tr>\n",
       "      <th>25%</th>\n",
       "      <td>360.00000</td>\n",
       "      <td>100.000000</td>\n",
       "      <td>0.000000</td>\n",
       "      <td>2877.500000</td>\n",
       "    </tr>\n",
       "    <tr>\n",
       "      <th>50%</th>\n",
       "      <td>360.00000</td>\n",
       "      <td>128.000000</td>\n",
       "      <td>1188.500000</td>\n",
       "      <td>3812.500000</td>\n",
       "    </tr>\n",
       "    <tr>\n",
       "      <th>75%</th>\n",
       "      <td>360.00000</td>\n",
       "      <td>168.000000</td>\n",
       "      <td>2297.250000</td>\n",
       "      <td>5795.000000</td>\n",
       "    </tr>\n",
       "    <tr>\n",
       "      <th>max</th>\n",
       "      <td>480.00000</td>\n",
       "      <td>700.000000</td>\n",
       "      <td>41667.000000</td>\n",
       "      <td>81000.000000</td>\n",
       "    </tr>\n",
       "  </tbody>\n",
       "</table>\n",
       "</div>"
      ],
      "text/plain": [
       "       Loan_Amount_Term  LoanAmount  CoapplicantIncome  ApplicantIncome\n",
       "count         600.00000  592.000000         614.000000       614.000000\n",
       "mean          342.00000  146.412162        1621.245798      5403.459283\n",
       "std            65.12041   85.587325        2926.248369      6109.041673\n",
       "min            12.00000    9.000000           0.000000       150.000000\n",
       "25%           360.00000  100.000000           0.000000      2877.500000\n",
       "50%           360.00000  128.000000        1188.500000      3812.500000\n",
       "75%           360.00000  168.000000        2297.250000      5795.000000\n",
       "max           480.00000  700.000000       41667.000000     81000.000000"
      ]
     },
     "execution_count": 19,
     "metadata": {},
     "output_type": "execute_result"
    }
   ],
   "source": [
    "# Description of pure numerical data\n",
    "pure_numerical_data.describe()"
   ]
  },
  {
   "cell_type": "markdown",
   "id": "96969ece-af95-4ced-9a80-5632f4a8f3d9",
   "metadata": {},
   "source": [
    "<hr>\n",
    "<br>\n",
    "\n",
    "### ii) Detecting missing values"
   ]
  },
  {
   "cell_type": "markdown",
   "id": "41000cf2-934c-48ec-ba7d-566f598f722e",
   "metadata": {},
   "source": [
    "> ### a) Detecting missing values numerically"
   ]
  },
  {
   "cell_type": "code",
   "execution_count": 20,
   "id": "5417cb21-35a7-41db-855d-eb4c0a81dc67",
   "metadata": {},
   "outputs": [
    {
     "name": "stdout",
     "output_type": "stream",
     "text": [
      "Loan_Amount_Term     2.2801\n",
      "LoanAmount           3.5831\n",
      "CoapplicantIncome    0.0000\n",
      "ApplicantIncome      0.0000\n",
      "dtype: float64\n"
     ]
    }
   ],
   "source": [
    "# Missing values in the numerical variables\n",
    "# Getting missing values in boolean\n",
    "pure_numerical_data_missing = pure_numerical_data.isna()\n",
    "# Getting missing values by count\n",
    "pure_numerical_data_missing = pure_numerical_data_missing.sum()*100\n",
    "# Getting length of dataset\n",
    "length = len(pure_numerical_data)\n",
    "# Getting percentage\n",
    "percent = pure_numerical_data_missing/length\n",
    "# Printing missing percent to 2dp\n",
    "print(percent.round(4))"
   ]
  },
  {
   "cell_type": "markdown",
   "id": "0b405c71-3b81-45fc-a24f-40f65d9ebf57",
   "metadata": {},
   "source": [
    "> ### b) Table to show details of missing values"
   ]
  },
  {
   "cell_type": "code",
   "execution_count": 21,
   "id": "49e9a107-aed1-4e47-97f7-26907d41d0cd",
   "metadata": {},
   "outputs": [],
   "source": [
    "def create_missing_values_table(df):\n",
    "        # Total missing values\n",
    "        miss_val = df.isnull().sum()\n",
    "        \n",
    "        # Percentage of missing values\n",
    "        miss_val_percent = 100 * df.isnull().sum() / len(df)\n",
    "        \n",
    "        # Make a table with the results\n",
    "        miss_val_table = pd.concat([miss_val, miss_val_percent], axis=1)\n",
    "        \n",
    "        # Rename the columns\n",
    "        miss_val_table_ren_columns = miss_val_table.rename(\n",
    "        columns = {0 : 'Missing Values', 1 : '% of Total Values'})\n",
    "        \n",
    "        # Sort the table by percentage of missing descending\n",
    "        miss_val_table_ren_columns = miss_val_table_ren_columns[\n",
    "            miss_val_table_ren_columns.iloc[:,1] != 0].sort_values(\n",
    "        '% of Total Values', ascending=False).round(1)\n",
    "        \n",
    "        # Print some summary information\n",
    "        print (\"Your selected dataframe has \" + str(df.shape[1]) + \" columns.\\n\"      \n",
    "            \"There are \" + str(miss_val_table_ren_columns.shape[0]) +\n",
    "              \" columns that have missing values.\")\n",
    "        \n",
    "        # Return the dataframe with missing information\n",
    "        return miss_val_table_ren_columns"
   ]
  },
  {
   "cell_type": "code",
   "execution_count": 22,
   "id": "70849db3-bdb2-4834-8dd1-dd3295ba6b58",
   "metadata": {},
   "outputs": [
    {
     "name": "stdout",
     "output_type": "stream",
     "text": [
      "Your selected dataframe has 4 columns.\n",
      "There are 2 columns that have missing values.\n"
     ]
    },
    {
     "data": {
      "text/html": [
       "<div>\n",
       "<style scoped>\n",
       "    .dataframe tbody tr th:only-of-type {\n",
       "        vertical-align: middle;\n",
       "    }\n",
       "\n",
       "    .dataframe tbody tr th {\n",
       "        vertical-align: top;\n",
       "    }\n",
       "\n",
       "    .dataframe thead th {\n",
       "        text-align: right;\n",
       "    }\n",
       "</style>\n",
       "<table border=\"1\" class=\"dataframe\">\n",
       "  <thead>\n",
       "    <tr style=\"text-align: right;\">\n",
       "      <th></th>\n",
       "      <th>Missing Values</th>\n",
       "      <th>% of Total Values</th>\n",
       "    </tr>\n",
       "  </thead>\n",
       "  <tbody>\n",
       "    <tr>\n",
       "      <th>LoanAmount</th>\n",
       "      <td>22</td>\n",
       "      <td>3.6</td>\n",
       "    </tr>\n",
       "    <tr>\n",
       "      <th>Loan_Amount_Term</th>\n",
       "      <td>14</td>\n",
       "      <td>2.3</td>\n",
       "    </tr>\n",
       "  </tbody>\n",
       "</table>\n",
       "</div>"
      ],
      "text/plain": [
       "                  Missing Values  % of Total Values\n",
       "LoanAmount                    22                3.6\n",
       "Loan_Amount_Term              14                2.3"
      ]
     },
     "execution_count": 22,
     "metadata": {},
     "output_type": "execute_result"
    }
   ],
   "source": [
    "num_missing_val_table = create_missing_values_table(pure_numerical_data)\n",
    "num_missing_val_table"
   ]
  },
  {
   "cell_type": "markdown",
   "id": "998c8972-02e9-4e9e-84e1-ed05c0845a0f",
   "metadata": {},
   "source": [
    "> ### c) Detecting missing data visually using Missingno library\n",
    "To graphically analyse the missingness of the data, let's use a library called ***Missingno*** It is a package for graphical analysis of missing values. To use this library, we need to import it as installed and imported as under library section."
   ]
  },
  {
   "cell_type": "code",
   "execution_count": 43,
   "id": "eb2ebf40-fb8a-45ac-a6be-7b19ce8a867e",
   "metadata": {},
   "outputs": [
    {
     "data": {
      "text/plain": [
       "<Axes: >"
      ]
     },
     "execution_count": 43,
     "metadata": {},
     "output_type": "execute_result"
    },
    {
     "data": {
      "image/png": "[encoded data removed]",
      "text/plain": [
       "<Figure size 2500x1000 with 3 Axes>"
      ]
     },
     "metadata": {},
     "output_type": "display_data"
    }
   ],
   "source": [
    "msno.bar(pure_numerical_data)"
   ]
  },
  {
   "cell_type": "markdown",
   "id": "5aca3bc3-cf8f-4413-a81b-99d5fa8eb970",
   "metadata": {},
   "source": [
    "> The bar chart above gives a quick graphical overview of the completeness of the dataset. We can see that LoanAmount, and Loan_Amount_Term columns have missing values. Next,it would make sense to find out the locations of the missing data."
   ]
  },
  {
   "cell_type": "markdown",
   "id": "7a46173e-006f-4f87-b0d2-19c4afa786de",
   "metadata": {},
   "source": [
    "> ### d) Visualizing the locations of the missing data\n",
    "> The msno.matrix nullity matrix is a data-dense display which lets you quickly visually pick out patterns in data completion."
   ]
  },
  {
   "cell_type": "code",
   "execution_count": 23,
   "id": "39623920-47c1-4644-8cec-82b4de642294",
   "metadata": {},
   "outputs": [
    {
     "data": {
      "text/plain": [
       "<Axes: >"
      ]
     },
     "execution_count": 23,
     "metadata": {},
     "output_type": "execute_result"
    },
    {
     "data": {
      "image/png": "[encoded data removed]",
      "text/plain": [
       "<Figure size 2500x1000 with 2 Axes>"
      ]
     },
     "metadata": {},
     "output_type": "display_data"
    }
   ],
   "source": [
    "msno.matrix(pure_numerical_data)"
   ]
  },
  {
   "cell_type": "markdown",
   "id": "ad007b68-920c-4208-a265-81b2d48d3acb",
   "metadata": {},
   "source": [
    "> - The plot appears blank(white) wherever there are missing values. For instance, Loan_Amount_Term has a fewer instances of missing data Compared to LoanAmount, hence a fewer white lines.\r\n",
    "> - \r\n",
    "The sparkline on the right gives an idea of the general shape of the completeness of the data and points out the row with the minimum nullities and the total number of columns in a given dataset, at the bottom."
   ]
  },
  {
   "cell_type": "markdown",
   "id": "5af12dac-6fe5-4e60-9718-036b2f562d1f",
   "metadata": {},
   "source": [
    "> ### e) Sample and check the exact location of missing values\n",
    "> It is also possible to sample the dataset to pinpoint the exact location of the missing values. For instance let's check the first 50 rows."
   ]
  },
  {
   "cell_type": "code",
   "execution_count": 25,
   "id": "d9c0801c-b85c-43d4-b66d-d98e833a49c7",
   "metadata": {},
   "outputs": [
    {
     "data": {
      "text/plain": [
       "<Axes: >"
      ]
     },
     "execution_count": 25,
     "metadata": {},
     "output_type": "execute_result"
    },
    {
     "data": {
      "image/png": "[encoded data removed]",
      "text/plain": [
       "<Figure size 2500x1000 with 2 Axes>"
      ]
     },
     "metadata": {},
     "output_type": "display_data"
    }
   ],
   "source": [
    "msno.matrix(pure_numerical_data.sample(50))\n"
   ]
  },
  {
   "cell_type": "markdown",
   "id": "5311b1c3-d5ee-470d-8625-8590f71261e1",
   "metadata": {},
   "source": [
    "> This shows that the LoanAmount column has no nullity in the first 50 cases.\r\n"
   ]
  },
  {
   "cell_type": "markdown",
   "id": "73073b16-13a6-460e-b100-f5fcf47535bf",
   "metadata": {},
   "source": [
    "<hr>\n",
    "<br>\n",
    "\n",
    "### iii) Finding reasons for missing values\n",
    "> Before we start treating the missing values ,it is important to understand the various reasons for the missingness in data. Broadly speaking, there can be three possible reasons:\n",
    "\n",
    "\r\n",
    "1. Missing Completely at Random (MCAR)\r\n",
    "\r\n",
    "The missing values on a given variable (Y) are not associated with other variables in a given data set or with the variable (Y) itself. In other words, there is no particular reason for the missing values.\r\n",
    "\r\n",
    "2. Missing at Random (MAR)\r\n",
    "\r\n",
    "MAR occurs when the missingness is not random, but where missingness can be fully accounted for by variables where there is complete information.\r\n",
    "\r\n",
    "3. Missing Not at Random (MNAR)\r\n",
    "\r\n",
    "Missingness depends on unobserved data or the value of the missing data itself.\r\n",
    "\r\n",
    "All definitions taken from Wikipedia: https://en.wikipedia.org/wiki/Missing_data\r\n",
    "\r\n",
    "Now let us look at nullity matrix again to see if can find what type of missingness is present in the dataset."
   ]
  },
  {
   "cell_type": "markdown",
   "id": "06062756-7f5a-473f-840f-b228c4ca9db4",
   "metadata": {},
   "source": [
    ">### a) Finding reason for missing values using *msno* matrix"
   ]
  },
  {
   "cell_type": "code",
   "execution_count": 26,
   "id": "da69772e-658a-4550-9da0-22e2187bc2a2",
   "metadata": {},
   "outputs": [
    {
     "data": {
      "text/plain": [
       "<Axes: >"
      ]
     },
     "execution_count": 26,
     "metadata": {},
     "output_type": "execute_result"
    },
    {
     "data": {
      "image/png": "[encoded data removed]",
      "text/plain": [
       "<Figure size 2500x1000 with 2 Axes>"
      ]
     },
     "metadata": {},
     "output_type": "display_data"
    }
   ],
   "source": [
    "msno.matrix(pure_numerical_data)"
   ]
  },
  {
   "cell_type": "markdown",
   "id": "6d2eed57-9235-4d31-a9ae-738f29d5cfc0",
   "metadata": {},
   "source": [
    "> - If a column may have a very few missing values and do not seem to be correlated with any other column, the missingness in such column can be attributed as Missing Completely at Random.\n",
    "> - \n",
    "Both theLoan_Amount_Terme and theLoanAmountn columns have afewf missing values.This could be a case of MAR as we cannot directly observe the reason for missingness of data in these columns."
   ]
  },
  {
   "cell_type": "markdown",
   "id": "5c01c875-04cd-4db8-a328-e04ca57f1af0",
   "metadata": {},
   "source": [
    ">### b) Finding reason for missing values using sorted *msno* matrix"
   ]
  },
  {
   "cell_type": "code",
   "execution_count": 27,
   "id": "5fef79cd-5ea8-45d0-b2bc-69b9db77230b",
   "metadata": {},
   "outputs": [
    {
     "data": {
      "text/plain": [
       "<Axes: >"
      ]
     },
     "execution_count": 27,
     "metadata": {},
     "output_type": "execute_result"
    },
    {
     "data": {
      "image/png": "[encoded data removed]",
      "text/plain": [
       "<Figure size 2500x1000 with 2 Axes>"
      ]
     },
     "metadata": {},
     "output_type": "display_data"
    }
   ],
   "source": [
    "#sorted by LoanAmount\n",
    "sorted = pure_numerical_data.sort_values('LoanAmount')\n",
    "msno.matrix(sorted)"
   ]
  },
  {
   "cell_type": "markdown",
   "id": "4813c963-3afc-472f-82f8-440217a88e3b",
   "metadata": {},
   "source": [
    ">Hence it is clear that here is no relation between the missingness in LoanAmount and Loan_Amount_Term columns.To cement this conclusion further we can also draw a Heatmap among the different variables in the dataset."
   ]
  },
  {
   "cell_type": "markdown",
   "id": "db1f96f0-1a3f-4ca8-8605-14fbb7e77aaa",
   "metadata": {},
   "source": [
    ">### c) Finding reason for missing data using a Heatmap\n"
   ]
  },
  {
   "cell_type": "code",
   "execution_count": 28,
   "id": "6c0a478d-dd6c-486f-9a00-2fa1e7bbfcb5",
   "metadata": {},
   "outputs": [
    {
     "data": {
      "text/plain": [
       "<Axes: >"
      ]
     },
     "execution_count": 28,
     "metadata": {},
     "output_type": "execute_result"
    },
    {
     "data": {
      "image/png": "[encoded data removed]",
      "text/plain": [
       "<Figure size 2000x1200 with 2 Axes>"
      ]
     },
     "metadata": {},
     "output_type": "display_data"
    }
   ],
   "source": [
    "msno.heatmap(pure_numerical_data)"
   ]
  },
  {
   "cell_type": "markdown",
   "id": "c27ab3f3-29d0-4dc1-95de-36455a442a1a",
   "metadata": {},
   "source": [
    "> The heatmap function shows that there are no strong correlations between missing values of different features. This is good; low correlations further indicate that the data are MAR."
   ]
  },
  {
   "cell_type": "markdown",
   "id": "9d2ad632-4a05-4470-b529-045384af5a2c",
   "metadata": {},
   "source": [
    "> ### d) Finding reason for missing data using Dendrogram\n",
    "> A dendrogram is a tree diagram of missingness. It groups the highly correlated variables together."
   ]
  },
  {
   "cell_type": "code",
   "execution_count": 33,
   "id": "6f992e51-7b86-4d3c-847c-c306be5fd80d",
   "metadata": {},
   "outputs": [
    {
     "data": {
      "text/plain": [
       "<Axes: >"
      ]
     },
     "execution_count": 33,
     "metadata": {},
     "output_type": "execute_result"
    },
    {
     "data": {
      "image/png": "[encoded data removed]",
      "text/plain": [
       "<Figure size 2500x1000 with 1 Axes>"
      ]
     },
     "metadata": {},
     "output_type": "display_data"
    }
   ],
   "source": [
    "msno.dendrogram(pure_numerical_data)"
   ]
  },
  {
   "cell_type": "markdown",
   "id": "7d969aba-bff9-4308-a954-64b81ce57ea2",
   "metadata": {},
   "source": [
    ">Let's read the above dendrogram from a top-down perspective:\r\n",
    "> \r\n",
    "Cluster leaves which linked together at a distance of zero fully predict one another's presence—one variable might always be empty when another is filled, or they might always both be filled or both empty, and so on(missingno documentatio.\n",
    "T\r\n",
    "\r\n",
    "the missingnesLoan_Amount_Termarked tends to be more similanon-missing columns than LoanAmountCabin and s\n",
    "lues.\r\n",
    "This dataset doesn't have much missing values but if you use the same methodology on datasets having a lot of missing values, some interesting pattern will definitely emerge."
   ]
  },
  {
   "cell_type": "markdown",
   "id": "5b4e6e65-415c-4756-a12c-cb39a1ef42ea",
   "metadata": {},
   "source": [
    "<hr>\n",
    "<br>\n",
    "\n",
    "### iv) Treating missing values\n",
    "\n",
    "After having identified the patterns in missing values, it is important to treat them too. They are treated by ***deletion or by imputation.***\n",
    "\n",
    "***Lets start with deletion***."
   ]
  },
  {
   "attachments": {
    "d89fcc73-c2a8-48c7-a3fb-94861dc7a21a.png": {
     "image/png": "[encoded data removed]"
    }
   },
   "cell_type": "markdown",
   "id": "e50f7f07-f4e8-4f39-ac93-87f642985f60",
   "metadata": {},
   "source": [
    ">### a) Deletion\n",
    ">\n",
    ">>Deletion means to delete the missing values from a dataset. This is however not recommended as it might result in loss of information from the dataset. We should only delete the missing values from a dataset if their proportion is very small. Deletions are further of three types:\n",
    ">>\n",
    "> ![image.png](attachment:d89fcc73-c2a8-48c7-a3fb-94861dc7a21a.png)\n",
    ">"
   ]
  },
  {
   "cell_type": "markdown",
   "id": "1ba8064d-944a-4ef0-84e3-01e9dd5f2a6f",
   "metadata": {},
   "source": [
    "> ### i. Pairwise Deletion\n",
    ">> Parwise Deletion is used when values are missing completely at random i.e MCAR. During Pairwise deletion, only the missing values are deleted. All operations in pandas like mean, sum etc intrinsically skip missing values."
   ]
  },
  {
   "cell_type": "code",
   "execution_count": 34,
   "id": "f9f329f8-fe56-47e7-829a-7a4fec6121b7",
   "metadata": {},
   "outputs": [
    {
     "data": {
      "text/plain": [
       "Loan_Amount_Term     14\n",
       "ApplicantIncome       0\n",
       "LoanAmount           22\n",
       "CoapplicantIncome     0\n",
       "dtype: int64"
      ]
     },
     "execution_count": 34,
     "metadata": {},
     "output_type": "execute_result"
    }
   ],
   "source": [
    "pure_numerical_data.isnull().sum()"
   ]
  },
  {
   "cell_type": "code",
   "execution_count": 40,
   "id": "b7006d9d-21e8-40ac-9af1-17f28d0ccfae",
   "metadata": {},
   "outputs": [
    {
     "data": {
      "text/plain": [
       "146.41216216216216"
      ]
     },
     "execution_count": 40,
     "metadata": {},
     "output_type": "execute_result"
    }
   ],
   "source": [
    "# Make a copy of your dataset\n",
    "pure_numerical_data_1 = pure_numerical_data.copy()\n",
    "pure_numerical_data_1['LoanAmount'].mean() #pandas skips the missing values and calculates mean of the remaining values."
   ]
  },
  {
   "cell_type": "markdown",
   "id": "c534ce20-5fff-4227-81e3-c13d8ae9751c",
   "metadata": {},
   "source": [
    ">### ii. Listwise Deletion/ Dropping rows\r",
    ">>> \n",
    "During Listwise deletion, complete rows(which contain the missing values) are deleted. As a result, it is also called Complete Case deletion. Like Pairwise deletion, listwise deletions are also only used for MCAR values."
   ]
  },
  {
   "cell_type": "code",
   "execution_count": 41,
   "id": "e502394e-5715-4d72-a8af-451eb73654c0",
   "metadata": {},
   "outputs": [
    {
     "data": {
      "text/plain": [
       "0"
      ]
     },
     "execution_count": 41,
     "metadata": {},
     "output_type": "execute_result"
    }
   ],
   "source": [
    "# Drop rows which contains any NaN or missing value for LoanAmount column\n",
    "pure_numerical_data_1.dropna(subset=['LoanAmount'],how='any',inplace=True)\n",
    "pure_numerical_data_1['LoanAmount'].isnull().sum()"
   ]
  },
  {
   "cell_type": "markdown",
   "id": "238d4214-73ec-4115-948d-6c050448c9a9",
   "metadata": {},
   "source": [
    ">The LoanAmount column doesn't have any missing values. A major diadvantage of Listwise deletion is that a major chunk of data is deleted and hence a lot of information is lost. Hence, it is advisable to use it only when the number of missing values is very small."
   ]
  },
  {
   "cell_type": "markdown",
   "id": "89145ab6-d594-4185-9770-b581a8a34206",
   "metadata": {},
   "source": [
    ">### iii. Dropping complete columns\n",
    ">> If a column contains a lot of missing values, say more than 80%, and the feature is not significant, you might want to delete that feature. However, again, it is not a good methodology to delete data.\n",
    "\n",
    ">> This is not useful in our case for example as both loan amount and loan tearms are very important features to consider."
   ]
  },
  {
   "cell_type": "code",
   "execution_count": 42,
   "id": "62c781f0-040e-4929-b85e-21af5ebc3548",
   "metadata": {},
   "outputs": [
    {
     "data": {
      "text/plain": [
       "ApplicantIncome      0\n",
       "LoanAmount           0\n",
       "CoapplicantIncome    0\n",
       "dtype: int64"
      ]
     },
     "execution_count": 42,
     "metadata": {},
     "output_type": "execute_result"
    }
   ],
   "source": [
    "pure_numerical_data_1 = pure_numerical_data_1.drop(['Loan_Amount_Term'],axis=1)\n",
    "pure_numerical_data_1.isnull().sum()"
   ]
  },
  {
   "cell_type": "markdown",
   "id": "cc9025b5-bddf-4d95-809d-6f04c1f4cb46",
   "metadata": {},
   "source": [
    ">The entire column of loan term is no longer in the dataset. And ofcourse we removed the rows that contain missing values in the loan amount column in the listwise drop above"
   ]
  },
  {
   "attachments": {
    "bb0c9da8-012d-4448-8e3f-d56aa6d29d04.png": {
     "image/png": "[encoded data removed]"
    }
   },
   "cell_type": "markdown",
   "id": "43e873b3-f2bb-4c22-84b4-281b88e2f4b4",
   "metadata": {},
   "source": [
    ">### b) Imputation\n",
    ">\n",
    ">>Imputation refers to replacing missing data with substituted values.There are a lot of ways in which the missing values can be imputed depending upon the nature of the problem and data. Dependng upon the nature of the problem, imputation techniques can be broadly they can be classified as follows:\n",
    ">>\n",
    "> ![image.png](attachment:bb0c9da8-012d-4448-8e3f-d56aa6d29d04.png)\n",
    ">"
   ]
  },
  {
   "cell_type": "markdown",
   "id": "08d516c7-eca3-44df-9a1a-1f11d10b6fea",
   "metadata": {},
   "source": [
    "> ### i. Replacing with an arbitrary/ constant value\n",
    ">> If you can make an educated guess about the missing value, then you can replace it with some arbitrary value using the following code. E.g., in the following code, we are replacing the missing values of the ‘LoanAmount’ column with ‘0’."
   ]
  },
  {
   "cell_type": "code",
   "execution_count": 49,
   "id": "b2109293-d018-4b74-9be2-6cefc7d943a0",
   "metadata": {},
   "outputs": [
    {
     "name": "stdout",
     "output_type": "stream",
     "text": [
      "===================================================================================================\n",
      "Your selected column has 22 null values.\n",
      "After handling with abitrary value fill, there are 0 missing values.\n",
      "===================================================================================================\n"
     ]
    }
   ],
   "source": [
    "# Make a copy of your dataset\n",
    "pure_numerical_data_2 = pure_numerical_data.copy()\n",
    "\n",
    "# Replace the missing value with '0' using 'fiilna' method\n",
    "pure_numerical_data_2[\"LoanAmount\"] = pure_numerical_data_2[\"LoanAmount\"].fillna(0)\n",
    "\n",
    "print(\"===================================================================================================\")\n",
    "print (\"Your selected column has \" + str(pure_numerical_data[\"LoanAmount\"].isnull().sum()) + \" null values.\\n\"      \n",
    "            \"After handling with abitrary value fill, there are \" + str(pure_numerical_data_2[\"LoanAmount\"].isnull().sum()) +\n",
    "              \" missing values.\")\n",
    "print(\"===================================================================================================\")"
   ]
  },
  {
   "cell_type": "markdown",
   "id": "5e95bcf5-e954-4fee-9073-d178cf2905a2",
   "metadata": {},
   "source": [
    "> ### ii. Replacing with mean\n",
    ">> This is the most common method of imputing missing values of numeric columns. If there are outliers, then the mean will not be appropriate. In such cases, outliers need to be treated first. You can use the ‘fillna’ method for imputing the columns ‘LoanAmount’ and ‘Credit_History’ with the mean of the respective column values."
   ]
  },
  {
   "cell_type": "code",
   "execution_count": 52,
   "id": "94a68e18-923f-4f1c-a355-7713f2496c65",
   "metadata": {},
   "outputs": [
    {
     "name": "stdout",
     "output_type": "stream",
     "text": [
      "===================================================================================================\n",
      "The loan amount column has 22 null values.\n",
      "After handling with mean value fill, there are 0 missing values.\n",
      "===================================================================================================\n",
      "The loan amount term column has 14 null values.\n",
      "After handling with mean value fill, there are 0 missing values.\n",
      "===================================================================================================\n"
     ]
    }
   ],
   "source": [
    "# Make a copy of your dataset\n",
    "pure_numerical_data_3 = pure_numerical_data.copy()\n",
    "\n",
    "# Replace the missing values for numerical columns with mean\n",
    "pure_numerical_data_3['LoanAmount'] = pure_numerical_data_3['LoanAmount'].fillna(pure_numerical_data_3['LoanAmount'].mean())\n",
    "pure_numerical_data_3['Loan_Amount_Term'] = pure_numerical_data_3['Loan_Amount_Term'].fillna(pure_numerical_data_3['Loan_Amount_Term'].mean())\n",
    "\n",
    "print(\"===================================================================================================\")\n",
    "print (\"The loan amount column has \" + str(pure_numerical_data[\"LoanAmount\"].isnull().sum()) + \" null values.\\n\"      \n",
    "            \"After handling with mean value fill, there are \" + str(pure_numerical_data_3[\"LoanAmount\"].isnull().sum()) +\n",
    "              \" missing values.\")\n",
    "print(\"===================================================================================================\")\n",
    "print (\"The loan amount term column has \" + str(pure_numerical_data[\"Loan_Amount_Term\"].isnull().sum()) + \" null values.\\n\"      \n",
    "            \"After handling with mean value fill, there are \" + str(pure_numerical_data_3[\"Loan_Amount_Term\"].isnull().sum()) +\n",
    "              \" missing values.\")\n",
    "print(\"===================================================================================================\")"
   ]
  },
  {
   "cell_type": "markdown",
   "id": "32df066f-5435-41af-ac59-fbab6d17d2ab",
   "metadata": {},
   "source": [
    "> ### iii. Replacing with the median\n",
    ">> The median is the middlemost value. It’s better to use the median value for imputation in the case of outliers. You can use the ‘fillna’ method for imputing the column ‘Loan_Amount_Term’ with the median value."
   ]
  },
  {
   "cell_type": "code",
   "execution_count": 54,
   "id": "415f5bd6-27c5-468b-b472-bfed4bb81073",
   "metadata": {},
   "outputs": [
    {
     "name": "stdout",
     "output_type": "stream",
     "text": [
      "===================================================================================================\n",
      "Your selected column has 22 null values.\n",
      "After handling with abitrary value fill, there are 0 missing values.\n",
      "===================================================================================================\n"
     ]
    }
   ],
   "source": [
    "# Make a copy of your dataset\n",
    "pure_numerical_data_4 = pure_numerical_data.copy()\n",
    "\n",
    "# Replace the missing value with '0' using 'fiilna' method\n",
    "pure_numerical_data_4['Loan_Amount_Term']= pure_numerical_data_4['Loan_Amount_Term'].fillna(pure_numerical_data_4['Loan_Amount_Term'].median())\n",
    "\n",
    "print(\"===================================================================================================\")\n",
    "print (\"Your selected column has \" + str(pure_numerical_data[\"LoanAmount\"].isnull().sum()) + \" null values.\\n\"      \n",
    "            \"After handling with abitrary value fill, there are \" + str(pure_numerical_data_4[\"Loan_Amount_Term\"].isnull().sum()) +\n",
    "              \" missing values.\")\n",
    "print(\"===================================================================================================\")"
   ]
  },
  {
   "cell_type": "markdown",
   "id": "07ea8660-20f0-4c49-80e5-821264d16e1c",
   "metadata": {},
   "source": [
    "> ### iv. Replacing with the mode\n",
    ">> Mode is the most frequently occurring value. It is used in the case of categorical features. You can use the ‘fillna’ method for imputing the categorical columns ‘Gender,’ ‘Married,’ and ‘Self_Employed.’ We will handle mode input under categorical values."
   ]
  },
  {
   "cell_type": "markdown",
   "id": "c49bc1b9-a168-453f-8cef-0f5d57dc4df5",
   "metadata": {},
   "source": [
    "---"
   ]
  },
  {
   "cell_type": "markdown",
   "id": "444164f6-b958-48d2-9046-fd38de222566",
   "metadata": {},
   "source": [
    "> ### Imputations Techniques for Time Series Problems\n",
    ">> Now let's look at ways to impute data in a typical time series problem. Tackling missing values in time Series problem is a bit different. The fillna() method is used for imputing missing values in such problems.\n",
    ">>\n",
    ">> Basic Imputation Techniques\n",
    ">> 'ffill' or 'pad' - Replace NaN s with last observed value\r",
    ">>\n",
    "'bfill' or 'backfill' - Replace NaN s with next observed value>>\r\n",
    "Linear interpolation methodethod"
   ]
  },
  {
   "cell_type": "markdown",
   "id": "627766f1-bd6e-43a5-913c-ed9bd06731e4",
   "metadata": {},
   "source": [
    "## 2) Handling Time Series Missing Values\n",
    "\n",
    "The dataset is called https://www.kaggle.com/rohanrao/air-quality-data-in-india\n",
    "Tand it contains air quality data and AQI (Air Quality Index) at hourly and daily level of various stations across multiple cities in India. The dataset has a lot of missing values and and is a classic Time series problem.\n",
    "\n",
    "We are going to use city_day dataset"
   ]
  },
  {
   "cell_type": "code",
   "execution_count": 58,
   "id": "b09a5f98-b2e0-43f2-922f-490273790830",
   "metadata": {},
   "outputs": [],
   "source": [
    "# Read data\n",
    "city_day = pd.read_csv(\"C:/Users/ADMIN/Documents/PYTHON BLOG DATA AND NOTEBOOKS/Data cleaning/\" + \n",
    "\"Handling missing values/datasets/city_day.csv\")"
   ]
  },
  {
   "cell_type": "code",
   "execution_count": 59,
   "id": "d7b7ba6d-7cd5-4410-a8a8-769818d356cd",
   "metadata": {},
   "outputs": [
    {
     "data": {
      "text/html": [
       "<div>\n",
       "<style scoped>\n",
       "    .dataframe tbody tr th:only-of-type {\n",
       "        vertical-align: middle;\n",
       "    }\n",
       "\n",
       "    .dataframe tbody tr th {\n",
       "        vertical-align: top;\n",
       "    }\n",
       "\n",
       "    .dataframe thead th {\n",
       "        text-align: right;\n",
       "    }\n",
       "</style>\n",
       "<table border=\"1\" class=\"dataframe\">\n",
       "  <thead>\n",
       "    <tr style=\"text-align: right;\">\n",
       "      <th></th>\n",
       "      <th>City</th>\n",
       "      <th>Date</th>\n",
       "      <th>PM2.5</th>\n",
       "      <th>PM10</th>\n",
       "      <th>NO</th>\n",
       "      <th>NO2</th>\n",
       "      <th>NOx</th>\n",
       "      <th>NH3</th>\n",
       "      <th>CO</th>\n",
       "      <th>SO2</th>\n",
       "      <th>O3</th>\n",
       "      <th>Benzene</th>\n",
       "      <th>Toluene</th>\n",
       "      <th>Xylene</th>\n",
       "      <th>AQI</th>\n",
       "      <th>AQI_Bucket</th>\n",
       "    </tr>\n",
       "  </thead>\n",
       "  <tbody>\n",
       "    <tr>\n",
       "      <th>0</th>\n",
       "      <td>Ahmedabad</td>\n",
       "      <td>2015-01-01</td>\n",
       "      <td>NaN</td>\n",
       "      <td>NaN</td>\n",
       "      <td>0.92</td>\n",
       "      <td>18.22</td>\n",
       "      <td>17.15</td>\n",
       "      <td>NaN</td>\n",
       "      <td>0.92</td>\n",
       "      <td>27.64</td>\n",
       "      <td>133.36</td>\n",
       "      <td>0.00</td>\n",
       "      <td>0.02</td>\n",
       "      <td>0.00</td>\n",
       "      <td>NaN</td>\n",
       "      <td>NaN</td>\n",
       "    </tr>\n",
       "    <tr>\n",
       "      <th>1</th>\n",
       "      <td>Ahmedabad</td>\n",
       "      <td>2015-01-02</td>\n",
       "      <td>NaN</td>\n",
       "      <td>NaN</td>\n",
       "      <td>0.97</td>\n",
       "      <td>15.69</td>\n",
       "      <td>16.46</td>\n",
       "      <td>NaN</td>\n",
       "      <td>0.97</td>\n",
       "      <td>24.55</td>\n",
       "      <td>34.06</td>\n",
       "      <td>3.68</td>\n",
       "      <td>5.50</td>\n",
       "      <td>3.77</td>\n",
       "      <td>NaN</td>\n",
       "      <td>NaN</td>\n",
       "    </tr>\n",
       "    <tr>\n",
       "      <th>2</th>\n",
       "      <td>Ahmedabad</td>\n",
       "      <td>2015-01-03</td>\n",
       "      <td>NaN</td>\n",
       "      <td>NaN</td>\n",
       "      <td>17.40</td>\n",
       "      <td>19.30</td>\n",
       "      <td>29.70</td>\n",
       "      <td>NaN</td>\n",
       "      <td>17.40</td>\n",
       "      <td>29.07</td>\n",
       "      <td>30.70</td>\n",
       "      <td>6.80</td>\n",
       "      <td>16.40</td>\n",
       "      <td>2.25</td>\n",
       "      <td>NaN</td>\n",
       "      <td>NaN</td>\n",
       "    </tr>\n",
       "    <tr>\n",
       "      <th>3</th>\n",
       "      <td>Ahmedabad</td>\n",
       "      <td>2015-01-04</td>\n",
       "      <td>NaN</td>\n",
       "      <td>NaN</td>\n",
       "      <td>1.70</td>\n",
       "      <td>18.48</td>\n",
       "      <td>17.97</td>\n",
       "      <td>NaN</td>\n",
       "      <td>1.70</td>\n",
       "      <td>18.59</td>\n",
       "      <td>36.08</td>\n",
       "      <td>4.43</td>\n",
       "      <td>10.14</td>\n",
       "      <td>1.00</td>\n",
       "      <td>NaN</td>\n",
       "      <td>NaN</td>\n",
       "    </tr>\n",
       "    <tr>\n",
       "      <th>4</th>\n",
       "      <td>Ahmedabad</td>\n",
       "      <td>2015-01-05</td>\n",
       "      <td>NaN</td>\n",
       "      <td>NaN</td>\n",
       "      <td>22.10</td>\n",
       "      <td>21.42</td>\n",
       "      <td>37.76</td>\n",
       "      <td>NaN</td>\n",
       "      <td>22.10</td>\n",
       "      <td>39.33</td>\n",
       "      <td>39.31</td>\n",
       "      <td>7.01</td>\n",
       "      <td>18.89</td>\n",
       "      <td>2.78</td>\n",
       "      <td>NaN</td>\n",
       "      <td>NaN</td>\n",
       "    </tr>\n",
       "  </tbody>\n",
       "</table>\n",
       "</div>"
      ],
      "text/plain": [
       "        City        Date  PM2.5  PM10     NO    NO2    NOx  NH3     CO    SO2  \\\n",
       "0  Ahmedabad  2015-01-01    NaN   NaN   0.92  18.22  17.15  NaN   0.92  27.64   \n",
       "1  Ahmedabad  2015-01-02    NaN   NaN   0.97  15.69  16.46  NaN   0.97  24.55   \n",
       "2  Ahmedabad  2015-01-03    NaN   NaN  17.40  19.30  29.70  NaN  17.40  29.07   \n",
       "3  Ahmedabad  2015-01-04    NaN   NaN   1.70  18.48  17.97  NaN   1.70  18.59   \n",
       "4  Ahmedabad  2015-01-05    NaN   NaN  22.10  21.42  37.76  NaN  22.10  39.33   \n",
       "\n",
       "       O3  Benzene  Toluene  Xylene  AQI AQI_Bucket  \n",
       "0  133.36     0.00     0.02    0.00  NaN        NaN  \n",
       "1   34.06     3.68     5.50    3.77  NaN        NaN  \n",
       "2   30.70     6.80    16.40    2.25  NaN        NaN  \n",
       "3   36.08     4.43    10.14    1.00  NaN        NaN  \n",
       "4   39.31     7.01    18.89    2.78  NaN        NaN  "
      ]
     },
     "execution_count": 59,
     "metadata": {},
     "output_type": "execute_result"
    }
   ],
   "source": [
    "# See the first few rows\n",
    "city_day.head()"
   ]
  },
  {
   "cell_type": "code",
   "execution_count": 60,
   "id": "8a1ee19a-6e83-4278-843b-101191441875",
   "metadata": {},
   "outputs": [
    {
     "name": "stdout",
     "output_type": "stream",
     "text": [
      "Your selected dataframe has 16 columns.\n",
      "There are 14 columns that have missing values.\n"
     ]
    },
    {
     "data": {
      "text/html": [
       "<div>\n",
       "<style scoped>\n",
       "    .dataframe tbody tr th:only-of-type {\n",
       "        vertical-align: middle;\n",
       "    }\n",
       "\n",
       "    .dataframe tbody tr th {\n",
       "        vertical-align: top;\n",
       "    }\n",
       "\n",
       "    .dataframe thead th {\n",
       "        text-align: right;\n",
       "    }\n",
       "</style>\n",
       "<table border=\"1\" class=\"dataframe\">\n",
       "  <thead>\n",
       "    <tr style=\"text-align: right;\">\n",
       "      <th></th>\n",
       "      <th>Missing Values</th>\n",
       "      <th>% of Total Values</th>\n",
       "    </tr>\n",
       "  </thead>\n",
       "  <tbody>\n",
       "    <tr>\n",
       "      <th>Xylene</th>\n",
       "      <td>18109</td>\n",
       "      <td>61.3</td>\n",
       "    </tr>\n",
       "    <tr>\n",
       "      <th>PM10</th>\n",
       "      <td>11140</td>\n",
       "      <td>37.7</td>\n",
       "    </tr>\n",
       "    <tr>\n",
       "      <th>NH3</th>\n",
       "      <td>10328</td>\n",
       "      <td>35.0</td>\n",
       "    </tr>\n",
       "    <tr>\n",
       "      <th>Toluene</th>\n",
       "      <td>8041</td>\n",
       "      <td>27.2</td>\n",
       "    </tr>\n",
       "    <tr>\n",
       "      <th>Benzene</th>\n",
       "      <td>5623</td>\n",
       "      <td>19.0</td>\n",
       "    </tr>\n",
       "    <tr>\n",
       "      <th>AQI</th>\n",
       "      <td>4681</td>\n",
       "      <td>15.9</td>\n",
       "    </tr>\n",
       "    <tr>\n",
       "      <th>AQI_Bucket</th>\n",
       "      <td>4681</td>\n",
       "      <td>15.9</td>\n",
       "    </tr>\n",
       "    <tr>\n",
       "      <th>PM2.5</th>\n",
       "      <td>4598</td>\n",
       "      <td>15.6</td>\n",
       "    </tr>\n",
       "    <tr>\n",
       "      <th>NOx</th>\n",
       "      <td>4185</td>\n",
       "      <td>14.2</td>\n",
       "    </tr>\n",
       "    <tr>\n",
       "      <th>O3</th>\n",
       "      <td>4022</td>\n",
       "      <td>13.6</td>\n",
       "    </tr>\n",
       "    <tr>\n",
       "      <th>SO2</th>\n",
       "      <td>3854</td>\n",
       "      <td>13.1</td>\n",
       "    </tr>\n",
       "    <tr>\n",
       "      <th>NO2</th>\n",
       "      <td>3585</td>\n",
       "      <td>12.1</td>\n",
       "    </tr>\n",
       "    <tr>\n",
       "      <th>NO</th>\n",
       "      <td>3582</td>\n",
       "      <td>12.1</td>\n",
       "    </tr>\n",
       "    <tr>\n",
       "      <th>CO</th>\n",
       "      <td>2059</td>\n",
       "      <td>7.0</td>\n",
       "    </tr>\n",
       "  </tbody>\n",
       "</table>\n",
       "</div>"
      ],
      "text/plain": [
       "            Missing Values  % of Total Values\n",
       "Xylene               18109               61.3\n",
       "PM10                 11140               37.7\n",
       "NH3                  10328               35.0\n",
       "Toluene               8041               27.2\n",
       "Benzene               5623               19.0\n",
       "AQI                   4681               15.9\n",
       "AQI_Bucket            4681               15.9\n",
       "PM2.5                 4598               15.6\n",
       "NOx                   4185               14.2\n",
       "O3                    4022               13.6\n",
       "SO2                   3854               13.1\n",
       "NO2                   3585               12.1\n",
       "NO                    3582               12.1\n",
       "CO                    2059                7.0"
      ]
     },
     "execution_count": 60,
     "metadata": {},
     "output_type": "execute_result"
    }
   ],
   "source": [
    "# Create Missing Values Tables with our above function\n",
    "city_day_missing = create_missing_values_table(city_day)\n",
    "city_day_missing"
   ]
  },
  {
   "cell_type": "markdown",
   "id": "d3634f1a-eeda-4d6a-ae04-e9f33ea4963a",
   "metadata": {},
   "source": [
    ">There are a lot of missing values and some of the columns like Xylene  more than 60% of the values missing. Let's now see how we can impute these missing values."
   ]
  },
  {
   "cell_type": "code",
   "execution_count": 61,
   "id": "c548cddb-20e8-459b-ae32-388f8e54c8c3",
   "metadata": {},
   "outputs": [
    {
     "data": {
      "text/plain": [
       "55    0.81\n",
       "56     NaN\n",
       "57     NaN\n",
       "58     NaN\n",
       "59    1.32\n",
       "60    0.22\n",
       "61    2.25\n",
       "62    1.55\n",
       "63    4.13\n",
       "64     NaN\n",
       "65    0.39\n",
       "66    0.63\n",
       "67    1.35\n",
       "68    1.74\n",
       "69    2.78\n",
       "Name: Xylene, dtype: float64"
      ]
     },
     "execution_count": 61,
     "metadata": {},
     "output_type": "execute_result"
    }
   ],
   "source": [
    "# See sub-set of Xylene at cases 55 to 70\n",
    "\n",
    "city_day['Xylene'][55:70]"
   ]
  },
  {
   "cell_type": "markdown",
   "id": "4d2740ca-2b5b-4e91-bbe9-317fa95f2e93",
   "metadata": {},
   "source": [
    "> Above we see, there are 4 missing values in the Xylene column in selected cases."
   ]
  },
  {
   "cell_type": "markdown",
   "id": "80be1014-5678-4505-a129-2c2209eca163",
   "metadata": {},
   "source": [
    "> ### i. Replacing with the previous value – forward fill\n",
    ">> In some cases, imputing the values with the previous value instead of the mean, mode, or median is more appropriate. This is called forward fill. It is mostly used in time series data. You can use the ‘fillna’ function with the parameter ‘method = ffill’."
   ]
  },
  {
   "cell_type": "code",
   "execution_count": 78,
   "id": "fb395ec9-7309-4fbb-b76a-f3af99d20bd7",
   "metadata": {},
   "outputs": [],
   "source": [
    "warnings.filterwarnings(\"ignore\")"
   ]
  },
  {
   "cell_type": "code",
   "execution_count": 75,
   "id": "7a9bf0ad-8996-4c91-8592-62aa5a3ba112",
   "metadata": {},
   "outputs": [
    {
     "data": {
      "text/plain": [
       "55    0.81\n",
       "56    0.81\n",
       "57    0.81\n",
       "58    0.81\n",
       "59    1.32\n",
       "60    0.22\n",
       "61    2.25\n",
       "62    1.55\n",
       "63    4.13\n",
       "64    4.13\n",
       "65    0.39\n",
       "66    0.63\n",
       "67    1.35\n",
       "68    1.74\n",
       "69    2.78\n",
       "Name: Xylene, dtype: float64"
      ]
     },
     "execution_count": 75,
     "metadata": {},
     "output_type": "execute_result"
    }
   ],
   "source": [
    "# Make a copy of your dataset\n",
    "city_day_1 = city_day.copy()\n",
    "\n",
    "city_day_1.fillna(method='ffill',inplace=True)\n",
    "city_day_1['Xylene'][55:70]"
   ]
  },
  {
   "cell_type": "markdown",
   "id": "126fade8-6123-48b5-93ed-f0de95fdde87",
   "metadata": {},
   "source": [
    "> ### ii. Replacing with the next value – backward fill\n",
    ">> In backward fill, the missing value is imputed using the next value."
   ]
  },
  {
   "cell_type": "code",
   "execution_count": 65,
   "id": "2372de5d-9a22-45f5-adec-cdfdb476e695",
   "metadata": {},
   "outputs": [
    {
     "data": {
      "text/plain": [
       "55    0.81\n",
       "56     NaN\n",
       "57     NaN\n",
       "58     NaN\n",
       "59    1.32\n",
       "60    0.22\n",
       "61    2.25\n",
       "62    1.55\n",
       "63    4.13\n",
       "64     NaN\n",
       "65    0.39\n",
       "66    0.63\n",
       "67    1.35\n",
       "68    1.74\n",
       "69    2.78\n",
       "Name: Xylene, dtype: float64"
      ]
     },
     "execution_count": 65,
     "metadata": {},
     "output_type": "execute_result"
    }
   ],
   "source": [
    "# See sub-set of Xylene at cases 55 to 70\n",
    "\n",
    "city_day['Xylene'][55:70]"
   ]
  },
  {
   "cell_type": "code",
   "execution_count": 76,
   "id": "c4cbe214-8367-4238-bbec-aabce80d70fd",
   "metadata": {},
   "outputs": [
    {
     "data": {
      "text/plain": [
       "55    0.81\n",
       "56    1.32\n",
       "57    1.32\n",
       "58    1.32\n",
       "59    1.32\n",
       "60    0.22\n",
       "61    2.25\n",
       "62    1.55\n",
       "63    4.13\n",
       "64    0.39\n",
       "65    0.39\n",
       "66    0.63\n",
       "67    1.35\n",
       "68    1.74\n",
       "69    2.78\n",
       "Name: Xylene, dtype: float64"
      ]
     },
     "execution_count": 76,
     "metadata": {},
     "output_type": "execute_result"
    }
   ],
   "source": [
    "# Make a copy of your dataset\n",
    "city_day_2 = city_day.copy()\n",
    "\n",
    "# Fill missing values with backward fill\n",
    "city_day_2.fillna(method='bfill',inplace=True)\n",
    "city_day_2['Xylene'][55:70]"
   ]
  },
  {
   "cell_type": "markdown",
   "id": "21f6377d-9b91-4d3d-9923-6a81c777ec25",
   "metadata": {},
   "source": [
    "> ### iii. Interpolation\n",
    ">> Time series data has a lot of variations against time. Hence, imputing using backfill and forward fill isn't the best possible solution to address the missing value problem. A more apt alternative would be to use interpolation methods, where the values are filled with incrementing or decrementing values.\n",
    ">> Pandas’ interpolate method can be used to replace the missing values with different interpolation methods like ‘polynomial,’ ‘linear,’ and ‘quadratic.’ The default method is ‘linear.’\n",
    ">> \n",
    ">> Linear interpolation is an imputation technique that assumes a linear relationship between data points and utilises non-missing values from adjacent data points to compute a value for a missing data point.\n",
    ">>\n",
    ">> Refer to the official documentation for a complete list of interpolation strategies\n",
    ">>\n",
    ">> https://pandas.pydata.org/pandas-docs/stable/reference/api/pandas.DataFrame.interpolate.html\n",
    ">> re"
   ]
  },
  {
   "cell_type": "code",
   "execution_count": 77,
   "id": "2fdfa6cc-ee95-4219-85e9-98516dbabb64",
   "metadata": {},
   "outputs": [
    {
     "data": {
      "text/plain": [
       "50     7.4800\n",
       "51    15.4400\n",
       "52     8.4700\n",
       "53    28.4600\n",
       "54     6.0500\n",
       "55     0.8100\n",
       "56     0.9375\n",
       "57     1.0650\n",
       "58     1.1925\n",
       "59     1.3200\n",
       "60     0.2200\n",
       "61     2.2500\n",
       "62     1.5500\n",
       "63     4.1300\n",
       "64     2.2600\n",
       "Name: Xylene, dtype: float64"
      ]
     },
     "execution_count": 77,
     "metadata": {},
     "output_type": "execute_result"
    }
   ],
   "source": [
    "# Make a copy of your dataset\n",
    "city_day_3 = city_day.copy()\n",
    "\n",
    "# Interpolate using the linear method\n",
    "city_day_3.interpolate(limit_direction=\"both\",inplace=True)\n",
    "city_day_3['Xylene'][50:65]"
   ]
  },
  {
   "cell_type": "markdown",
   "id": "2127b656-7426-4d93-82a1-ce512a58d5ed",
   "metadata": {},
   "source": [
    "---\n",
    "---"
   ]
  },
  {
   "cell_type": "markdown",
   "id": "1b33c417-5c6a-436e-9f7a-ffde2d46c69d",
   "metadata": {},
   "source": [
    "## 3) Regression Imputation (With Ski-Kit Learn)\n",
    "> We can impute missing values using the sci-kit library by creating a model to predict the observed value of a variable based on another variable which is known as regression imputation.\n",
    ">> - Univariate approach\n",
    ">> - Multivariate approach"
   ]
  },
  {
   "cell_type": "markdown",
   "id": "d82cefe5-5a5f-42db-a52d-6c08ce7cd7c4",
   "metadata": {},
   "source": [
    "### a) Univariate imputation (Simple imputer)\n",
    "> In a Univariate approach, only a single feature is taken into consideration. You can use the class SimpleImputer and replace the missing values with mean, mode, median, or some constant value."
   ]
  },
  {
   "cell_type": "markdown",
   "id": "1b03a106-c0e6-4581-87b4-6c7cbe253b09",
   "metadata": {},
   "source": [
    "This type of imputation imputes the missing values of a feature (column) using the non-missing values of that feature(column). It does not take the relation of features with other features into consideration.\r\n",
    "\r\n",
    "SimpleImputer from sklearn.impute is used for univariate imputation of numeric values.\r\n",
    "\r\n",
    "There is a Parameter strategy in the Simple Imputer function, which can have the following values\r\n",
    "\r\n",
    "“mean”- Fills the missing values with the mean of non-missing \n",
    "  values\r\n",
    "“median” — Fills the missing values with the median of non-missing\n",
    "   values\r\n",
    "“most_frequent” — Fills the missing values with the value that occurs most frequently, or we can say the mode of the nume\n",
    "ric data\r\n",
    "“constant” — Fills the missing with the value provided in fill_value parameter of SimpleImputer.\r\n",
    "By default, the strategy is seklearn.impute"
   ]
  },
  {
   "cell_type": "markdown",
   "id": "13ba8958-8f80-4fcc-8a86-d578abcf1ace",
   "metadata": {},
   "source": [
    "### i) Impute with constant value\n",
    "\n",
    ">The strategy = ‘constant’ require a parameter fill_value to be added in the SimpleImputer function. The missing values are replaced by the value given to fill_value parameter.\r\n",
    ">> \r\n",
    "Let’s use fill_value 0 0 as a parameter to fil020 in the place of all missing values."
   ]
  },
  {
   "cell_type": "code",
   "execution_count": 86,
   "id": "68f1472e-8288-418e-9954-9b31b8dad80d",
   "metadata": {},
   "outputs": [
    {
     "data": {
      "text/html": [
       "<div>\n",
       "<style scoped>\n",
       "    .dataframe tbody tr th:only-of-type {\n",
       "        vertical-align: middle;\n",
       "    }\n",
       "\n",
       "    .dataframe tbody tr th {\n",
       "        vertical-align: top;\n",
       "    }\n",
       "\n",
       "    .dataframe thead th {\n",
       "        text-align: right;\n",
       "    }\n",
       "</style>\n",
       "<table border=\"1\" class=\"dataframe\">\n",
       "  <thead>\n",
       "    <tr style=\"text-align: right;\">\n",
       "      <th></th>\n",
       "      <th>Loan_Amount_Term</th>\n",
       "      <th>ApplicantIncome</th>\n",
       "      <th>LoanAmount</th>\n",
       "      <th>CoapplicantIncome</th>\n",
       "    </tr>\n",
       "  </thead>\n",
       "  <tbody>\n",
       "    <tr>\n",
       "      <th>0</th>\n",
       "      <td>360.0</td>\n",
       "      <td>5849</td>\n",
       "      <td>NaN</td>\n",
       "      <td>0.0</td>\n",
       "    </tr>\n",
       "    <tr>\n",
       "      <th>1</th>\n",
       "      <td>360.0</td>\n",
       "      <td>4583</td>\n",
       "      <td>128.0</td>\n",
       "      <td>1508.0</td>\n",
       "    </tr>\n",
       "    <tr>\n",
       "      <th>2</th>\n",
       "      <td>360.0</td>\n",
       "      <td>3000</td>\n",
       "      <td>66.0</td>\n",
       "      <td>0.0</td>\n",
       "    </tr>\n",
       "    <tr>\n",
       "      <th>3</th>\n",
       "      <td>360.0</td>\n",
       "      <td>2583</td>\n",
       "      <td>120.0</td>\n",
       "      <td>2358.0</td>\n",
       "    </tr>\n",
       "    <tr>\n",
       "      <th>4</th>\n",
       "      <td>360.0</td>\n",
       "      <td>6000</td>\n",
       "      <td>141.0</td>\n",
       "      <td>0.0</td>\n",
       "    </tr>\n",
       "    <tr>\n",
       "      <th>...</th>\n",
       "      <td>...</td>\n",
       "      <td>...</td>\n",
       "      <td>...</td>\n",
       "      <td>...</td>\n",
       "    </tr>\n",
       "    <tr>\n",
       "      <th>609</th>\n",
       "      <td>360.0</td>\n",
       "      <td>2900</td>\n",
       "      <td>71.0</td>\n",
       "      <td>0.0</td>\n",
       "    </tr>\n",
       "    <tr>\n",
       "      <th>610</th>\n",
       "      <td>180.0</td>\n",
       "      <td>4106</td>\n",
       "      <td>40.0</td>\n",
       "      <td>0.0</td>\n",
       "    </tr>\n",
       "    <tr>\n",
       "      <th>611</th>\n",
       "      <td>360.0</td>\n",
       "      <td>8072</td>\n",
       "      <td>253.0</td>\n",
       "      <td>240.0</td>\n",
       "    </tr>\n",
       "    <tr>\n",
       "      <th>612</th>\n",
       "      <td>360.0</td>\n",
       "      <td>7583</td>\n",
       "      <td>187.0</td>\n",
       "      <td>0.0</td>\n",
       "    </tr>\n",
       "    <tr>\n",
       "      <th>613</th>\n",
       "      <td>360.0</td>\n",
       "      <td>4583</td>\n",
       "      <td>133.0</td>\n",
       "      <td>0.0</td>\n",
       "    </tr>\n",
       "  </tbody>\n",
       "</table>\n",
       "<p>614 rows × 4 columns</p>\n",
       "</div>"
      ],
      "text/plain": [
       "     Loan_Amount_Term  ApplicantIncome  LoanAmount  CoapplicantIncome\n",
       "0               360.0             5849         NaN                0.0\n",
       "1               360.0             4583       128.0             1508.0\n",
       "2               360.0             3000        66.0                0.0\n",
       "3               360.0             2583       120.0             2358.0\n",
       "4               360.0             6000       141.0                0.0\n",
       "..                ...              ...         ...                ...\n",
       "609             360.0             2900        71.0                0.0\n",
       "610             180.0             4106        40.0                0.0\n",
       "611             360.0             8072       253.0              240.0\n",
       "612             360.0             7583       187.0                0.0\n",
       "613             360.0             4583       133.0                0.0\n",
       "\n",
       "[614 rows x 4 columns]"
      ]
     },
     "execution_count": 86,
     "metadata": {},
     "output_type": "execute_result"
    }
   ],
   "source": [
    "pure_numerical_data"
   ]
  },
  {
   "cell_type": "code",
   "execution_count": 82,
   "id": "7c348e24-f534-4e24-b8fe-d1e107a0e6f3",
   "metadata": {},
   "outputs": [],
   "source": [
    "# Model Creation\n",
    "imputer = SimpleImputer(strategy ='constant', fill_value =0)\n",
    "# fitting the imputer on the original dataset\n",
    "pure_numerical_data_const = pure_numerical_data.copy()\n",
    "imputer.fit(pure_numerical_data_const)\n",
    "# Imputing the missing values in train\n",
    "# Remember also to impute validation and test data\n",
    "pure_numerical_data_const = imputer.transform(pure_numerical_data_const)"
   ]
  },
  {
   "cell_type": "code",
   "execution_count": 84,
   "id": "120047f7-3c5a-47b4-8d82-c44dfc07e6a2",
   "metadata": {},
   "outputs": [
    {
     "data": {
      "text/plain": [
       "array([[ 360., 5849.,    0.,    0.],\n",
       "       [ 360., 4583.,  128., 1508.],\n",
       "       [ 360., 3000.,   66.,    0.],\n",
       "       ...,\n",
       "       [ 360., 8072.,  253.,  240.],\n",
       "       [ 360., 7583.,  187.,    0.],\n",
       "       [ 360., 4583.,  133.,    0.]])"
      ]
     },
     "execution_count": 84,
     "metadata": {},
     "output_type": "execute_result"
    }
   ],
   "source": [
    "pure_numerical_data_const"
   ]
  },
  {
   "cell_type": "code",
   "execution_count": 87,
   "id": "58fbc0a5-cacd-4962-8e7f-06f2b478a542",
   "metadata": {},
   "outputs": [
    {
     "name": "stdout",
     "output_type": "stream",
     "text": [
      "     Loan_Amount_Term  ApplicantIncome  LoanAmount  CoapplicantIncome\n",
      "0               360.0           5849.0         0.0                0.0\n",
      "1               360.0           4583.0       128.0             1508.0\n",
      "2               360.0           3000.0        66.0                0.0\n",
      "3               360.0           2583.0       120.0             2358.0\n",
      "4               360.0           6000.0       141.0                0.0\n",
      "..                ...              ...         ...                ...\n",
      "609             360.0           2900.0        71.0                0.0\n",
      "610             180.0           4106.0        40.0                0.0\n",
      "611             360.0           8072.0       253.0              240.0\n",
      "612             360.0           7583.0       187.0                0.0\n",
      "613             360.0           4583.0       133.0                0.0\n",
      "\n",
      "[614 rows x 4 columns]\n"
     ]
    }
   ],
   "source": [
    "# Using pd.DataFrame()\n",
    "pure_numerical_data_const_df = pd.DataFrame(pure_numerical_data_const, columns = ['Loan_Amount_Term', 'ApplicantIncome', 'LoanAmount','CoapplicantIncome'])\n",
    "\n",
    "# Display the DataFrame\n",
    "print(pure_numerical_data_const_df)"
   ]
  },
  {
   "cell_type": "code",
   "execution_count": 88,
   "id": "8e3c93f4-3095-4fbe-8673-713ce0133087",
   "metadata": {},
   "outputs": [
    {
     "name": "stdout",
     "output_type": "stream",
     "text": [
      "===================================================================================================\n",
      "The loan amount column has 22 null values.\n",
      "After handling with mean value fill, there are 0 missing values.\n",
      "===================================================================================================\n",
      "The loan amount term column has 14 null values.\n",
      "After handling with mean value fill, there are 0 missing values.\n",
      "===================================================================================================\n"
     ]
    }
   ],
   "source": [
    "print(\"===================================================================================================\")\n",
    "print (\"The loan amount column has \" + str(pure_numerical_data[\"LoanAmount\"].isnull().sum()) + \" null values.\\n\"      \n",
    "            \"After handling with mean value fill, there are \" + str(pure_numerical_data_const_df[\"LoanAmount\"].isnull().sum()) +\n",
    "              \" missing values.\")\n",
    "print(\"===================================================================================================\")\n",
    "print (\"The loan amount term column has \" + str(pure_numerical_data[\"Loan_Amount_Term\"].isnull().sum()) + \" null values.\\n\"      \n",
    "            \"After handling with mean value fill, there are \" + str(pure_numerical_data_const_df[\"Loan_Amount_Term\"].isnull().sum()) +\n",
    "              \" missing values.\")\n",
    "print(\"===================================================================================================\")"
   ]
  },
  {
   "cell_type": "markdown",
   "id": "dfeb5bd6-58f8-480a-a11f-ff91aa1a61b5",
   "metadata": {},
   "source": [
    "### ii) Impute with mean value\n",
    "\n",
    ">we can use this imputer to replace all the missing values in each column with the mean of non-missing values of that column using the following code."
   ]
  },
  {
   "cell_type": "code",
   "execution_count": 89,
   "id": "84fc6b3f-40a0-47de-b62f-8fd8f1a881bd",
   "metadata": {},
   "outputs": [],
   "source": [
    "# Model Creation\n",
    "imputer = SimpleImputer(strategy ='mean')\n",
    "# fitting the imputer on the original dataset\n",
    "pure_numerical_data_mean = pure_numerical_data.copy()\n",
    "imputer.fit(pure_numerical_data_mean)\n",
    "# Imputing the missing values in train, validation and test inputs\n",
    "pure_numerical_data_mean=imputer.transform(pure_numerical_data_mean)"
   ]
  },
  {
   "cell_type": "code",
   "execution_count": 91,
   "id": "e0148af0-0c94-4553-a81e-93581f7d45b1",
   "metadata": {},
   "outputs": [],
   "source": [
    "# Now let’s see the number of missing values in the train_inputs after imputation\n",
    "# Using pd.DataFrame()\n",
    "pure_numerical_data_mean_df = pd.DataFrame(pure_numerical_data_mean, columns = ['Loan_Amount_Term', 'ApplicantIncome',\\\n",
    "                                                                                  'LoanAmount',\\\n",
    "                                                                                  'CoapplicantIncome'])"
   ]
  },
  {
   "cell_type": "code",
   "execution_count": 92,
   "id": "51e8864f-ec15-4fab-871e-93df178a6680",
   "metadata": {},
   "outputs": [
    {
     "name": "stdout",
     "output_type": "stream",
     "text": [
      "===================================================================================================\n",
      "The loan amount column has 22 null values.\n",
      "After handling with mean value fill, there are 0 missing values.\n",
      "===================================================================================================\n",
      "The loan amount term column has 14 null values.\n",
      "After handling with mean value fill, there are 0 missing values.\n",
      "===================================================================================================\n"
     ]
    }
   ],
   "source": [
    "print(\"===================================================================================================\")\n",
    "print (\"The loan amount column has \" + str(pure_numerical_data[\"LoanAmount\"].isnull().sum()) + \" null values.\\n\"      \n",
    "            \"After handling with mean value fill, there are \" + str(pure_numerical_data_mean_df[\"LoanAmount\"].isnull().sum()) +\n",
    "              \" missing values.\")\n",
    "print(\"===================================================================================================\")\n",
    "print (\"The loan amount term column has \" + str(pure_numerical_data[\"Loan_Amount_Term\"].isnull().sum()) + \" null values.\\n\"      \n",
    "            \"After handling with mean value fill, there are \" + str(pure_numerical_data_mean_df[\"Loan_Amount_Term\"].isnull().sum()) +\n",
    "              \" missing values.\")\n",
    "print(\"===================================================================================================\")"
   ]
  },
  {
   "cell_type": "markdown",
   "id": "1ee95189-4fad-4c3f-a8ce-eb5f59c3ed39",
   "metadata": {},
   "source": [
    "### iii) Impute with median value\n",
    "\n",
    ">As we have already imported the “Simple Imputer,” we can use this imputer to replace all the missing values in each column with the median of non-missing values of that column using the following code."
   ]
  },
  {
   "cell_type": "code",
   "execution_count": 93,
   "id": "b872559a-5fd6-40ab-86dd-0c5e5b3074e6",
   "metadata": {},
   "outputs": [],
   "source": [
    "# Model Creation\n",
    "imputer = SimpleImputer(strategy ='median')\n",
    "# fitting the imputer on the original dataset\n",
    "pure_numerical_data_median = pure_numerical_data.copy()\n",
    "imputer.fit(pure_numerical_data_median)\n",
    "# Imputing the missing values in train, validation and test inputs\n",
    "pure_numerical_data_median=imputer.transform(pure_numerical_data_median)"
   ]
  },
  {
   "cell_type": "code",
   "execution_count": 94,
   "id": "368fd629-5221-472d-ad48-b1ff82c6e7a0",
   "metadata": {},
   "outputs": [],
   "source": [
    "# Now let’s see the number of missing values in the train_inputs after imputation\n",
    "# Using pd.DataFrame()\n",
    "pure_numerical_data_median_df = pd.DataFrame(pure_numerical_data_median, columns = ['Loan_Amount_Term', 'ApplicantIncome',\\\n",
    "                                                                                  'LoanAmount',\\\n",
    "                                                                                  'CoapplicantIncome'])"
   ]
  },
  {
   "cell_type": "code",
   "execution_count": 96,
   "id": "690d9141-d70b-46e6-9927-87bbbf9c6b1b",
   "metadata": {},
   "outputs": [
    {
     "name": "stdout",
     "output_type": "stream",
     "text": [
      "===================================================================================================\n",
      "The loan amount column has 22 null values.\n",
      "After handling with mean value fill, there are 0 missing values.\n",
      "===================================================================================================\n",
      "The loan amount term column has 14 null values.\n",
      "After handling with mean value fill, there are 0 missing values.\n",
      "===================================================================================================\n"
     ]
    }
   ],
   "source": [
    "print(\"===================================================================================================\")\n",
    "print (\"The loan amount column has \" + str(pure_numerical_data[\"LoanAmount\"].isnull().sum()) + \" null values.\\n\"      \n",
    "            \"After handling with mean value fill, there are \" + str(pure_numerical_data_median_df[\"LoanAmount\"].isnull().sum()) +\n",
    "              \" missing values.\")\n",
    "print(\"===================================================================================================\")\n",
    "print (\"The loan amount term column has \" + str(pure_numerical_data[\"Loan_Amount_Term\"].isnull().sum()) + \" null values.\\n\"      \n",
    "            \"After handling with mean value fill, there are \" + str(pure_numerical_data_median_df[\"Loan_Amount_Term\"].isnull().sum()) +\n",
    "              \" missing values.\")\n",
    "print(\"===================================================================================================\")"
   ]
  },
  {
   "cell_type": "markdown",
   "id": "d73be80e-c288-413d-92c7-977e7725cf89",
   "metadata": {},
   "source": [
    "### iv) Impute with most frequent value\n",
    "\n",
    ">We impute with most frequent value. this is common with coded categorical variables."
   ]
  },
  {
   "cell_type": "code",
   "execution_count": 99,
   "id": "e72d376e-eb31-4d87-8454-166a5fe04e33",
   "metadata": {},
   "outputs": [
    {
     "name": "stdout",
     "output_type": "stream",
     "text": [
      "LoanAmount\n",
      "120.0    20\n",
      "110.0    17\n",
      "100.0    15\n",
      "160.0    12\n",
      "187.0    12\n",
      "         ..\n",
      "240.0     1\n",
      "214.0     1\n",
      "59.0      1\n",
      "166.0     1\n",
      "253.0     1\n",
      "Name: count, Length: 203, dtype: int64\n",
      "Loan_Amount_Term\n",
      "360.0    512\n",
      "180.0     44\n",
      "480.0     15\n",
      "300.0     13\n",
      "240.0      4\n",
      "84.0       4\n",
      "120.0      3\n",
      "60.0       2\n",
      "36.0       2\n",
      "12.0       1\n",
      "Name: count, dtype: int64\n"
     ]
    }
   ],
   "source": [
    "print(pure_numerical_data['LoanAmount'].value_counts())\n",
    "print(pure_numerical_data['Loan_Amount_Term'].value_counts())"
   ]
  },
  {
   "cell_type": "code",
   "execution_count": 100,
   "id": "91d852b4-ad66-44d1-8ab9-36591e0a71a9",
   "metadata": {},
   "outputs": [],
   "source": [
    "# It can be seen that 120 occurs the most times in the loan amount column\n",
    "# It can be seen that 360 occurs the most times in the loan amount  term column.\n",
    "# Let’s impute the missing values using the strategy as most_frequent\n",
    "\n",
    "# Model Creation\n",
    "imputer = SimpleImputer(strategy ='most_frequent')\n",
    "# fitting the imputer on the original dataset\n",
    "pure_numerical_data_mode = pure_numerical_data.copy()\n",
    "imputer.fit(pure_numerical_data_mode)\n",
    "# Imputing the missing values in train, validation and test inputs\n",
    "pure_numerical_data_mode=imputer.transform(pure_numerical_data_mode)"
   ]
  },
  {
   "cell_type": "code",
   "execution_count": 101,
   "id": "2bdc8388-77f6-48dd-bcda-8fba3daf7b8a",
   "metadata": {},
   "outputs": [],
   "source": [
    "# Now let’s see the number of missing values in the train_inputs after imputation\n",
    "# Using pd.DataFrame()\n",
    "pure_numerical_data_mode_df = pd.DataFrame(pure_numerical_data_mode, columns = ['Loan_Amount_Term', 'ApplicantIncome',\\\n",
    "                                                                                  'LoanAmount',\\\n",
    "                                                                                  'CoapplicantIncome'])"
   ]
  },
  {
   "cell_type": "code",
   "execution_count": 102,
   "id": "8c2f26ae-263a-41fd-b870-cba9fcf408c5",
   "metadata": {},
   "outputs": [
    {
     "name": "stdout",
     "output_type": "stream",
     "text": [
      "===================================================================================================\n",
      "The loan amount column has 22 null values.\n",
      "After handling with mean value fill, there are 0 missing values.\n",
      "===================================================================================================\n",
      "The loan amount term column has 14 null values.\n",
      "After handling with mean value fill, there are 0 missing values.\n",
      "===================================================================================================\n"
     ]
    }
   ],
   "source": [
    "print(\"===================================================================================================\")\n",
    "print (\"The loan amount column has \" + str(pure_numerical_data[\"LoanAmount\"].isnull().sum()) + \" null values.\\n\"      \n",
    "            \"After handling with mean value fill, there are \" + str(pure_numerical_data_mode_df[\"LoanAmount\"].isnull().sum()) +\n",
    "              \" missing values.\")\n",
    "print(\"===================================================================================================\")\n",
    "print (\"The loan amount term column has \" + str(pure_numerical_data[\"Loan_Amount_Term\"].isnull().sum()) + \" null values.\\n\"      \n",
    "            \"After handling with mean value fill, there are \" + str(pure_numerical_data_mode_df[\"Loan_Amount_Term\"].isnull().sum()) +\n",
    "              \" missing values.\")\n",
    "print(\"===================================================================================================\")"
   ]
  },
  {
   "cell_type": "markdown",
   "id": "64a1b645-d439-4e7c-a11a-3cd09285733e",
   "metadata": {},
   "source": [
    "---"
   ]
  },
  {
   "cell_type": "markdown",
   "id": "26aa9de6-5970-4ad2-8aab-4f7a2069b535",
   "metadata": {},
   "source": [
    "### b) Multi-variate imputation (Iterative imputer)\n",
    "> In a Univariate approach, only a single feature is taken into consideration. You can use the class SimpleImputer and replace the missing values with mean, mode, median, or some constant value."
   ]
  },
  {
   "cell_type": "markdown",
   "id": "d2cabe38-a6e0-425b-92de-e559a659ad20",
   "metadata": {},
   "source": [
    "Multi-variate Feature Imputation is a more sophisticated approach to impute missing values. It models each feature with missing values as a function of other features and estimates the values to fill in place of missing values\r\n",
    "\r\n",
    "IterativeImputer is the function used to impute missing values\r\n",
    "\r\n",
    "NOTE: This estimator is still experimental for now: default parameters or details of behavior might change without any deprecation cycle. Resolving the following issues would help stabilize IterativeImputer: convergence criteria (#14338), default estimators (#13286), and use of random state (#15611). To use it, you need to import enable_iterative_imputer explicitly.\r\n",
    "\r\n",
    "Lets import IterativeImputer from sklearn.impute"
   ]
  },
  {
   "cell_type": "code",
   "execution_count": 105,
   "id": "af62f4e3-92d6-4246-a68a-042f793ebe75",
   "metadata": {},
   "outputs": [],
   "source": [
    "# Model Creation\n",
    "imputer = IterativeImputer()\n",
    "# fitting the imputer on the original dataset\n",
    "pure_numerical_data_iterative = pure_numerical_data.copy()\n",
    "imputer.fit(pure_numerical_data_iterative)\n",
    "# Imputing the missing values in train, validation and test inputs\n",
    "pure_numerical_data_iterative=imputer.transform(pure_numerical_data_iterative)"
   ]
  },
  {
   "cell_type": "code",
   "execution_count": 106,
   "id": "5366c757-3baa-46ca-80c6-51ef544c13b1",
   "metadata": {},
   "outputs": [],
   "source": [
    "# Now let’s see the number of missing values in the train_inputs after imputation\n",
    "# Using pd.DataFrame()\n",
    "pure_numerical_data_iterative_df = pd.DataFrame(pure_numerical_data_iterative, columns = ['Loan_Amount_Term', 'ApplicantIncome',\\\n",
    "                                                                                  'LoanAmount',\\\n",
    "                                                                                  'CoapplicantIncome'])"
   ]
  },
  {
   "cell_type": "code",
   "execution_count": 107,
   "id": "7b40cb4d-e19b-4bae-acd0-d554c21d1f76",
   "metadata": {},
   "outputs": [
    {
     "name": "stdout",
     "output_type": "stream",
     "text": [
      "===================================================================================================\n",
      "The loan amount column has 22 null values.\n",
      "After handling with mean value fill, there are 0 missing values.\n",
      "===================================================================================================\n",
      "The loan amount term column has 14 null values.\n",
      "After handling with mean value fill, there are 0 missing values.\n",
      "===================================================================================================\n"
     ]
    }
   ],
   "source": [
    "print(\"===================================================================================================\")\n",
    "print (\"The loan amount column has \" + str(pure_numerical_data[\"LoanAmount\"].isnull().sum()) + \" null values.\\n\"      \n",
    "            \"After handling with mean value fill, there are \" + str(pure_numerical_data_iterative_df[\"LoanAmount\"].isnull().sum()) +\n",
    "              \" missing values.\")\n",
    "print(\"===================================================================================================\")\n",
    "print (\"The loan amount term column has \" + str(pure_numerical_data[\"Loan_Amount_Term\"].isnull().sum()) + \" null values.\\n\"      \n",
    "            \"After handling with mean value fill, there are \" + str(pure_numerical_data_iterative_df[\"Loan_Amount_Term\"].isnull().sum()) +\n",
    "              \" missing values.\")\n",
    "print(\"===================================================================================================\")"
   ]
  },
  {
   "cell_type": "markdown",
   "id": "f6a035ed-dac2-4fc7-83e0-7f90c995291d",
   "metadata": {},
   "source": [
    ">It can be seen that unlike other methods where the value for each missing value was the same ( either mean, median, mode, constant) the values here for each missing value are different."
   ]
  },
  {
   "cell_type": "markdown",
   "id": "da25e8bb-f10d-4a39-b8fc-2a30dd89d872",
   "metadata": {},
   "source": [
    "---\n",
    "---"
   ]
  },
  {
   "cell_type": "markdown",
   "id": "828bd47b-cfb6-4ce0-8ce1-fbd904e37950",
   "metadata": {},
   "source": [
    "## 4) Advanced Imputation Techniques\n",
    "> Advanced imputation techniques uses machine learning algorithms to impute the missing values in a dataset unlike the previous techniques where we used other column values to predict the missing values. We shall look at the following two techniques in this notebook:\r\n",
    ">>> \r\n",
    "Nearest neighbors imputati,\n",
    ">> Multivariate feature imputationion"
   ]
  },
  {
   "cell_type": "markdown",
   "id": "eb5a1b9b-fd1a-4494-863f-6cead42df7ac",
   "metadata": {},
   "source": [
    "> ### i. K-Nearest Neighbor Imputation\n",
    ">> The KNNImputer class provides imputation for filling in missing values using the k-Nearest Neighbors approach. Each missing feature is imputed using values from n_neighbors nearest neighbors that have a value for the feature. The feature of the neighbors are averaged uniformly or weighted by distance to each neighbor."
   ]
  },
  {
   "cell_type": "code",
   "execution_count": 69,
   "id": "b9507ee0-7634-4e19-9d21-9621f4b878cd",
   "metadata": {},
   "outputs": [],
   "source": [
    "from sklearn.impute import KNNImputer\n",
    "train_knn = pure_numerical_data.copy(deep=True)\n",
    "\n",
    "knn_imputer = KNNImputer(n_neighbors=2, weights=\"uniform\")\n",
    "train_knn['LoanAmount'] = knn_imputer.fit_transform(train_knn[['LoanAmount']])"
   ]
  },
  {
   "cell_type": "code",
   "execution_count": 70,
   "id": "fd038281-1531-47df-8825-5a2063882494",
   "metadata": {},
   "outputs": [
    {
     "data": {
      "text/plain": [
       "0"
      ]
     },
     "execution_count": 70,
     "metadata": {},
     "output_type": "execute_result"
    }
   ],
   "source": [
    "train_knn['LoanAmount'].isnull().sum()"
   ]
  },
  {
   "cell_type": "markdown",
   "id": "df6e655a-6282-474a-9c9f-d23098087df9",
   "metadata": {},
   "source": [
    "> ### ii. Multivariate feature imputation - Multivariate imputation by chained equations (MICE)\n",
    ">> A strategy for imputing missing values by modeling each feature with missing values as a function of other features in a round-robin fashion. It performns multiple regressions over random sample ofthe data, then takes the average ofthe multiple regression values and uses that value to impute the missing value. In sklearn, it is implemented as follows:"
   ]
  },
  {
   "cell_type": "code",
   "execution_count": 71,
   "id": "0c7733ad-5a8a-42ce-a28b-149ab15abe31",
   "metadata": {},
   "outputs": [],
   "source": [
    "from sklearn.experimental import enable_iterative_imputer\n",
    "from sklearn.impute import IterativeImputer\n",
    "train_mice = pure_numerical_data.copy(deep=True)\n",
    "\n",
    "mice_imputer = IterativeImputer()\n",
    "train_mice['Loan_Amount_Term'] = mice_imputer.fit_transform(train_mice[['Loan_Amount_Term']])"
   ]
  },
  {
   "cell_type": "code",
   "execution_count": 72,
   "id": "0a637ca5-bd5c-4b92-864e-026b3f257db3",
   "metadata": {},
   "outputs": [
    {
     "data": {
      "text/plain": [
       "0"
      ]
     },
     "execution_count": 72,
     "metadata": {},
     "output_type": "execute_result"
    }
   ],
   "source": [
    "train_mice['Loan_Amount_Term'].isnull().sum()"
   ]
  },
  {
   "cell_type": "markdown",
   "id": "8f56160b-0be6-4c1a-8c67-94d9c1463fbc",
   "metadata": {},
   "source": [
    "---"
   ]
  },
  {
   "cell_type": "markdown",
   "id": "8b94a30b-c3c7-41af-8cea-582133d349ea",
   "metadata": {},
   "source": [
    "## 5) Handling categorical missing values"
   ]
  },
  {
   "cell_type": "markdown",
   "id": "9114028f-8bad-4c7f-b4ae-dc3bf6082239",
   "metadata": {},
   "source": [
    "***Discrete/ Categorical Data***: discrete data is quantitative data that can be counted and has a finite number of possible values or data which may be divided into groups e.g. days in a week, number of months in a year, sex (Male/Female/Others), Grades (High/Medium/Low), etc."
   ]
  },
  {
   "cell_type": "code",
   "execution_count": 127,
   "id": "ec8e8f6d-ea13-4409-9996-d9c61dbb6c91",
   "metadata": {},
   "outputs": [
    {
     "data": {
      "text/plain": [
       "['Loan_ID',\n",
       " 'Gender',\n",
       " 'Married',\n",
       " 'Dependents',\n",
       " 'Education',\n",
       " 'Self_Employed',\n",
       " 'Property_Area',\n",
       " 'Loan_Status']"
      ]
     },
     "execution_count": 127,
     "metadata": {},
     "output_type": "execute_result"
    }
   ],
   "source": [
    "# Non-coded categorical variables\n",
    "none_coded_categorical_variables = list(loan_predic_train.select_dtypes(exclude=[np.number]).columns.values)\n",
    "none_coded_categorical_variables"
   ]
  },
  {
   "cell_type": "code",
   "execution_count": 128,
   "id": "e121e16f-c14d-4a2c-ab98-974f40f21147",
   "metadata": {},
   "outputs": [
    {
     "data": {
      "text/plain": [
       "['Credit_History']"
      ]
     },
     "execution_count": 128,
     "metadata": {},
     "output_type": "execute_result"
    }
   ],
   "source": [
    "# Coded categorical variable is defined above\n",
    "coded_categorical_variables"
   ]
  },
  {
   "cell_type": "code",
   "execution_count": 129,
   "id": "8c2ab6fc-f5b2-4271-84fc-69cceaad81d4",
   "metadata": {},
   "outputs": [
    {
     "data": {
      "text/plain": [
       "['Loan_ID',\n",
       " 'Gender',\n",
       " 'Married',\n",
       " 'Dependents',\n",
       " 'Education',\n",
       " 'Self_Employed',\n",
       " 'Property_Area',\n",
       " 'Loan_Status',\n",
       " 'Credit_History']"
      ]
     },
     "execution_count": 129,
     "metadata": {},
     "output_type": "execute_result"
    }
   ],
   "source": [
    "# Total categorical variables would be coded categorical variables and none coded cat variables\n",
    "all_cat_var = none_coded_categorical_variables+coded_categorical_variables\n",
    "all_cat_var"
   ]
  },
  {
   "cell_type": "code",
   "execution_count": 130,
   "id": "58ca525a-b5c2-4dad-879c-87cc31262e1b",
   "metadata": {},
   "outputs": [
    {
     "data": {
      "text/html": [
       "<div>\n",
       "<style scoped>\n",
       "    .dataframe tbody tr th:only-of-type {\n",
       "        vertical-align: middle;\n",
       "    }\n",
       "\n",
       "    .dataframe tbody tr th {\n",
       "        vertical-align: top;\n",
       "    }\n",
       "\n",
       "    .dataframe thead th {\n",
       "        text-align: right;\n",
       "    }\n",
       "</style>\n",
       "<table border=\"1\" class=\"dataframe\">\n",
       "  <thead>\n",
       "    <tr style=\"text-align: right;\">\n",
       "      <th></th>\n",
       "      <th>Loan_ID</th>\n",
       "      <th>Gender</th>\n",
       "      <th>Married</th>\n",
       "      <th>Dependents</th>\n",
       "      <th>Education</th>\n",
       "      <th>Self_Employed</th>\n",
       "      <th>Property_Area</th>\n",
       "      <th>Loan_Status</th>\n",
       "      <th>Credit_History</th>\n",
       "    </tr>\n",
       "  </thead>\n",
       "  <tbody>\n",
       "    <tr>\n",
       "      <th>0</th>\n",
       "      <td>LP001002</td>\n",
       "      <td>Male</td>\n",
       "      <td>No</td>\n",
       "      <td>0</td>\n",
       "      <td>Graduate</td>\n",
       "      <td>No</td>\n",
       "      <td>Urban</td>\n",
       "      <td>Y</td>\n",
       "      <td>1.0</td>\n",
       "    </tr>\n",
       "    <tr>\n",
       "      <th>1</th>\n",
       "      <td>LP001003</td>\n",
       "      <td>Male</td>\n",
       "      <td>Yes</td>\n",
       "      <td>1</td>\n",
       "      <td>Graduate</td>\n",
       "      <td>No</td>\n",
       "      <td>Rural</td>\n",
       "      <td>N</td>\n",
       "      <td>1.0</td>\n",
       "    </tr>\n",
       "    <tr>\n",
       "      <th>2</th>\n",
       "      <td>LP001005</td>\n",
       "      <td>Male</td>\n",
       "      <td>Yes</td>\n",
       "      <td>0</td>\n",
       "      <td>Graduate</td>\n",
       "      <td>Yes</td>\n",
       "      <td>Urban</td>\n",
       "      <td>Y</td>\n",
       "      <td>1.0</td>\n",
       "    </tr>\n",
       "    <tr>\n",
       "      <th>3</th>\n",
       "      <td>LP001006</td>\n",
       "      <td>Male</td>\n",
       "      <td>Yes</td>\n",
       "      <td>0</td>\n",
       "      <td>Not Graduate</td>\n",
       "      <td>No</td>\n",
       "      <td>Urban</td>\n",
       "      <td>Y</td>\n",
       "      <td>1.0</td>\n",
       "    </tr>\n",
       "    <tr>\n",
       "      <th>4</th>\n",
       "      <td>LP001008</td>\n",
       "      <td>Male</td>\n",
       "      <td>No</td>\n",
       "      <td>0</td>\n",
       "      <td>Graduate</td>\n",
       "      <td>No</td>\n",
       "      <td>Urban</td>\n",
       "      <td>Y</td>\n",
       "      <td>1.0</td>\n",
       "    </tr>\n",
       "    <tr>\n",
       "      <th>...</th>\n",
       "      <td>...</td>\n",
       "      <td>...</td>\n",
       "      <td>...</td>\n",
       "      <td>...</td>\n",
       "      <td>...</td>\n",
       "      <td>...</td>\n",
       "      <td>...</td>\n",
       "      <td>...</td>\n",
       "      <td>...</td>\n",
       "    </tr>\n",
       "    <tr>\n",
       "      <th>609</th>\n",
       "      <td>LP002978</td>\n",
       "      <td>Female</td>\n",
       "      <td>No</td>\n",
       "      <td>0</td>\n",
       "      <td>Graduate</td>\n",
       "      <td>No</td>\n",
       "      <td>Rural</td>\n",
       "      <td>Y</td>\n",
       "      <td>1.0</td>\n",
       "    </tr>\n",
       "    <tr>\n",
       "      <th>610</th>\n",
       "      <td>LP002979</td>\n",
       "      <td>Male</td>\n",
       "      <td>Yes</td>\n",
       "      <td>3+</td>\n",
       "      <td>Graduate</td>\n",
       "      <td>No</td>\n",
       "      <td>Rural</td>\n",
       "      <td>Y</td>\n",
       "      <td>1.0</td>\n",
       "    </tr>\n",
       "    <tr>\n",
       "      <th>611</th>\n",
       "      <td>LP002983</td>\n",
       "      <td>Male</td>\n",
       "      <td>Yes</td>\n",
       "      <td>1</td>\n",
       "      <td>Graduate</td>\n",
       "      <td>No</td>\n",
       "      <td>Urban</td>\n",
       "      <td>Y</td>\n",
       "      <td>1.0</td>\n",
       "    </tr>\n",
       "    <tr>\n",
       "      <th>612</th>\n",
       "      <td>LP002984</td>\n",
       "      <td>Male</td>\n",
       "      <td>Yes</td>\n",
       "      <td>2</td>\n",
       "      <td>Graduate</td>\n",
       "      <td>No</td>\n",
       "      <td>Urban</td>\n",
       "      <td>Y</td>\n",
       "      <td>1.0</td>\n",
       "    </tr>\n",
       "    <tr>\n",
       "      <th>613</th>\n",
       "      <td>LP002990</td>\n",
       "      <td>Female</td>\n",
       "      <td>No</td>\n",
       "      <td>0</td>\n",
       "      <td>Graduate</td>\n",
       "      <td>Yes</td>\n",
       "      <td>Semiurban</td>\n",
       "      <td>N</td>\n",
       "      <td>0.0</td>\n",
       "    </tr>\n",
       "  </tbody>\n",
       "</table>\n",
       "<p>614 rows × 9 columns</p>\n",
       "</div>"
      ],
      "text/plain": [
       "      Loan_ID  Gender Married Dependents     Education Self_Employed  \\\n",
       "0    LP001002    Male      No          0      Graduate            No   \n",
       "1    LP001003    Male     Yes          1      Graduate            No   \n",
       "2    LP001005    Male     Yes          0      Graduate           Yes   \n",
       "3    LP001006    Male     Yes          0  Not Graduate            No   \n",
       "4    LP001008    Male      No          0      Graduate            No   \n",
       "..        ...     ...     ...        ...           ...           ...   \n",
       "609  LP002978  Female      No          0      Graduate            No   \n",
       "610  LP002979    Male     Yes         3+      Graduate            No   \n",
       "611  LP002983    Male     Yes          1      Graduate            No   \n",
       "612  LP002984    Male     Yes          2      Graduate            No   \n",
       "613  LP002990  Female      No          0      Graduate           Yes   \n",
       "\n",
       "    Property_Area Loan_Status  Credit_History  \n",
       "0           Urban           Y             1.0  \n",
       "1           Rural           N             1.0  \n",
       "2           Urban           Y             1.0  \n",
       "3           Urban           Y             1.0  \n",
       "4           Urban           Y             1.0  \n",
       "..            ...         ...             ...  \n",
       "609         Rural           Y             1.0  \n",
       "610         Rural           Y             1.0  \n",
       "611         Urban           Y             1.0  \n",
       "612         Urban           Y             1.0  \n",
       "613     Semiurban           N             0.0  \n",
       "\n",
       "[614 rows x 9 columns]"
      ]
     },
     "execution_count": 130,
     "metadata": {},
     "output_type": "execute_result"
    }
   ],
   "source": [
    "# Create categorical dataset\n",
    "all_categorical_data=loan_predic_train[all_cat_var]\n",
    "all_categorical_data"
   ]
  },
  {
   "cell_type": "code",
   "execution_count": 131,
   "id": "7abf97f5-0839-4322-87d1-1ed07280a8dd",
   "metadata": {},
   "outputs": [
    {
     "name": "stdout",
     "output_type": "stream",
     "text": [
      "Your selected dataframe has 9 columns.\n",
      "There are 5 columns that have missing values.\n"
     ]
    },
    {
     "data": {
      "text/html": [
       "<div>\n",
       "<style scoped>\n",
       "    .dataframe tbody tr th:only-of-type {\n",
       "        vertical-align: middle;\n",
       "    }\n",
       "\n",
       "    .dataframe tbody tr th {\n",
       "        vertical-align: top;\n",
       "    }\n",
       "\n",
       "    .dataframe thead th {\n",
       "        text-align: right;\n",
       "    }\n",
       "</style>\n",
       "<table border=\"1\" class=\"dataframe\">\n",
       "  <thead>\n",
       "    <tr style=\"text-align: right;\">\n",
       "      <th></th>\n",
       "      <th>Missing Values</th>\n",
       "      <th>% of Total Values</th>\n",
       "    </tr>\n",
       "  </thead>\n",
       "  <tbody>\n",
       "    <tr>\n",
       "      <th>Credit_History</th>\n",
       "      <td>50</td>\n",
       "      <td>8.1</td>\n",
       "    </tr>\n",
       "    <tr>\n",
       "      <th>Self_Employed</th>\n",
       "      <td>32</td>\n",
       "      <td>5.2</td>\n",
       "    </tr>\n",
       "    <tr>\n",
       "      <th>Dependents</th>\n",
       "      <td>15</td>\n",
       "      <td>2.4</td>\n",
       "    </tr>\n",
       "    <tr>\n",
       "      <th>Gender</th>\n",
       "      <td>13</td>\n",
       "      <td>2.1</td>\n",
       "    </tr>\n",
       "    <tr>\n",
       "      <th>Married</th>\n",
       "      <td>3</td>\n",
       "      <td>0.5</td>\n",
       "    </tr>\n",
       "  </tbody>\n",
       "</table>\n",
       "</div>"
      ],
      "text/plain": [
       "                Missing Values  % of Total Values\n",
       "Credit_History              50                8.1\n",
       "Self_Employed               32                5.2\n",
       "Dependents                  15                2.4\n",
       "Gender                      13                2.1\n",
       "Married                      3                0.5"
      ]
     },
     "execution_count": 131,
     "metadata": {},
     "output_type": "execute_result"
    }
   ],
   "source": [
    "# Checking null values with function created above\n",
    "create_missing_values_table(all_categorical_data)"
   ]
  },
  {
   "cell_type": "code",
   "execution_count": 132,
   "id": "1d5095b2-b389-42bc-ba40-ce8bd35a669d",
   "metadata": {},
   "outputs": [
    {
     "data": {
      "text/plain": [
       "['Gender', 'Married', 'Dependents', 'Self_Employed', 'Credit_History']"
      ]
     },
     "execution_count": 132,
     "metadata": {},
     "output_type": "execute_result"
    }
   ],
   "source": [
    "# List of categorical variables with missing values\n",
    "cat_variables_with_missing_val = [var for var in all_categorical_data.columns if all_categorical_data[var].isnull().sum() > 0]\n",
    "cat_variables_with_missing_val"
   ]
  },
  {
   "cell_type": "code",
   "execution_count": 133,
   "id": "d65d2f5a-113c-4688-9b60-175084d39b2b",
   "metadata": {},
   "outputs": [],
   "source": [
    "# You may consider deletion as described for numerical variables above\n",
    "# Imputation is done as below"
   ]
  },
  {
   "cell_type": "markdown",
   "id": "eea3ad7b-f21b-43b9-a1fd-37dad5341005",
   "metadata": {},
   "source": [
    "## There are several ways to handle missing values of categorical variables. Here are a few options:\n",
    "\n",
    "- **Deletion** - We have discussed deletion as above. You may refer to them for assumptions and implementation in categorical variable. As there is no difference in what we have done with numerical variables. We are not going to repeat the procedures here.\n",
    "\n",
    "- **Ignore the rows with missing values**: This is only a viable option if the number of rows with missing values is small compared to the total number of rows.\n",
    "\n",
    "- **Impute the missing values**: This involves replacing the missing values with some other value, such as the mode (most frequent value) of the variable. This is a quick and easy option, but it may not always produce the best results.\n",
    "\n",
    "- **Use a separate category for missing values**: This involves creating a new category specifically for missing values. This can be useful if the missing values have some meaningful interpretation.\n",
    "\n",
    "- **Use multiple imputations**: This involves using advanced techniques to impute the missing values in a way that takes into account the uncertainty associated with the imputation. Multiple imputations can produce more accurate results than simple imputation, but it is also more complex and time-consuming.\n",
    "\n",
    "Which option you choose will depend on the nature of your data and the goals of your analysis."
   ]
  },
  {
   "cell_type": "markdown",
   "id": "0f2d04f3-acda-458f-b7c4-b1416eb513bd",
   "metadata": {},
   "source": [
    "### i) Deletion\n",
    "\n",
    ">Refer to deletion as discussed in numerical variables."
   ]
  },
  {
   "cell_type": "markdown",
   "id": "c8d29c53-fe21-4934-8847-bb686f4c8f3a",
   "metadata": {},
   "source": [
    "### ii) Ignore missing values\n",
    "\n",
    ">Leave missing values as they are."
   ]
  },
  {
   "cell_type": "markdown",
   "id": "606fde0c-9ebf-472d-b277-05c54f7058d1",
   "metadata": {},
   "source": [
    "### iii) Impute with most frequent value\n",
    "\n",
    ">We impute with most frequent value. this is common with categorical variables.\n",
    ">\n",
    ">Assumptions: Data is Missing At Random (MAR) and missing values look like the majority.\n",
    "\n",
    ">Description: Replacing NAN values with the most frequent occurred category in variable/column.\n",
    "\n",
    ">Implementation:\n",
    "\n",
    ">Step 1: Find which category occurred most in each category using mode().\n",
    "\n",
    ">Step 2: Replace all NAN values in that column with that category.\n",
    "\n",
    ">Step 3: Check the dataset for missing values\n",
    "\n",
    ">If the number of missing values in a category are less than 10% and other classes are normally distributed then replace missing values with mode of the variable. But is number of missing values are high then its better to treat it as one more value in that category i.e. replace it with 0 value."
   ]
  },
  {
   "cell_type": "code",
   "execution_count": 134,
   "id": "e345ea1d-dcd6-4771-b607-b422df65b26f",
   "metadata": {},
   "outputs": [
    {
     "name": "stdout",
     "output_type": "stream",
     "text": [
      "Credit_History\n",
      "1.0    475\n",
      "0.0     89\n",
      "Name: count, dtype: int64\n",
      "Self_Employed\n",
      "No     500\n",
      "Yes     82\n",
      "Name: count, dtype: int64\n",
      "Dependents\n",
      "0     345\n",
      "1     102\n",
      "2     101\n",
      "3+     51\n",
      "Name: count, dtype: int64\n",
      "Gender\n",
      "Male      489\n",
      "Female    112\n",
      "Name: count, dtype: int64\n",
      "Married\n",
      "Yes    398\n",
      "No     213\n",
      "Name: count, dtype: int64\n"
     ]
    }
   ],
   "source": [
    "print(all_categorical_data['Credit_History'].value_counts())\n",
    "print(all_categorical_data['Self_Employed'].value_counts())\n",
    "print(all_categorical_data['Dependents'].value_counts())\n",
    "print(all_categorical_data['Gender'].value_counts())\n",
    "print(all_categorical_data['Married'].value_counts())"
   ]
  },
  {
   "cell_type": "code",
   "execution_count": 135,
   "id": "b13971fe-ecbc-4a76-888d-8bca3fc9a6b7",
   "metadata": {},
   "outputs": [],
   "source": [
    "# It can be seen that 1 occurs the most times in the credit history column\n",
    "# It can be seen that No occurs the most times in the Self-employed column and so on.\n",
    "# Let’s impute the missing values using the strategy as most_frequent\n",
    "\n",
    "# Model Creation\n",
    "imputer = SimpleImputer(strategy ='most_frequent')\n",
    "# fitting the imputer on the original dataset\n",
    "all_categorical_data_mode = all_categorical_data.copy()\n",
    "imputer.fit(all_categorical_data_mode)\n",
    "# Imputing the missing values in train, validation and test inputs\n",
    "all_categorical_data_mode=imputer.transform(all_categorical_data_mode)"
   ]
  },
  {
   "cell_type": "code",
   "execution_count": 136,
   "id": "03e7e807-a5d7-4945-a09f-e081057d25a2",
   "metadata": {},
   "outputs": [],
   "source": [
    "# Now let’s see the number of missing values in the train_inputs after imputation\n",
    "# Using pd.DataFrame()\n",
    "all_categorical_data_mode_df = pd.DataFrame(all_categorical_data_mode, columns = ['Loan_ID', 'Gender','Married',\\\n",
    "                                                                                  'Dependents','Education','Self_Employed',\\\n",
    "                                                                                  'Property_Area','Loan_Status',\\\n",
    "                                                                                  'Credit_History'])"
   ]
  },
  {
   "cell_type": "code",
   "execution_count": 137,
   "id": "310a94cc-6048-4931-aa6d-d1594e2ead02",
   "metadata": {},
   "outputs": [
    {
     "name": "stdout",
     "output_type": "stream",
     "text": [
      "Your selected dataframe has 9 columns.\n",
      "There are 0 columns that have missing values.\n"
     ]
    },
    {
     "data": {
      "text/html": [
       "<div>\n",
       "<style scoped>\n",
       "    .dataframe tbody tr th:only-of-type {\n",
       "        vertical-align: middle;\n",
       "    }\n",
       "\n",
       "    .dataframe tbody tr th {\n",
       "        vertical-align: top;\n",
       "    }\n",
       "\n",
       "    .dataframe thead th {\n",
       "        text-align: right;\n",
       "    }\n",
       "</style>\n",
       "<table border=\"1\" class=\"dataframe\">\n",
       "  <thead>\n",
       "    <tr style=\"text-align: right;\">\n",
       "      <th></th>\n",
       "      <th>Missing Values</th>\n",
       "      <th>% of Total Values</th>\n",
       "    </tr>\n",
       "  </thead>\n",
       "  <tbody>\n",
       "  </tbody>\n",
       "</table>\n",
       "</div>"
      ],
      "text/plain": [
       "Empty DataFrame\n",
       "Columns: [Missing Values, % of Total Values]\n",
       "Index: []"
      ]
     },
     "execution_count": 137,
     "metadata": {},
     "output_type": "execute_result"
    }
   ],
   "source": [
    "# Checking null values with function created above\n",
    "create_missing_values_table(all_categorical_data_mode_df)"
   ]
  },
  {
   "cell_type": "markdown",
   "id": "53d638b3-c251-4636-9c76-fed299c10fec",
   "metadata": {},
   "source": [
    "***Advantage***: Simple and easy to implement for categorical variables/columns.\n",
    "\n",
    "***Disadvantage***:\n",
    "\n",
    "- Features having a max number of null values may bias prediction if replace with the most occurred category.\n",
    "- It distorts the relation of the most frequent label."
   ]
  },
  {
   "cell_type": "markdown",
   "id": "0b9a80d4-ff47-4caa-bfae-6442432ef09f",
   "metadata": {},
   "source": [
    "### iii) Use separate category for missing values\n",
    "\n",
    ">This involves creating a new category specifically for missing values. This can be useful if the missing values have some meaningful interpretation.\n",
    ">This approach allows us to preserve the original data without distorting the existing categories. For example, we could assign the category ‘Unknown’ to represent missing values."
   ]
  },
  {
   "cell_type": "code",
   "execution_count": 138,
   "id": "986e1f1c-bbb1-4392-9286-77c18a7316be",
   "metadata": {},
   "outputs": [
    {
     "name": "stdout",
     "output_type": "stream",
     "text": [
      "Your selected dataframe has 9 columns.\n",
      "There are 5 columns that have missing values.\n"
     ]
    },
    {
     "data": {
      "text/html": [
       "<div>\n",
       "<style scoped>\n",
       "    .dataframe tbody tr th:only-of-type {\n",
       "        vertical-align: middle;\n",
       "    }\n",
       "\n",
       "    .dataframe tbody tr th {\n",
       "        vertical-align: top;\n",
       "    }\n",
       "\n",
       "    .dataframe thead th {\n",
       "        text-align: right;\n",
       "    }\n",
       "</style>\n",
       "<table border=\"1\" class=\"dataframe\">\n",
       "  <thead>\n",
       "    <tr style=\"text-align: right;\">\n",
       "      <th></th>\n",
       "      <th>Missing Values</th>\n",
       "      <th>% of Total Values</th>\n",
       "    </tr>\n",
       "  </thead>\n",
       "  <tbody>\n",
       "    <tr>\n",
       "      <th>Credit_History</th>\n",
       "      <td>50</td>\n",
       "      <td>8.1</td>\n",
       "    </tr>\n",
       "    <tr>\n",
       "      <th>Self_Employed</th>\n",
       "      <td>32</td>\n",
       "      <td>5.2</td>\n",
       "    </tr>\n",
       "    <tr>\n",
       "      <th>Dependents</th>\n",
       "      <td>15</td>\n",
       "      <td>2.4</td>\n",
       "    </tr>\n",
       "    <tr>\n",
       "      <th>Gender</th>\n",
       "      <td>13</td>\n",
       "      <td>2.1</td>\n",
       "    </tr>\n",
       "    <tr>\n",
       "      <th>Married</th>\n",
       "      <td>3</td>\n",
       "      <td>0.5</td>\n",
       "    </tr>\n",
       "  </tbody>\n",
       "</table>\n",
       "</div>"
      ],
      "text/plain": [
       "                Missing Values  % of Total Values\n",
       "Credit_History              50                8.1\n",
       "Self_Employed               32                5.2\n",
       "Dependents                  15                2.4\n",
       "Gender                      13                2.1\n",
       "Married                      3                0.5"
      ]
     },
     "execution_count": 138,
     "metadata": {},
     "output_type": "execute_result"
    }
   ],
   "source": [
    "# Checking null values with function created above\n",
    "create_missing_values_table(all_categorical_data)"
   ]
  },
  {
   "cell_type": "code",
   "execution_count": 139,
   "id": "f269241b-1b4b-44d1-93b4-2a4551cd6925",
   "metadata": {},
   "outputs": [],
   "source": [
    "# For example if we realized that the respondents who have not filled out the gender variable are\n",
    "# Those who preferred not to disclose their gender, and infact, we are interested in their characteristics\n",
    "# In such cases, instead of filling the missing values with most frequent response, we use a different category\n",
    "# For this demo, we use \"prefer not to say\" for the gender missing values."
   ]
  },
  {
   "cell_type": "code",
   "execution_count": 140,
   "id": "43bf5b90-86e4-46a0-b40f-094ab069560d",
   "metadata": {},
   "outputs": [
    {
     "data": {
      "text/html": [
       "<div>\n",
       "<style scoped>\n",
       "    .dataframe tbody tr th:only-of-type {\n",
       "        vertical-align: middle;\n",
       "    }\n",
       "\n",
       "    .dataframe tbody tr th {\n",
       "        vertical-align: top;\n",
       "    }\n",
       "\n",
       "    .dataframe thead th {\n",
       "        text-align: right;\n",
       "    }\n",
       "</style>\n",
       "<table border=\"1\" class=\"dataframe\">\n",
       "  <thead>\n",
       "    <tr style=\"text-align: right;\">\n",
       "      <th></th>\n",
       "      <th>Loan_ID</th>\n",
       "      <th>Gender</th>\n",
       "      <th>Married</th>\n",
       "      <th>Dependents</th>\n",
       "      <th>Education</th>\n",
       "      <th>Self_Employed</th>\n",
       "      <th>Property_Area</th>\n",
       "      <th>Loan_Status</th>\n",
       "      <th>Credit_History</th>\n",
       "    </tr>\n",
       "  </thead>\n",
       "  <tbody>\n",
       "    <tr>\n",
       "      <th>613</th>\n",
       "      <td>LP002990</td>\n",
       "      <td>Female</td>\n",
       "      <td>No</td>\n",
       "      <td>0</td>\n",
       "      <td>Graduate</td>\n",
       "      <td>Yes</td>\n",
       "      <td>Semiurban</td>\n",
       "      <td>N</td>\n",
       "      <td>0.0</td>\n",
       "    </tr>\n",
       "    <tr>\n",
       "      <th>463</th>\n",
       "      <td>LP002489</td>\n",
       "      <td>Female</td>\n",
       "      <td>No</td>\n",
       "      <td>1</td>\n",
       "      <td>Not Graduate</td>\n",
       "      <td>NaN</td>\n",
       "      <td>Semiurban</td>\n",
       "      <td>Y</td>\n",
       "      <td>1.0</td>\n",
       "    </tr>\n",
       "    <tr>\n",
       "      <th>184</th>\n",
       "      <td>LP001639</td>\n",
       "      <td>Female</td>\n",
       "      <td>Yes</td>\n",
       "      <td>0</td>\n",
       "      <td>Graduate</td>\n",
       "      <td>No</td>\n",
       "      <td>Semiurban</td>\n",
       "      <td>Y</td>\n",
       "      <td>1.0</td>\n",
       "    </tr>\n",
       "    <tr>\n",
       "      <th>197</th>\n",
       "      <td>LP001669</td>\n",
       "      <td>Female</td>\n",
       "      <td>No</td>\n",
       "      <td>0</td>\n",
       "      <td>Not Graduate</td>\n",
       "      <td>No</td>\n",
       "      <td>Urban</td>\n",
       "      <td>Y</td>\n",
       "      <td>1.0</td>\n",
       "    </tr>\n",
       "    <tr>\n",
       "      <th>198</th>\n",
       "      <td>LP001671</td>\n",
       "      <td>Female</td>\n",
       "      <td>Yes</td>\n",
       "      <td>0</td>\n",
       "      <td>Graduate</td>\n",
       "      <td>No</td>\n",
       "      <td>Semiurban</td>\n",
       "      <td>Y</td>\n",
       "      <td>NaN</td>\n",
       "    </tr>\n",
       "    <tr>\n",
       "      <th>...</th>\n",
       "      <td>...</td>\n",
       "      <td>...</td>\n",
       "      <td>...</td>\n",
       "      <td>...</td>\n",
       "      <td>...</td>\n",
       "      <td>...</td>\n",
       "      <td>...</td>\n",
       "      <td>...</td>\n",
       "      <td>...</td>\n",
       "    </tr>\n",
       "    <tr>\n",
       "      <th>477</th>\n",
       "      <td>LP002530</td>\n",
       "      <td>NaN</td>\n",
       "      <td>Yes</td>\n",
       "      <td>2</td>\n",
       "      <td>Graduate</td>\n",
       "      <td>No</td>\n",
       "      <td>Semiurban</td>\n",
       "      <td>N</td>\n",
       "      <td>0.0</td>\n",
       "    </tr>\n",
       "    <tr>\n",
       "      <th>507</th>\n",
       "      <td>LP002625</td>\n",
       "      <td>NaN</td>\n",
       "      <td>No</td>\n",
       "      <td>0</td>\n",
       "      <td>Graduate</td>\n",
       "      <td>No</td>\n",
       "      <td>Urban</td>\n",
       "      <td>N</td>\n",
       "      <td>1.0</td>\n",
       "    </tr>\n",
       "    <tr>\n",
       "      <th>576</th>\n",
       "      <td>LP002872</td>\n",
       "      <td>NaN</td>\n",
       "      <td>Yes</td>\n",
       "      <td>0</td>\n",
       "      <td>Graduate</td>\n",
       "      <td>No</td>\n",
       "      <td>Semiurban</td>\n",
       "      <td>N</td>\n",
       "      <td>0.0</td>\n",
       "    </tr>\n",
       "    <tr>\n",
       "      <th>588</th>\n",
       "      <td>LP002925</td>\n",
       "      <td>NaN</td>\n",
       "      <td>No</td>\n",
       "      <td>0</td>\n",
       "      <td>Graduate</td>\n",
       "      <td>No</td>\n",
       "      <td>Semiurban</td>\n",
       "      <td>Y</td>\n",
       "      <td>1.0</td>\n",
       "    </tr>\n",
       "    <tr>\n",
       "      <th>592</th>\n",
       "      <td>LP002933</td>\n",
       "      <td>NaN</td>\n",
       "      <td>No</td>\n",
       "      <td>3+</td>\n",
       "      <td>Graduate</td>\n",
       "      <td>Yes</td>\n",
       "      <td>Semiurban</td>\n",
       "      <td>Y</td>\n",
       "      <td>1.0</td>\n",
       "    </tr>\n",
       "  </tbody>\n",
       "</table>\n",
       "<p>614 rows × 9 columns</p>\n",
       "</div>"
      ],
      "text/plain": [
       "      Loan_ID  Gender Married Dependents     Education Self_Employed  \\\n",
       "613  LP002990  Female      No          0      Graduate           Yes   \n",
       "463  LP002489  Female      No          1  Not Graduate           NaN   \n",
       "184  LP001639  Female     Yes          0      Graduate            No   \n",
       "197  LP001669  Female      No          0  Not Graduate            No   \n",
       "198  LP001671  Female     Yes          0      Graduate            No   \n",
       "..        ...     ...     ...        ...           ...           ...   \n",
       "477  LP002530     NaN     Yes          2      Graduate            No   \n",
       "507  LP002625     NaN      No          0      Graduate            No   \n",
       "576  LP002872     NaN     Yes          0      Graduate            No   \n",
       "588  LP002925     NaN      No          0      Graduate            No   \n",
       "592  LP002933     NaN      No         3+      Graduate           Yes   \n",
       "\n",
       "    Property_Area Loan_Status  Credit_History  \n",
       "613     Semiurban           N             0.0  \n",
       "463     Semiurban           Y             1.0  \n",
       "184     Semiurban           Y             1.0  \n",
       "197         Urban           Y             1.0  \n",
       "198     Semiurban           Y             NaN  \n",
       "..            ...         ...             ...  \n",
       "477     Semiurban           N             0.0  \n",
       "507         Urban           N             1.0  \n",
       "576     Semiurban           N             0.0  \n",
       "588     Semiurban           Y             1.0  \n",
       "592     Semiurban           Y             1.0  \n",
       "\n",
       "[614 rows x 9 columns]"
      ]
     },
     "execution_count": 140,
     "metadata": {},
     "output_type": "execute_result"
    }
   ],
   "source": [
    "all_categorical_data.sort_values('Gender')"
   ]
  },
  {
   "cell_type": "code",
   "execution_count": 141,
   "id": "ffafe733-dae2-4e58-8062-ae54ab4317d4",
   "metadata": {},
   "outputs": [
    {
     "name": "stdout",
     "output_type": "stream",
     "text": [
      "===================================================================================================\n",
      "Your selected column has 13 null values.\n",
      "After handling with abitrary value fill, there are 0 missing values.\n",
      "===================================================================================================\n"
     ]
    }
   ],
   "source": [
    "# For this case, where we are filling only one column, I don't see a need to use SimpleImputer\n",
    "# Which is perfect when we impute entire missing values in the dataset. Instead,\n",
    "\n",
    "# Make a copy of your dataset\n",
    "all_categorical_data_const_Gender = all_categorical_data.copy()\n",
    "\n",
    "# Replace the missing value with '0' using 'fiilna' method\n",
    "all_categorical_data_const_Gender[\"Gender\"] = all_categorical_data_const_Gender[\"Gender\"].fillna(\"Prefer not to say\")\n",
    "\n",
    "print(\"===================================================================================================\")\n",
    "print (\"Your selected column has \" + str(all_categorical_data[\"Gender\"].isnull().sum()) + \" null values.\\n\"      \n",
    "            \"After handling with abitrary value fill, there are \" + str(all_categorical_data_const_Gender[\"Gender\"].isnull().sum()) +\n",
    "              \" missing values.\")\n",
    "print(\"===================================================================================================\")"
   ]
  },
  {
   "cell_type": "code",
   "execution_count": 142,
   "id": "2801b563-37d4-419d-80ef-b196c11d27b2",
   "metadata": {},
   "outputs": [
    {
     "data": {
      "text/plain": [
       "Gender\n",
       "Male                 489\n",
       "Female               112\n",
       "Prefer not to say     13\n",
       "Name: count, dtype: int64"
      ]
     },
     "execution_count": 142,
     "metadata": {},
     "output_type": "execute_result"
    }
   ],
   "source": [
    "# As you may have thought, we have created a new category of respondents who might show a different character\n",
    "# The individuals who are not ready to disclose their gender are equal to previous missing values = 13\n",
    "all_categorical_data_const_Gender[\"Gender\"].value_counts()"
   ]
  },
  {
   "cell_type": "markdown",
   "id": "97b9442f-cffe-4ae1-9c79-9bd49e7f3999",
   "metadata": {},
   "source": [
    "---\n",
    "---\n",
    "---\n",
    "---"
   ]
  },
  {
   "cell_type": "code",
   "execution_count": 165,
   "id": "5a99383d-4c1d-4e30-89bd-537e1df5694f",
   "metadata": {},
   "outputs": [
    {
     "name": "stdout",
     "output_type": "stream",
     "text": [
      "['Gender', 'Married', 'Dependents', 'Self_Employed', 'Credit_History']\n",
      "     Gender Married Dependents Self_Employed  Credit_History\n",
      "0      Male      No          0            No             1.0\n",
      "1      Male     Yes          1            No             1.0\n",
      "2      Male     Yes          0           Yes             1.0\n",
      "3      Male     Yes          0            No             1.0\n",
      "4      Male      No          0            No             1.0\n",
      "..      ...     ...        ...           ...             ...\n",
      "609  Female      No          0            No             1.0\n",
      "610    Male     Yes         3+            No             1.0\n",
      "611    Male     Yes          1            No             1.0\n",
      "612    Male     Yes          2            No             1.0\n",
      "613  Female      No          0           Yes             0.0\n",
      "\n",
      "[614 rows x 5 columns]\n"
     ]
    }
   ],
   "source": [
    "# If I want to use for example a constant value for gender and mode for for marriage,\n",
    "# I can use ColumnTransformer and SimpleImputer\n",
    "\n",
    "# Get categorical variables with missing values as above;\n",
    "cat_variables_with_missing_val\n",
    "print(cat_variables_with_missing_val)\n",
    "\n",
    "# Create dataset with only categorical missing values\n",
    "cat_data_with_missing_val = all_categorical_data[cat_variables_with_missing_val]\n",
    "print(cat_data_with_missing_val)\n",
    "\n",
    "# Transform the column of this data with each column having its own stategy\n",
    "from sklearn.compose import ColumnTransformer\n",
    "\n",
    "column_trans = ColumnTransformer(\n",
    "[('imp_col1', SimpleImputer(strategy='constant', fill_value=\"Prefer not to say\"), [1]),\n",
    " ('imp_col2', SimpleImputer(strategy='constant', fill_value=\"Done with marriage\"), [2]),\n",
    " (\"imp_col3\", SimpleImputer(strategy='constant', fill_value=\"Got no dependent\"), [3]),\n",
    " (\"imp_col4\", SimpleImputer(strategy='constant', fill_value=99), [4])],\n",
    "remainder='passthrough')"
   ]
  },
  {
   "cell_type": "code",
   "execution_count": 166,
   "id": "22f36715-9339-4312-ae31-4ade21b20d8d",
   "metadata": {},
   "outputs": [],
   "source": [
    "all_categorical_data_10 = cat_data_with_missing_val.copy()\n",
    "\n",
    "all_categorical_data_10 = column_trans.fit_transform(all_categorical_data_10)"
   ]
  },
  {
   "cell_type": "code",
   "execution_count": 167,
   "id": "8822541e-bde7-4837-a3dc-e7e17d6e6270",
   "metadata": {},
   "outputs": [],
   "source": [
    "all_categorical_data_10_df = pd.DataFrame(all_categorical_data_10, columns = ['Gender','Married',\\\n",
    "                                                                                  'Dependents','Self_Employed',\\\n",
    "                                                                                  'Credit_History'])"
   ]
  },
  {
   "cell_type": "code",
   "execution_count": 170,
   "id": "380c4206-7c34-47e3-b981-55e1e8f989e0",
   "metadata": {},
   "outputs": [
    {
     "data": {
      "text/plain": [
       "Married\n",
       "Yes    398\n",
       "No     213\n",
       "Name: count, dtype: int64"
      ]
     },
     "execution_count": 170,
     "metadata": {},
     "output_type": "execute_result"
    }
   ],
   "source": [
    "all_categorical_data_const_Gender[\"Married\"].value_counts()"
   ]
  },
  {
   "cell_type": "markdown",
   "id": "bde092a2-e7ea-4315-aad5-0bf19666b936",
   "metadata": {},
   "source": [
    "---\n",
    "---\n",
    "---\n",
    "---"
   ]
  },
  {
   "cell_type": "markdown",
   "id": "afa360b0-c986-469e-9ddb-8086f5139403",
   "metadata": {},
   "source": [
    "### iv) Use multiple imputation\n",
    "> ### KNN Imputer\n",
    ">This imputer utilizes the k-Nearest Neighbors method to replace the missing values in the datasets with the mean value from the parameter ‘n_neighbors’ nearest neighbors found in the training set.\r\n",
    "By default, it uses a Euclidean distance metric to impute the missing values\n",
    ">\n",
    "> For this imputation, we first need to perform encoding as does not recognize text data values and will throw error if we do not change these values to numerical values. I am doing mapping, you can also go with LabelEncoding or OneHotEncoding.\n",
    ">"
   ]
  },
  {
   "cell_type": "code",
   "execution_count": 175,
   "id": "43b85256-3239-4ece-a10d-4d1e53a4e7e3",
   "metadata": {},
   "outputs": [
    {
     "data": {
      "text/plain": [
       "array(['Male', 'Female', nan], dtype=object)"
      ]
     },
     "execution_count": 175,
     "metadata": {},
     "output_type": "execute_result"
    }
   ],
   "source": [
    "# Taking only gender\n",
    "all_categorical_data[\"Gender\"].unique()"
   ]
  },
  {
   "cell_type": "code",
   "execution_count": 182,
   "id": "17e2c28f-e1a2-45e0-8945-ad34a3e01aea",
   "metadata": {},
   "outputs": [
    {
     "data": {
      "text/html": [
       "<div>\n",
       "<style scoped>\n",
       "    .dataframe tbody tr th:only-of-type {\n",
       "        vertical-align: middle;\n",
       "    }\n",
       "\n",
       "    .dataframe tbody tr th {\n",
       "        vertical-align: top;\n",
       "    }\n",
       "\n",
       "    .dataframe thead th {\n",
       "        text-align: right;\n",
       "    }\n",
       "</style>\n",
       "<table border=\"1\" class=\"dataframe\">\n",
       "  <thead>\n",
       "    <tr style=\"text-align: right;\">\n",
       "      <th></th>\n",
       "      <th>Gender</th>\n",
       "    </tr>\n",
       "  </thead>\n",
       "  <tbody>\n",
       "    <tr>\n",
       "      <th>0</th>\n",
       "      <td>1.0</td>\n",
       "    </tr>\n",
       "    <tr>\n",
       "      <th>1</th>\n",
       "      <td>1.0</td>\n",
       "    </tr>\n",
       "    <tr>\n",
       "      <th>2</th>\n",
       "      <td>1.0</td>\n",
       "    </tr>\n",
       "    <tr>\n",
       "      <th>3</th>\n",
       "      <td>1.0</td>\n",
       "    </tr>\n",
       "    <tr>\n",
       "      <th>4</th>\n",
       "      <td>1.0</td>\n",
       "    </tr>\n",
       "    <tr>\n",
       "      <th>...</th>\n",
       "      <td>...</td>\n",
       "    </tr>\n",
       "    <tr>\n",
       "      <th>609</th>\n",
       "      <td>2.0</td>\n",
       "    </tr>\n",
       "    <tr>\n",
       "      <th>610</th>\n",
       "      <td>1.0</td>\n",
       "    </tr>\n",
       "    <tr>\n",
       "      <th>611</th>\n",
       "      <td>1.0</td>\n",
       "    </tr>\n",
       "    <tr>\n",
       "      <th>612</th>\n",
       "      <td>1.0</td>\n",
       "    </tr>\n",
       "    <tr>\n",
       "      <th>613</th>\n",
       "      <td>2.0</td>\n",
       "    </tr>\n",
       "  </tbody>\n",
       "</table>\n",
       "<p>614 rows × 1 columns</p>\n",
       "</div>"
      ],
      "text/plain": [
       "     Gender\n",
       "0       1.0\n",
       "1       1.0\n",
       "2       1.0\n",
       "3       1.0\n",
       "4       1.0\n",
       "..      ...\n",
       "609     2.0\n",
       "610     1.0\n",
       "611     1.0\n",
       "612     1.0\n",
       "613     2.0\n",
       "\n",
       "[614 rows x 1 columns]"
      ]
     },
     "execution_count": 182,
     "metadata": {},
     "output_type": "execute_result"
    }
   ],
   "source": [
    "# Lets do the mapping with pandas\n",
    "all_categorical_data_map_gender = all_categorical_data.copy()\n",
    "\n",
    "all_categorical_data_map_gender = all_categorical_data_map_gender[['Gender']]\n",
    "all_categorical_data_map_gender['Gender'] = all_categorical_data_map_gender['Gender'].map({'Male':1, 'Female':2})\n",
    "all_categorical_data_map_gender"
   ]
  },
  {
   "cell_type": "code",
   "execution_count": 183,
   "id": "d5f98668-7edc-437a-9e25-847de8479d4f",
   "metadata": {},
   "outputs": [],
   "source": [
    "from sklearn.impute import KNNImputer\n",
    "\n",
    "imputer = KNNImputer(n_neighbors=10)\n",
    "all_categorical_data_map_gender = pd.DataFrame(imputer.fit_transform(all_categorical_data_map_gender),columns = all_categorical_data_map_gender.columns)"
   ]
  },
  {
   "cell_type": "code",
   "execution_count": 184,
   "id": "464c5e3c-e391-44e5-a4c2-f32f0d25a815",
   "metadata": {},
   "outputs": [
    {
     "data": {
      "text/plain": [
       "Gender    0\n",
       "dtype: int64"
      ]
     },
     "execution_count": 184,
     "metadata": {},
     "output_type": "execute_result"
    }
   ],
   "source": [
    "all_categorical_data_map_gender.isnull().sum()\n"
   ]
  },
  {
   "cell_type": "markdown",
   "id": "aa7322d9-9610-4bc8-b9d8-2068844d58d9",
   "metadata": {},
   "source": [
    "## Conclusion\n",
    "> Well, there is no single best way to handle missing values. One needs to experiment with different methods and then decide which method is best for a particular problem."
   ]
  },
  {
   "cell_type": "markdown",
   "id": "838c471b-2437-41c5-b99b-4a856bb494cb",
   "metadata": {},
   "source": [
    "## References and good resources\n",
    "> - https://campus.datacamp.com/courses/dealing-with-missing-data-in-python/the-problem-with-missing-data?ex=1\n",
    "> - https://towardsdatascience.com/how-to-handle-missing-data-8646b18db0d4"
   ]
  },
  {
   "cell_type": "code",
   "execution_count": null,
   "id": "2153f8ac-b1de-4323-bcb4-831d6772f214",
   "metadata": {},
   "outputs": [],
   "source": []
  }
 ],
 "metadata": {
  "kernelspec": {
   "display_name": "Python 3 (ipykernel)",
   "language": "python",
   "name": "python3"
  },
  "language_info": {
   "codemirror_mode": {
    "name": "ipython",
    "version": 3
   },
   "file_extension": ".py",
   "mimetype": "text/x-python",
   "name": "python",
   "nbconvert_exporter": "python",
   "pygments_lexer": "ipython3",
   "version": "3.11.7"
  }
 },
 "nbformat": 4,
 "nbformat_minor": 5
}
