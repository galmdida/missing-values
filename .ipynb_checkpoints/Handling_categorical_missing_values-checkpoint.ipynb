{
 "cells": [
  {
   "cell_type": "markdown",
   "id": "ddb2aec8-53cc-406a-bc15-40e489600b2b",
   "metadata": {},
   "source": [
    "# Handling Categorical Missing Values in Python"
   ]
  },
  {
   "cell_type": "markdown",
   "id": "84e8cf41-7d47-449b-b7b8-d830c189442b",
   "metadata": {},
   "source": [
    "***Categorical variables*** are a type of variable used in statistics and data science to represent qualitative or nominal data. These variables can be defined as a class or category of data that cannot be quantified continuously, but only discretely.\n",
    "\n",
    ">For example, an example of a categorical variable might be a person’s eye color, which can be blue, green, or brown.\n",
    "\n",
    ">>*Most learning models don’t work with data in a categorical format. We must first convert them into numeric format so that the information is preserved.*\n",
    "\n",
    ">***Categorical variables can be classified into two types:***\n",
    ">> - Nominal\n",
    ">> - Ordinal\n",
    "\n",
    ">**Nominal variables** are variables that are not constrained by a precise order. Gender, color, or brands are examples of nominal variables since they are not sortable.\n",
    "\n",
    ">**Ordinal variables** are instead categorical variables divided into logically orderable levels. A column in a dataset that consists of levels such as First, Second, and Third can be considered an ordinal categorical variable.\n",
    "\n",
    ">***You can go deeper into the breakdown of categorical variables by considering binary and cyclic variables.***\n",
    "\n",
    ">> - **A binary variable** is simple to understand: it is a categorical variable that can only take on two values.\n",
    "\n",
    ">> - **A cyclic variable**, on the other hand, is characterized by a repetition of its values. For example, the days of the week are cyclical, and so are the seasons."
   ]
  },
  {
   "cell_type": "markdown",
   "id": "11ba2cb3-6dd1-4e04-8e51-25d5c8030c95",
   "metadata": {},
   "source": [
    "# Libraries"
   ]
  },
  {
   "cell_type": "code",
   "execution_count": 1,
   "id": "318bed5a-d683-4a7b-8958-dc24bd8747cb",
   "metadata": {},
   "outputs": [],
   "source": [
    "# Handling data structures\n",
    "import pandas as pd\n",
    "import numpy as np\n",
    "\n",
    "# Detecting and visualizing missing values\n",
    "import missingno as msno\n",
    "\n",
    "# Removing warnings\n",
    "import warnings\n",
    "\n",
    "# Missing value univariate imputer\n",
    "from sklearn.impute import SimpleImputer\n",
    "\n",
    "# Missing values multivariate imputer\n",
    "from sklearn.experimental import enable_iterative_imputer\n",
    "from sklearn.impute import IterativeImputer"
   ]
  },
  {
   "cell_type": "markdown",
   "id": "3f22ab3e-b0ae-4385-9b68-f8a27a307b9c",
   "metadata": {},
   "source": [
    "# Dataset"
   ]
  },
  {
   "cell_type": "markdown",
   "id": "dc85b832-86f7-4921-ada1-8ea0c3ace776",
   "metadata": {},
   "source": [
    "We are going to use loan model dataset with both numerical and categorical variable emulating real word data problems, The data link will be shared with trainees"
   ]
  },
  {
   "cell_type": "code",
   "execution_count": 2,
   "id": "59ff297f-6ce7-485c-9cef-9f5fa2b73a02",
   "metadata": {},
   "outputs": [],
   "source": [
    "loan_data = pd.read_csv(\"C:/Users/ADMIN/Documents/PYTHON BLOG DATA AND NOTEBOOKS/Data cleaning/\" + \n",
    "\"Handling missing values/datasets/train_ctrUa4K.csv\")"
   ]
  },
  {
   "cell_type": "markdown",
   "id": "14034fee-d02a-45d7-be42-b0e718499eec",
   "metadata": {},
   "source": [
    "## Show first few rows"
   ]
  },
  {
   "cell_type": "code",
   "execution_count": 3,
   "id": "5043193c-dbd3-4a51-8d98-bb7022a618fa",
   "metadata": {},
   "outputs": [
    {
     "data": {
      "text/html": [
       "<div>\n",
       "<style scoped>\n",
       "    .dataframe tbody tr th:only-of-type {\n",
       "        vertical-align: middle;\n",
       "    }\n",
       "\n",
       "    .dataframe tbody tr th {\n",
       "        vertical-align: top;\n",
       "    }\n",
       "\n",
       "    .dataframe thead th {\n",
       "        text-align: right;\n",
       "    }\n",
       "</style>\n",
       "<table border=\"1\" class=\"dataframe\">\n",
       "  <thead>\n",
       "    <tr style=\"text-align: right;\">\n",
       "      <th></th>\n",
       "      <th>Loan_ID</th>\n",
       "      <th>Gender</th>\n",
       "      <th>Married</th>\n",
       "      <th>Dependents</th>\n",
       "      <th>Education</th>\n",
       "      <th>Self_Employed</th>\n",
       "      <th>ApplicantIncome</th>\n",
       "      <th>CoapplicantIncome</th>\n",
       "      <th>LoanAmount</th>\n",
       "      <th>Loan_Amount_Term</th>\n",
       "      <th>Credit_History</th>\n",
       "      <th>Property_Area</th>\n",
       "      <th>Loan_Status</th>\n",
       "    </tr>\n",
       "  </thead>\n",
       "  <tbody>\n",
       "    <tr>\n",
       "      <th>0</th>\n",
       "      <td>LP001002</td>\n",
       "      <td>Male</td>\n",
       "      <td>No</td>\n",
       "      <td>0</td>\n",
       "      <td>Graduate</td>\n",
       "      <td>No</td>\n",
       "      <td>5849</td>\n",
       "      <td>0.0</td>\n",
       "      <td>NaN</td>\n",
       "      <td>360.0</td>\n",
       "      <td>1.0</td>\n",
       "      <td>Urban</td>\n",
       "      <td>Y</td>\n",
       "    </tr>\n",
       "    <tr>\n",
       "      <th>1</th>\n",
       "      <td>LP001003</td>\n",
       "      <td>Male</td>\n",
       "      <td>Yes</td>\n",
       "      <td>1</td>\n",
       "      <td>Graduate</td>\n",
       "      <td>No</td>\n",
       "      <td>4583</td>\n",
       "      <td>1508.0</td>\n",
       "      <td>128.0</td>\n",
       "      <td>360.0</td>\n",
       "      <td>1.0</td>\n",
       "      <td>Rural</td>\n",
       "      <td>N</td>\n",
       "    </tr>\n",
       "    <tr>\n",
       "      <th>2</th>\n",
       "      <td>LP001005</td>\n",
       "      <td>Male</td>\n",
       "      <td>Yes</td>\n",
       "      <td>0</td>\n",
       "      <td>Graduate</td>\n",
       "      <td>Yes</td>\n",
       "      <td>3000</td>\n",
       "      <td>0.0</td>\n",
       "      <td>66.0</td>\n",
       "      <td>360.0</td>\n",
       "      <td>1.0</td>\n",
       "      <td>Urban</td>\n",
       "      <td>Y</td>\n",
       "    </tr>\n",
       "    <tr>\n",
       "      <th>3</th>\n",
       "      <td>LP001006</td>\n",
       "      <td>Male</td>\n",
       "      <td>Yes</td>\n",
       "      <td>0</td>\n",
       "      <td>Not Graduate</td>\n",
       "      <td>No</td>\n",
       "      <td>2583</td>\n",
       "      <td>2358.0</td>\n",
       "      <td>120.0</td>\n",
       "      <td>360.0</td>\n",
       "      <td>1.0</td>\n",
       "      <td>Urban</td>\n",
       "      <td>Y</td>\n",
       "    </tr>\n",
       "    <tr>\n",
       "      <th>4</th>\n",
       "      <td>LP001008</td>\n",
       "      <td>Male</td>\n",
       "      <td>No</td>\n",
       "      <td>0</td>\n",
       "      <td>Graduate</td>\n",
       "      <td>No</td>\n",
       "      <td>6000</td>\n",
       "      <td>0.0</td>\n",
       "      <td>141.0</td>\n",
       "      <td>360.0</td>\n",
       "      <td>1.0</td>\n",
       "      <td>Urban</td>\n",
       "      <td>Y</td>\n",
       "    </tr>\n",
       "  </tbody>\n",
       "</table>\n",
       "</div>"
      ],
      "text/plain": [
       "    Loan_ID Gender Married Dependents     Education Self_Employed  \\\n",
       "0  LP001002   Male      No          0      Graduate            No   \n",
       "1  LP001003   Male     Yes          1      Graduate            No   \n",
       "2  LP001005   Male     Yes          0      Graduate           Yes   \n",
       "3  LP001006   Male     Yes          0  Not Graduate            No   \n",
       "4  LP001008   Male      No          0      Graduate            No   \n",
       "\n",
       "   ApplicantIncome  CoapplicantIncome  LoanAmount  Loan_Amount_Term  \\\n",
       "0             5849                0.0         NaN             360.0   \n",
       "1             4583             1508.0       128.0             360.0   \n",
       "2             3000                0.0        66.0             360.0   \n",
       "3             2583             2358.0       120.0             360.0   \n",
       "4             6000                0.0       141.0             360.0   \n",
       "\n",
       "   Credit_History Property_Area Loan_Status  \n",
       "0             1.0         Urban           Y  \n",
       "1             1.0         Rural           N  \n",
       "2             1.0         Urban           Y  \n",
       "3             1.0         Urban           Y  \n",
       "4             1.0         Urban           Y  "
      ]
     },
     "execution_count": 3,
     "metadata": {},
     "output_type": "execute_result"
    }
   ],
   "source": [
    "loan_data.head()"
   ]
  },
  {
   "cell_type": "markdown",
   "id": "d34cb4d9-7e40-4828-acb9-eef7d77ec027",
   "metadata": {},
   "source": [
    "## See the shape of the data"
   ]
  },
  {
   "cell_type": "code",
   "execution_count": 4,
   "id": "4ced3c92-d1ec-4c8f-8896-8a77e355df95",
   "metadata": {},
   "outputs": [
    {
     "data": {
      "text/plain": [
       "(614, 13)"
      ]
     },
     "execution_count": 4,
     "metadata": {},
     "output_type": "execute_result"
    }
   ],
   "source": [
    "loan_data.shape"
   ]
  },
  {
   "cell_type": "markdown",
   "id": "54cec2f0-9d46-4998-8cd1-4c9d83210d2b",
   "metadata": {},
   "source": [
    "## Get categorical variables and create data"
   ]
  },
  {
   "cell_type": "code",
   "execution_count": 5,
   "id": "a7b9669a-71d5-4a8b-9704-6b7eb5c46db2",
   "metadata": {},
   "outputs": [
    {
     "name": "stdout",
     "output_type": "stream",
     "text": [
      "=========================================================================================\n",
      "['ApplicantIncome', 'CoapplicantIncome', 'LoanAmount', 'Loan_Amount_Term', 'Credit_History']\n",
      "=========================================================================================\n",
      "     ApplicantIncome  CoapplicantIncome  LoanAmount  Loan_Amount_Term  \\\n",
      "0               5849                0.0         NaN             360.0   \n",
      "1               4583             1508.0       128.0             360.0   \n",
      "2               3000                0.0        66.0             360.0   \n",
      "3               2583             2358.0       120.0             360.0   \n",
      "4               6000                0.0       141.0             360.0   \n",
      "..               ...                ...         ...               ...   \n",
      "609             2900                0.0        71.0             360.0   \n",
      "610             4106                0.0        40.0             180.0   \n",
      "611             8072              240.0       253.0             360.0   \n",
      "612             7583                0.0       187.0             360.0   \n",
      "613             4583                0.0       133.0             360.0   \n",
      "\n",
      "     Credit_History  \n",
      "0               1.0  \n",
      "1               1.0  \n",
      "2               1.0  \n",
      "3               1.0  \n",
      "4               1.0  \n",
      "..              ...  \n",
      "609             1.0  \n",
      "610             1.0  \n",
      "611             1.0  \n",
      "612             1.0  \n",
      "613             0.0  \n",
      "\n",
      "[614 rows x 5 columns]\n",
      "=========================================================================================\n",
      "     Credit_History\n",
      "0               1.0\n",
      "1               1.0\n",
      "2               1.0\n",
      "3               1.0\n",
      "4               1.0\n",
      "..              ...\n",
      "609             1.0\n",
      "610             1.0\n",
      "611             1.0\n",
      "612             1.0\n",
      "613             0.0\n",
      "\n",
      "[614 rows x 1 columns]\n",
      "=========================================================================================\n",
      "['Credit_History']\n",
      "=========================================================================================\n"
     ]
    }
   ],
   "source": [
    "# Categorical variables can be presented as categorical strings or coded as numbers (nominal)\n",
    "# Lets look for coded categorical variable\n",
    "# An example is a variable with min of 0 and maximum of 1\n",
    "# Lets get the list of such variables\n",
    "# Get the dataset of coded categorical variables\n",
    "print(\"=========================================================================================\")\n",
    "# First we need to get numerical variable\n",
    "# Listing numerical data\n",
    "numerical_variables = list(loan_data.select_dtypes(include=[np.number]).columns.values)\n",
    "print(numerical_variables)\n",
    "print(\"=========================================================================================\")\n",
    "loan_data_numerical = loan_data.select_dtypes(include=[np.number])\n",
    "print(loan_data_numerical)\n",
    "print(\"=========================================================================================\")\n",
    "# We can see that credit history is a coded categorical data\n",
    "coded_categorical_data=loan_data_numerical.loc[:,[(loan_data_numerical[col].max() == 1)\n",
    "                                                   for col in loan_data_numerical.columns]]\n",
    "print(coded_categorical_data)\n",
    "print(\"=========================================================================================\")\n",
    "# Get the list of coded categorical variables\n",
    "coded_categorical_variables =list(coded_categorical_data.columns.values)\n",
    "print(coded_categorical_variables)\n",
    "print(\"=========================================================================================\")"
   ]
  },
  {
   "cell_type": "code",
   "execution_count": 6,
   "id": "f71970b7-12c4-4d54-a05d-0ecb78648061",
   "metadata": {},
   "outputs": [
    {
     "name": "stdout",
     "output_type": "stream",
     "text": [
      "=========================================================================================\n",
      "['Loan_ID', 'Gender', 'Married', 'Dependents', 'Education', 'Self_Employed', 'Property_Area', 'Loan_Status']\n",
      "=========================================================================================\n",
      "['Loan_ID', 'Gender', 'Married', 'Dependents', 'Education', 'Self_Employed', 'Property_Area', 'Loan_Status', 'Credit_History']\n",
      "=========================================================================================\n",
      "      Loan_ID  Gender Married Dependents     Education Self_Employed  \\\n",
      "0    LP001002    Male      No          0      Graduate            No   \n",
      "1    LP001003    Male     Yes          1      Graduate            No   \n",
      "2    LP001005    Male     Yes          0      Graduate           Yes   \n",
      "3    LP001006    Male     Yes          0  Not Graduate            No   \n",
      "4    LP001008    Male      No          0      Graduate            No   \n",
      "..        ...     ...     ...        ...           ...           ...   \n",
      "609  LP002978  Female      No          0      Graduate            No   \n",
      "610  LP002979    Male     Yes         3+      Graduate            No   \n",
      "611  LP002983    Male     Yes          1      Graduate            No   \n",
      "612  LP002984    Male     Yes          2      Graduate            No   \n",
      "613  LP002990  Female      No          0      Graduate           Yes   \n",
      "\n",
      "    Property_Area Loan_Status  Credit_History  \n",
      "0           Urban           Y             1.0  \n",
      "1           Rural           N             1.0  \n",
      "2           Urban           Y             1.0  \n",
      "3           Urban           Y             1.0  \n",
      "4           Urban           Y             1.0  \n",
      "..            ...         ...             ...  \n",
      "609         Rural           Y             1.0  \n",
      "610         Rural           Y             1.0  \n",
      "611         Urban           Y             1.0  \n",
      "612         Urban           Y             1.0  \n",
      "613     Semiurban           N             0.0  \n",
      "\n",
      "[614 rows x 9 columns]\n",
      "=========================================================================================\n"
     ]
    }
   ],
   "source": [
    "# We have listed coded categorical variables\n",
    "# Now, we wanna list non-coded categorical variable\n",
    "# Non-coded categorical variables\n",
    "print(\"=========================================================================================\")\n",
    "none_coded_categorical_variables = list(loan_data.select_dtypes(exclude=[np.number]).columns.values)\n",
    "print(none_coded_categorical_variables)\n",
    "print(\"=========================================================================================\")\n",
    "\n",
    "# having coded categorical variable, we can create total categorical variables\n",
    "total_categorical_variables = none_coded_categorical_variables+coded_categorical_variables\n",
    "print(total_categorical_variables)\n",
    "print(\"=========================================================================================\")\n",
    "\n",
    "# having total categorical variables, we can create total categorical data\n",
    "total_categorical_data = loan_data[total_categorical_variables]\n",
    "print(total_categorical_data)\n",
    "print(\"=========================================================================================\")"
   ]
  },
  {
   "cell_type": "markdown",
   "id": "ddeb4e6d-d1f8-4a3b-b176-d1c0d1b6d480",
   "metadata": {},
   "source": [
    "## Check missing values in the categorical data"
   ]
  },
  {
   "cell_type": "code",
   "execution_count": 7,
   "id": "867566d6-1f55-451b-bcef-c9e54f0b1796",
   "metadata": {},
   "outputs": [],
   "source": [
    "def create_missing_values_table(df):\n",
    "        # Total missing values\n",
    "        miss_val = df.isnull().sum()\n",
    "        \n",
    "        # Percentage of missing values\n",
    "        miss_val_percent = 100 * df.isnull().sum() / len(df)\n",
    "        \n",
    "        # Make a table with the results\n",
    "        miss_val_table = pd.concat([miss_val, miss_val_percent], axis=1)\n",
    "        \n",
    "        # Rename the columns\n",
    "        miss_val_table_ren_columns = miss_val_table.rename(\n",
    "        columns = {0 : 'Missing Values', 1 : '% of Total Values'})\n",
    "        \n",
    "        # Sort the table by percentage of missing descending\n",
    "        miss_val_table_ren_columns = miss_val_table_ren_columns[\n",
    "            miss_val_table_ren_columns.iloc[:,1] != 0].sort_values(\n",
    "        '% of Total Values', ascending=False).round(1)\n",
    "        \n",
    "        # Print some summary information\n",
    "        print (\"Your selected dataframe has \" + str(df.shape[1]) + \" columns.\\n\"      \n",
    "            \"There are \" + str(miss_val_table_ren_columns.shape[0]) +\n",
    "              \" columns that have missing values.\")\n",
    "        \n",
    "        # Return the dataframe with missing information\n",
    "        return miss_val_table_ren_columns"
   ]
  },
  {
   "cell_type": "code",
   "execution_count": 8,
   "id": "72d66e53-8d46-45be-accb-8973c277bcf5",
   "metadata": {},
   "outputs": [
    {
     "data": {
      "text/plain": [
       "113"
      ]
     },
     "execution_count": 8,
     "metadata": {},
     "output_type": "execute_result"
    }
   ],
   "source": [
    "# Check total number of missing values in the entire dataset\n",
    "total_categorical_data.isnull().sum().sum()"
   ]
  },
  {
   "cell_type": "code",
   "execution_count": 9,
   "id": "eb3ec8d1-c0d2-4c99-be6f-cc920e6a6ba2",
   "metadata": {},
   "outputs": [
    {
     "name": "stdout",
     "output_type": "stream",
     "text": [
      "Your selected dataframe has 9 columns.\n",
      "There are 5 columns that have missing values.\n"
     ]
    },
    {
     "data": {
      "text/html": [
       "<div>\n",
       "<style scoped>\n",
       "    .dataframe tbody tr th:only-of-type {\n",
       "        vertical-align: middle;\n",
       "    }\n",
       "\n",
       "    .dataframe tbody tr th {\n",
       "        vertical-align: top;\n",
       "    }\n",
       "\n",
       "    .dataframe thead th {\n",
       "        text-align: right;\n",
       "    }\n",
       "</style>\n",
       "<table border=\"1\" class=\"dataframe\">\n",
       "  <thead>\n",
       "    <tr style=\"text-align: right;\">\n",
       "      <th></th>\n",
       "      <th>Missing Values</th>\n",
       "      <th>% of Total Values</th>\n",
       "    </tr>\n",
       "  </thead>\n",
       "  <tbody>\n",
       "    <tr>\n",
       "      <th>Credit_History</th>\n",
       "      <td>50</td>\n",
       "      <td>8.1</td>\n",
       "    </tr>\n",
       "    <tr>\n",
       "      <th>Self_Employed</th>\n",
       "      <td>32</td>\n",
       "      <td>5.2</td>\n",
       "    </tr>\n",
       "    <tr>\n",
       "      <th>Dependents</th>\n",
       "      <td>15</td>\n",
       "      <td>2.4</td>\n",
       "    </tr>\n",
       "    <tr>\n",
       "      <th>Gender</th>\n",
       "      <td>13</td>\n",
       "      <td>2.1</td>\n",
       "    </tr>\n",
       "    <tr>\n",
       "      <th>Married</th>\n",
       "      <td>3</td>\n",
       "      <td>0.5</td>\n",
       "    </tr>\n",
       "  </tbody>\n",
       "</table>\n",
       "</div>"
      ],
      "text/plain": [
       "                Missing Values  % of Total Values\n",
       "Credit_History              50                8.1\n",
       "Self_Employed               32                5.2\n",
       "Dependents                  15                2.4\n",
       "Gender                      13                2.1\n",
       "Married                      3                0.5"
      ]
     },
     "execution_count": 9,
     "metadata": {},
     "output_type": "execute_result"
    }
   ],
   "source": [
    "create_missing_values_table(total_categorical_data)"
   ]
  },
  {
   "cell_type": "markdown",
   "id": "bfa87383-8a70-43c3-b1a1-629831a53d04",
   "metadata": {},
   "source": [
    "## Create a list of column with missing values"
   ]
  },
  {
   "cell_type": "code",
   "execution_count": 10,
   "id": "8719f892-6368-48dd-9538-4ce9309c6600",
   "metadata": {},
   "outputs": [
    {
     "data": {
      "text/plain": [
       "['Gender', 'Married', 'Dependents', 'Self_Employed', 'Credit_History']"
      ]
     },
     "execution_count": 10,
     "metadata": {},
     "output_type": "execute_result"
    }
   ],
   "source": [
    "# List of categorical variables with missing values\n",
    "cat_variables_with_missing_val = [var for var in total_categorical_data.columns if total_categorical_data[var].isnull().sum() > 0]\n",
    "cat_variables_with_missing_val"
   ]
  },
  {
   "cell_type": "markdown",
   "id": "fa742290-86be-4d9e-8748-cf84da4f61d3",
   "metadata": {},
   "source": [
    "## Handling missing values"
   ]
  },
  {
   "cell_type": "markdown",
   "id": "c9c861c8-8261-4f79-944a-b354e33482ae",
   "metadata": {},
   "source": [
    "## There are several ways to handle missing values of categorical variables. Here are a few options:\n",
    "\n",
    "- **Deletion** - We have discussed deletion as above. You may refer to them for assumptions and implementation in categorical variable. As there is no difference in what we have done with numerical variables. We are not going to repeat the procedures here.\n",
    "\n",
    "- **Ignore the rows with missing values**: This is only a viable option if the number of rows with missing values is small compared to the total number of rows.\n",
    "\n",
    "- **Impute the missing values**: This involves replacing the missing values with some other value, such as the mode (most frequent value) of the variable. This is a quick and easy option, but it may not always produce the best results.\n",
    "\n",
    "- **Use a separate category for missing values**: This involves creating a new category specifically for missing values. This can be useful if the missing values have some meaningful interpretation.\n",
    "\n",
    "- **Use multiple imputations**: This involves using advanced techniques to impute the missing values in a way that takes into account the uncertainty associated with the imputation. Multiple imputations can produce more accurate results than simple imputation, but it is also more complex and time-consuming.\n",
    "\n",
    "Which option you choose will depend on the nature of your data and the goals of your analysis."
   ]
  },
  {
   "cell_type": "markdown",
   "id": "328992db-e7a8-4f0c-88fe-c5887314c7ef",
   "metadata": {},
   "source": [
    "## a) Deletion\n",
    ">\n",
    ">>Deletion means to delete the missing values from a dataset. This is however not recommended as it might result in loss of information from the dataset. We should only delete the missing values from a dataset if their proportion is very small. Deletions are further of three types:"
   ]
  },
  {
   "cell_type": "markdown",
   "id": "e07de694-3116-4eb2-8ebf-85b47bbeaacf",
   "metadata": {},
   "source": [
    "> ### i. Pairwise Deletion\n",
    ">> Parwise Deletion is used when values are missing completely at random i.e MCAR. During Pairwise deletion, only the missing values are deleted. All operations in pandas like mean, sum etc intrinsically skip missing values. Since there is no need to sum or calculating average in categorical variables, this method is applicable only as we say, leave missing values missing."
   ]
  },
  {
   "cell_type": "markdown",
   "id": "ce9af5b8-0976-4b70-a3e7-0a99bfa52903",
   "metadata": {},
   "source": [
    ">### ii. Listwise Deletion/ Dropping rows\n",
    ">>> \n",
    "During Listwise deletion, complete rows(which contain the missing values) are deleted. As a result, it is also called Complete Case deletion. Like Pairwise deletion, listwise deletions are also only used for MCAR values."
   ]
  },
  {
   "cell_type": "markdown",
   "id": "70152306-2d15-4fe2-aa7f-759ef75e5448",
   "metadata": {},
   "source": [
    ">### Listwise deletion for a single column"
   ]
  },
  {
   "cell_type": "code",
   "execution_count": 11,
   "id": "112620e6-21e9-4e9b-bc7d-92c6b744ba77",
   "metadata": {},
   "outputs": [
    {
     "data": {
      "text/plain": [
       "0"
      ]
     },
     "execution_count": 11,
     "metadata": {},
     "output_type": "execute_result"
    }
   ],
   "source": [
    "# Create a copy of dataset\n",
    "total_categorical_data_1 = total_categorical_data.copy()\n",
    "\n",
    "# Drop rows which contains any NaN or missing value for Married column\n",
    "total_categorical_data_1.dropna(subset=['Married'],how='any',inplace=True)\n",
    "total_categorical_data_1['Married'].isnull().sum()"
   ]
  },
  {
   "cell_type": "markdown",
   "id": "de6d3936-a7f6-4d11-b32a-eb8c6e0a28f0",
   "metadata": {},
   "source": [
    ">The Married column doesn't have any missing values. A major diadvantage of Listwise deletion is that a major chunk of data is deleted and hence a lot of information is lost. Hence, it is advisable to use it only when the number of missing values is very small."
   ]
  },
  {
   "cell_type": "markdown",
   "id": "387616f9-68c0-4b2c-b303-e801f30a6aa3",
   "metadata": {},
   "source": [
    ">### Listwise deletion for multiple columns with missing values"
   ]
  },
  {
   "cell_type": "code",
   "execution_count": 12,
   "id": "f52524ff-09c5-43d3-af67-b765d963efdf",
   "metadata": {},
   "outputs": [
    {
     "name": "stdout",
     "output_type": "stream",
     "text": [
      "0\n",
      "0\n",
      "32\n"
     ]
    }
   ],
   "source": [
    "# With the above data, total_categorical_data_1\n",
    "# Let us drop rows for any missing values in either column Gender or Dependents\n",
    "total_categorical_data_1.dropna(subset=['Gender',\"Dependents\"],how='any',inplace=True)\n",
    "print(total_categorical_data_1['Gender'].isnull().sum())\n",
    "print(total_categorical_data_1[\"Dependents\"].isnull().sum())\n",
    "print(total_categorical_data_1[\"Self_Employed\"].isnull().sum())"
   ]
  },
  {
   "cell_type": "markdown",
   "id": "e28a4747-f6b4-4fde-ac21-7caeb5e47750",
   "metadata": {},
   "source": [
    ">### Listwise deletion for all columns with missing values"
   ]
  },
  {
   "cell_type": "code",
   "execution_count": 13,
   "id": "4801ae46-c070-478c-b94f-633d3f02c0a6",
   "metadata": {},
   "outputs": [],
   "source": [
    "total_categorical_data_1_all = total_categorical_data_1.dropna()"
   ]
  },
  {
   "cell_type": "code",
   "execution_count": 14,
   "id": "fb06a402-3419-4901-9c5a-78a252370184",
   "metadata": {},
   "outputs": [
    {
     "name": "stdout",
     "output_type": "stream",
     "text": [
      "Your selected dataframe has 9 columns.\n",
      "There are 0 columns that have missing values.\n"
     ]
    },
    {
     "data": {
      "text/html": [
       "<div>\n",
       "<style scoped>\n",
       "    .dataframe tbody tr th:only-of-type {\n",
       "        vertical-align: middle;\n",
       "    }\n",
       "\n",
       "    .dataframe tbody tr th {\n",
       "        vertical-align: top;\n",
       "    }\n",
       "\n",
       "    .dataframe thead th {\n",
       "        text-align: right;\n",
       "    }\n",
       "</style>\n",
       "<table border=\"1\" class=\"dataframe\">\n",
       "  <thead>\n",
       "    <tr style=\"text-align: right;\">\n",
       "      <th></th>\n",
       "      <th>Missing Values</th>\n",
       "      <th>% of Total Values</th>\n",
       "    </tr>\n",
       "  </thead>\n",
       "  <tbody>\n",
       "  </tbody>\n",
       "</table>\n",
       "</div>"
      ],
      "text/plain": [
       "Empty DataFrame\n",
       "Columns: [Missing Values, % of Total Values]\n",
       "Index: []"
      ]
     },
     "execution_count": 14,
     "metadata": {},
     "output_type": "execute_result"
    }
   ],
   "source": [
    "create_missing_values_table(total_categorical_data_1_all)"
   ]
  },
  {
   "cell_type": "markdown",
   "id": "a5eeb2c8-1c3f-4709-b0e1-2468de4df7bb",
   "metadata": {},
   "source": [
    ">### Listwise deletion for a row/s that meets a parameter in missing counts"
   ]
  },
  {
   "cell_type": "code",
   "execution_count": 15,
   "id": "ceb3c17d-26ce-45fa-8d86-0301bc7b95b4",
   "metadata": {},
   "outputs": [],
   "source": [
    "# To demonstrate more on this, I have created a data set\n",
    "# If a row has more than 3 missing values, delete that row\n",
    "# This a small data for this practice and I have 3 columns that have more than 3 missing values\n",
    "# Lets import the data and work\n",
    "\n",
    "delete_row_with_cond = pd.read_csv(\"C:/Users/ADMIN/Documents/PYTHON BLOG DATA AND NOTEBOOKS/Data cleaning/\" + \n",
    "\"Handling missing values/notebooks/missing-values/demo-delete-rows-with-condition.csv\")"
   ]
  },
  {
   "cell_type": "code",
   "execution_count": 16,
   "id": "0549ea15-c2aa-40b8-820a-aab7889dcbf6",
   "metadata": {},
   "outputs": [
    {
     "data": {
      "text/html": [
       "<div>\n",
       "<style scoped>\n",
       "    .dataframe tbody tr th:only-of-type {\n",
       "        vertical-align: middle;\n",
       "    }\n",
       "\n",
       "    .dataframe tbody tr th {\n",
       "        vertical-align: top;\n",
       "    }\n",
       "\n",
       "    .dataframe thead th {\n",
       "        text-align: right;\n",
       "    }\n",
       "</style>\n",
       "<table border=\"1\" class=\"dataframe\">\n",
       "  <thead>\n",
       "    <tr style=\"text-align: right;\">\n",
       "      <th></th>\n",
       "      <th>Number</th>\n",
       "      <th>Order Date</th>\n",
       "      <th>Region_t_p</th>\n",
       "      <th>Name_t_p</th>\n",
       "      <th>Item_t_p</th>\n",
       "      <th>Units</th>\n",
       "      <th>Unit Cost</th>\n",
       "      <th>Total</th>\n",
       "    </tr>\n",
       "  </thead>\n",
       "  <tbody>\n",
       "    <tr>\n",
       "      <th>0</th>\n",
       "      <td>1</td>\n",
       "      <td>1 6 19</td>\n",
       "      <td>NaN</td>\n",
       "      <td>Jones</td>\n",
       "      <td>Pencil</td>\n",
       "      <td>95.0</td>\n",
       "      <td>1.99</td>\n",
       "      <td>189.05</td>\n",
       "    </tr>\n",
       "    <tr>\n",
       "      <th>1</th>\n",
       "      <td>2</td>\n",
       "      <td>1 23 19</td>\n",
       "      <td>NaN</td>\n",
       "      <td>Kivell</td>\n",
       "      <td>Binder</td>\n",
       "      <td>50.0</td>\n",
       "      <td>19.99</td>\n",
       "      <td>999.50</td>\n",
       "    </tr>\n",
       "    <tr>\n",
       "      <th>2</th>\n",
       "      <td>3</td>\n",
       "      <td>2 9 19</td>\n",
       "      <td>Central</td>\n",
       "      <td>NaN</td>\n",
       "      <td>NaN</td>\n",
       "      <td>NaN</td>\n",
       "      <td>NaN</td>\n",
       "      <td>179.64</td>\n",
       "    </tr>\n",
       "    <tr>\n",
       "      <th>3</th>\n",
       "      <td>4</td>\n",
       "      <td>2 26 19</td>\n",
       "      <td>Central</td>\n",
       "      <td>Gill</td>\n",
       "      <td>Pen</td>\n",
       "      <td>27.0</td>\n",
       "      <td>19.99</td>\n",
       "      <td>539.73</td>\n",
       "    </tr>\n",
       "    <tr>\n",
       "      <th>4</th>\n",
       "      <td>5</td>\n",
       "      <td>NaN</td>\n",
       "      <td>NaN</td>\n",
       "      <td>NaN</td>\n",
       "      <td>NaN</td>\n",
       "      <td>NaN</td>\n",
       "      <td>2.99</td>\n",
       "      <td>167.44</td>\n",
       "    </tr>\n",
       "    <tr>\n",
       "      <th>5</th>\n",
       "      <td>7</td>\n",
       "      <td>4 18 19</td>\n",
       "      <td>Central</td>\n",
       "      <td>Andrews</td>\n",
       "      <td>Pencil</td>\n",
       "      <td>75.0</td>\n",
       "      <td>1.99</td>\n",
       "      <td>149.25</td>\n",
       "    </tr>\n",
       "    <tr>\n",
       "      <th>6</th>\n",
       "      <td>9</td>\n",
       "      <td>NaN</td>\n",
       "      <td>NaN</td>\n",
       "      <td>NaN</td>\n",
       "      <td>NaN</td>\n",
       "      <td>NaN</td>\n",
       "      <td>1.99</td>\n",
       "      <td>63.68</td>\n",
       "    </tr>\n",
       "    <tr>\n",
       "      <th>7</th>\n",
       "      <td>10</td>\n",
       "      <td>6 8 19</td>\n",
       "      <td>East</td>\n",
       "      <td>Jones</td>\n",
       "      <td>Binder</td>\n",
       "      <td>60.0</td>\n",
       "      <td>8.99</td>\n",
       "      <td>NaN</td>\n",
       "    </tr>\n",
       "  </tbody>\n",
       "</table>\n",
       "</div>"
      ],
      "text/plain": [
       "   Number Order Date Region_t_p Name_t_p Item_t_p  Units  Unit Cost   Total\n",
       "0       1     1 6 19        NaN    Jones   Pencil   95.0       1.99  189.05\n",
       "1       2    1 23 19        NaN   Kivell   Binder   50.0      19.99  999.50\n",
       "2       3     2 9 19    Central      NaN      NaN    NaN        NaN  179.64\n",
       "3       4    2 26 19    Central     Gill      Pen   27.0      19.99  539.73\n",
       "4       5        NaN        NaN      NaN      NaN    NaN       2.99  167.44\n",
       "5       7    4 18 19    Central  Andrews   Pencil   75.0       1.99  149.25\n",
       "6       9        NaN        NaN      NaN      NaN    NaN       1.99   63.68\n",
       "7      10     6 8 19       East    Jones   Binder   60.0       8.99     NaN"
      ]
     },
     "execution_count": 16,
     "metadata": {},
     "output_type": "execute_result"
    }
   ],
   "source": [
    "# Show data\n",
    "delete_row_with_cond"
   ]
  },
  {
   "cell_type": "code",
   "execution_count": 17,
   "id": "8b80983d-ff4a-424c-b541-07a058412d84",
   "metadata": {},
   "outputs": [
    {
     "data": {
      "text/plain": [
       "(8, 8)"
      ]
     },
     "execution_count": 17,
     "metadata": {},
     "output_type": "execute_result"
    }
   ],
   "source": [
    "# The total rows and columns\n",
    "delete_row_with_cond.shape"
   ]
  },
  {
   "cell_type": "code",
   "execution_count": 18,
   "id": "44549a03-4346-4626-bdcc-71e4e6d69e0c",
   "metadata": {},
   "outputs": [
    {
     "data": {
      "text/plain": [
       "17"
      ]
     },
     "execution_count": 18,
     "metadata": {},
     "output_type": "execute_result"
    }
   ],
   "source": [
    "# Check total number of missing values in the entire dataset\n",
    "delete_row_with_cond.isnull().sum().sum()"
   ]
  },
  {
   "cell_type": "code",
   "execution_count": 19,
   "id": "cd9b0f4f-f864-4926-bb46-c5bd8528a105",
   "metadata": {},
   "outputs": [
    {
     "name": "stdout",
     "output_type": "stream",
     "text": [
      "Your selected dataframe has 8 columns.\n",
      "There are 7 columns that have missing values.\n"
     ]
    },
    {
     "data": {
      "text/html": [
       "<div>\n",
       "<style scoped>\n",
       "    .dataframe tbody tr th:only-of-type {\n",
       "        vertical-align: middle;\n",
       "    }\n",
       "\n",
       "    .dataframe tbody tr th {\n",
       "        vertical-align: top;\n",
       "    }\n",
       "\n",
       "    .dataframe thead th {\n",
       "        text-align: right;\n",
       "    }\n",
       "</style>\n",
       "<table border=\"1\" class=\"dataframe\">\n",
       "  <thead>\n",
       "    <tr style=\"text-align: right;\">\n",
       "      <th></th>\n",
       "      <th>Missing Values</th>\n",
       "      <th>% of Total Values</th>\n",
       "    </tr>\n",
       "  </thead>\n",
       "  <tbody>\n",
       "    <tr>\n",
       "      <th>Region_t_p</th>\n",
       "      <td>4</td>\n",
       "      <td>50.0</td>\n",
       "    </tr>\n",
       "    <tr>\n",
       "      <th>Name_t_p</th>\n",
       "      <td>3</td>\n",
       "      <td>37.5</td>\n",
       "    </tr>\n",
       "    <tr>\n",
       "      <th>Item_t_p</th>\n",
       "      <td>3</td>\n",
       "      <td>37.5</td>\n",
       "    </tr>\n",
       "    <tr>\n",
       "      <th>Units</th>\n",
       "      <td>3</td>\n",
       "      <td>37.5</td>\n",
       "    </tr>\n",
       "    <tr>\n",
       "      <th>Order Date</th>\n",
       "      <td>2</td>\n",
       "      <td>25.0</td>\n",
       "    </tr>\n",
       "    <tr>\n",
       "      <th>Unit Cost</th>\n",
       "      <td>1</td>\n",
       "      <td>12.5</td>\n",
       "    </tr>\n",
       "    <tr>\n",
       "      <th>Total</th>\n",
       "      <td>1</td>\n",
       "      <td>12.5</td>\n",
       "    </tr>\n",
       "  </tbody>\n",
       "</table>\n",
       "</div>"
      ],
      "text/plain": [
       "            Missing Values  % of Total Values\n",
       "Region_t_p               4               50.0\n",
       "Name_t_p                 3               37.5\n",
       "Item_t_p                 3               37.5\n",
       "Units                    3               37.5\n",
       "Order Date               2               25.0\n",
       "Unit Cost                1               12.5\n",
       "Total                    1               12.5"
      ]
     },
     "execution_count": 19,
     "metadata": {},
     "output_type": "execute_result"
    }
   ],
   "source": [
    "# Total number of missing values in each column\n",
    "create_missing_values_table(delete_row_with_cond)"
   ]
  },
  {
   "cell_type": "code",
   "execution_count": 20,
   "id": "afb3700d-ddb7-4a71-833c-5943b5bed550",
   "metadata": {},
   "outputs": [
    {
     "data": {
      "text/html": [
       "<div>\n",
       "<style scoped>\n",
       "    .dataframe tbody tr th:only-of-type {\n",
       "        vertical-align: middle;\n",
       "    }\n",
       "\n",
       "    .dataframe tbody tr th {\n",
       "        vertical-align: top;\n",
       "    }\n",
       "\n",
       "    .dataframe thead th {\n",
       "        text-align: right;\n",
       "    }\n",
       "</style>\n",
       "<table border=\"1\" class=\"dataframe\">\n",
       "  <thead>\n",
       "    <tr style=\"text-align: right;\">\n",
       "      <th></th>\n",
       "      <th>Number</th>\n",
       "      <th>Order Date</th>\n",
       "      <th>Region_t_p</th>\n",
       "      <th>Name_t_p</th>\n",
       "      <th>Item_t_p</th>\n",
       "      <th>Units</th>\n",
       "      <th>Unit Cost</th>\n",
       "      <th>Total</th>\n",
       "    </tr>\n",
       "  </thead>\n",
       "  <tbody>\n",
       "    <tr>\n",
       "      <th>0</th>\n",
       "      <td>1</td>\n",
       "      <td>1 6 19</td>\n",
       "      <td>NaN</td>\n",
       "      <td>Jones</td>\n",
       "      <td>Pencil</td>\n",
       "      <td>95.0</td>\n",
       "      <td>1.99</td>\n",
       "      <td>189.05</td>\n",
       "    </tr>\n",
       "    <tr>\n",
       "      <th>1</th>\n",
       "      <td>2</td>\n",
       "      <td>1 23 19</td>\n",
       "      <td>NaN</td>\n",
       "      <td>Kivell</td>\n",
       "      <td>Binder</td>\n",
       "      <td>50.0</td>\n",
       "      <td>19.99</td>\n",
       "      <td>999.50</td>\n",
       "    </tr>\n",
       "    <tr>\n",
       "      <th>3</th>\n",
       "      <td>4</td>\n",
       "      <td>2 26 19</td>\n",
       "      <td>Central</td>\n",
       "      <td>Gill</td>\n",
       "      <td>Pen</td>\n",
       "      <td>27.0</td>\n",
       "      <td>19.99</td>\n",
       "      <td>539.73</td>\n",
       "    </tr>\n",
       "    <tr>\n",
       "      <th>5</th>\n",
       "      <td>7</td>\n",
       "      <td>4 18 19</td>\n",
       "      <td>Central</td>\n",
       "      <td>Andrews</td>\n",
       "      <td>Pencil</td>\n",
       "      <td>75.0</td>\n",
       "      <td>1.99</td>\n",
       "      <td>149.25</td>\n",
       "    </tr>\n",
       "    <tr>\n",
       "      <th>7</th>\n",
       "      <td>10</td>\n",
       "      <td>6 8 19</td>\n",
       "      <td>East</td>\n",
       "      <td>Jones</td>\n",
       "      <td>Binder</td>\n",
       "      <td>60.0</td>\n",
       "      <td>8.99</td>\n",
       "      <td>NaN</td>\n",
       "    </tr>\n",
       "  </tbody>\n",
       "</table>\n",
       "</div>"
      ],
      "text/plain": [
       "   Number Order Date Region_t_p Name_t_p Item_t_p  Units  Unit Cost   Total\n",
       "0       1     1 6 19        NaN    Jones   Pencil   95.0       1.99  189.05\n",
       "1       2    1 23 19        NaN   Kivell   Binder   50.0      19.99  999.50\n",
       "3       4    2 26 19    Central     Gill      Pen   27.0      19.99  539.73\n",
       "5       7    4 18 19    Central  Andrews   Pencil   75.0       1.99  149.25\n",
       "7      10     6 8 19       East    Jones   Binder   60.0       8.99     NaN"
      ]
     },
     "execution_count": 20,
     "metadata": {},
     "output_type": "execute_result"
    }
   ],
   "source": [
    "# For now, I am not interested in the percentage missing in columns as above\n",
    "# I am interested in dropping the row that has missing in 50% and more of the columns\n",
    "# That is drop a row if nan is 4 and above\n",
    "# I am expecting 3 rows to be deleted and we remain with 5; 2,4 and 6 have to be deleted\n",
    "delete_row_with_cond_1 = delete_row_with_cond[delete_row_with_cond.isnull().sum(axis=1) < 3]\n",
    "delete_row_with_cond_1"
   ]
  },
  {
   "cell_type": "code",
   "execution_count": 21,
   "id": "95abf7ee-0b5f-4cb2-9cfc-5a76f954c6e7",
   "metadata": {},
   "outputs": [
    {
     "data": {
      "text/html": [
       "<div>\n",
       "<style scoped>\n",
       "    .dataframe tbody tr th:only-of-type {\n",
       "        vertical-align: middle;\n",
       "    }\n",
       "\n",
       "    .dataframe tbody tr th {\n",
       "        vertical-align: top;\n",
       "    }\n",
       "\n",
       "    .dataframe thead th {\n",
       "        text-align: right;\n",
       "    }\n",
       "</style>\n",
       "<table border=\"1\" class=\"dataframe\">\n",
       "  <thead>\n",
       "    <tr style=\"text-align: right;\">\n",
       "      <th></th>\n",
       "      <th>Number</th>\n",
       "      <th>Order Date</th>\n",
       "      <th>Region_t_p</th>\n",
       "      <th>Name_t_p</th>\n",
       "      <th>Item_t_p</th>\n",
       "      <th>Units</th>\n",
       "      <th>Unit Cost</th>\n",
       "      <th>Total</th>\n",
       "    </tr>\n",
       "  </thead>\n",
       "  <tbody>\n",
       "    <tr>\n",
       "      <th>0</th>\n",
       "      <td>1</td>\n",
       "      <td>1 6 19</td>\n",
       "      <td>NaN</td>\n",
       "      <td>Jones</td>\n",
       "      <td>Pencil</td>\n",
       "      <td>95.0</td>\n",
       "      <td>1.99</td>\n",
       "      <td>189.05</td>\n",
       "    </tr>\n",
       "    <tr>\n",
       "      <th>1</th>\n",
       "      <td>2</td>\n",
       "      <td>1 23 19</td>\n",
       "      <td>NaN</td>\n",
       "      <td>Kivell</td>\n",
       "      <td>Binder</td>\n",
       "      <td>50.0</td>\n",
       "      <td>19.99</td>\n",
       "      <td>999.50</td>\n",
       "    </tr>\n",
       "    <tr>\n",
       "      <th>3</th>\n",
       "      <td>4</td>\n",
       "      <td>2 26 19</td>\n",
       "      <td>Central</td>\n",
       "      <td>Gill</td>\n",
       "      <td>Pen</td>\n",
       "      <td>27.0</td>\n",
       "      <td>19.99</td>\n",
       "      <td>539.73</td>\n",
       "    </tr>\n",
       "    <tr>\n",
       "      <th>5</th>\n",
       "      <td>7</td>\n",
       "      <td>4 18 19</td>\n",
       "      <td>Central</td>\n",
       "      <td>Andrews</td>\n",
       "      <td>Pencil</td>\n",
       "      <td>75.0</td>\n",
       "      <td>1.99</td>\n",
       "      <td>149.25</td>\n",
       "    </tr>\n",
       "    <tr>\n",
       "      <th>7</th>\n",
       "      <td>10</td>\n",
       "      <td>6 8 19</td>\n",
       "      <td>East</td>\n",
       "      <td>Jones</td>\n",
       "      <td>Binder</td>\n",
       "      <td>60.0</td>\n",
       "      <td>8.99</td>\n",
       "      <td>NaN</td>\n",
       "    </tr>\n",
       "  </tbody>\n",
       "</table>\n",
       "</div>"
      ],
      "text/plain": [
       "   Number Order Date Region_t_p Name_t_p Item_t_p  Units  Unit Cost   Total\n",
       "0       1     1 6 19        NaN    Jones   Pencil   95.0       1.99  189.05\n",
       "1       2    1 23 19        NaN   Kivell   Binder   50.0      19.99  999.50\n",
       "3       4    2 26 19    Central     Gill      Pen   27.0      19.99  539.73\n",
       "5       7    4 18 19    Central  Andrews   Pencil   75.0       1.99  149.25\n",
       "7      10     6 8 19       East    Jones   Binder   60.0       8.99     NaN"
      ]
     },
     "execution_count": 21,
     "metadata": {},
     "output_type": "execute_result"
    }
   ],
   "source": [
    "# Another way to handle this is by using threshold parameter in dropna function.\n",
    "delete_row_with_cond_2 = delete_row_with_cond.dropna(thresh=delete_row_with_cond.shape[1]-3, axis=0)\n",
    "delete_row_with_cond_2"
   ]
  },
  {
   "cell_type": "markdown",
   "id": "1b8ca34b-1fc8-4a7a-85a0-a575052fcf7f",
   "metadata": {},
   "source": [
    ">### iii. Dropping complete columns\n",
    ">> If a column contains a lot of missing values, say more than 80%, and the feature is not significant, you might want to delete that feature. However, again, it is not a good methodology to delete data.\n",
    "\n",
    ">> This is not useful in our case for example as both loan amount and loan tearms are very important features to consider."
   ]
  },
  {
   "cell_type": "code",
   "execution_count": 22,
   "id": "3c0cf8ea-d0a9-4b6f-b830-d093fafa3087",
   "metadata": {},
   "outputs": [
    {
     "data": {
      "text/plain": [
       "['Gender', 'Married', 'Dependents', 'Self_Employed', 'Credit_History']"
      ]
     },
     "execution_count": 22,
     "metadata": {},
     "output_type": "execute_result"
    }
   ],
   "source": [
    "# Here you first need to list all the columns with missing values\n",
    "cat_variables_with_missing_val"
   ]
  },
  {
   "cell_type": "code",
   "execution_count": 23,
   "id": "3fbfe10b-21e7-4ecf-a80d-764c904ffcc0",
   "metadata": {},
   "outputs": [
    {
     "data": {
      "text/plain": [
       "Loan_ID            0\n",
       "Married            3\n",
       "Dependents        15\n",
       "Education          0\n",
       "Self_Employed     32\n",
       "Property_Area      0\n",
       "Loan_Status        0\n",
       "Credit_History    50\n",
       "dtype: int64"
      ]
     },
     "execution_count": 23,
     "metadata": {},
     "output_type": "execute_result"
    }
   ],
   "source": [
    "# Delete one of this column\n",
    "total_categorical_data_5 = total_categorical_data.drop(['Gender'],axis=1)\n",
    "total_categorical_data_5.isnull().sum()"
   ]
  },
  {
   "cell_type": "code",
   "execution_count": 24,
   "id": "2b0f669a-60e2-4a2e-9f67-42cf29c7eb9b",
   "metadata": {},
   "outputs": [
    {
     "data": {
      "text/plain": [
       "Loan_ID          0\n",
       "Education        0\n",
       "Property_Area    0\n",
       "Loan_Status      0\n",
       "dtype: int64"
      ]
     },
     "execution_count": 24,
     "metadata": {},
     "output_type": "execute_result"
    }
   ],
   "source": [
    "# Delete all columns with null values\n",
    "total_categorical_data_6 = total_categorical_data.drop(cat_variables_with_missing_val,axis=1)\n",
    "total_categorical_data_6.isnull().sum()"
   ]
  },
  {
   "cell_type": "code",
   "execution_count": 25,
   "id": "b9a5a3a7-0596-4d67-a7fc-0349e78bea12",
   "metadata": {},
   "outputs": [
    {
     "name": "stdout",
     "output_type": "stream",
     "text": [
      "Index(['Region_t_p', 'Name_t_p', 'Item_t_p', 'Units'], dtype='object')\n"
     ]
    },
    {
     "data": {
      "text/html": [
       "<div>\n",
       "<style scoped>\n",
       "    .dataframe tbody tr th:only-of-type {\n",
       "        vertical-align: middle;\n",
       "    }\n",
       "\n",
       "    .dataframe tbody tr th {\n",
       "        vertical-align: top;\n",
       "    }\n",
       "\n",
       "    .dataframe thead th {\n",
       "        text-align: right;\n",
       "    }\n",
       "</style>\n",
       "<table border=\"1\" class=\"dataframe\">\n",
       "  <thead>\n",
       "    <tr style=\"text-align: right;\">\n",
       "      <th></th>\n",
       "      <th>Number</th>\n",
       "      <th>Order Date</th>\n",
       "      <th>Unit Cost</th>\n",
       "      <th>Total</th>\n",
       "    </tr>\n",
       "  </thead>\n",
       "  <tbody>\n",
       "    <tr>\n",
       "      <th>0</th>\n",
       "      <td>1</td>\n",
       "      <td>1 6 19</td>\n",
       "      <td>1.99</td>\n",
       "      <td>189.05</td>\n",
       "    </tr>\n",
       "    <tr>\n",
       "      <th>1</th>\n",
       "      <td>2</td>\n",
       "      <td>1 23 19</td>\n",
       "      <td>19.99</td>\n",
       "      <td>999.50</td>\n",
       "    </tr>\n",
       "    <tr>\n",
       "      <th>2</th>\n",
       "      <td>3</td>\n",
       "      <td>2 9 19</td>\n",
       "      <td>NaN</td>\n",
       "      <td>179.64</td>\n",
       "    </tr>\n",
       "    <tr>\n",
       "      <th>3</th>\n",
       "      <td>4</td>\n",
       "      <td>2 26 19</td>\n",
       "      <td>19.99</td>\n",
       "      <td>539.73</td>\n",
       "    </tr>\n",
       "    <tr>\n",
       "      <th>4</th>\n",
       "      <td>5</td>\n",
       "      <td>NaN</td>\n",
       "      <td>2.99</td>\n",
       "      <td>167.44</td>\n",
       "    </tr>\n",
       "    <tr>\n",
       "      <th>5</th>\n",
       "      <td>7</td>\n",
       "      <td>4 18 19</td>\n",
       "      <td>1.99</td>\n",
       "      <td>149.25</td>\n",
       "    </tr>\n",
       "    <tr>\n",
       "      <th>6</th>\n",
       "      <td>9</td>\n",
       "      <td>NaN</td>\n",
       "      <td>1.99</td>\n",
       "      <td>63.68</td>\n",
       "    </tr>\n",
       "    <tr>\n",
       "      <th>7</th>\n",
       "      <td>10</td>\n",
       "      <td>6 8 19</td>\n",
       "      <td>8.99</td>\n",
       "      <td>NaN</td>\n",
       "    </tr>\n",
       "  </tbody>\n",
       "</table>\n",
       "</div>"
      ],
      "text/plain": [
       "   Number Order Date  Unit Cost   Total\n",
       "0       1     1 6 19       1.99  189.05\n",
       "1       2    1 23 19      19.99  999.50\n",
       "2       3     2 9 19        NaN  179.64\n",
       "3       4    2 26 19      19.99  539.73\n",
       "4       5        NaN       2.99  167.44\n",
       "5       7    4 18 19       1.99  149.25\n",
       "6       9        NaN       1.99   63.68\n",
       "7      10     6 8 19       8.99     NaN"
      ]
     },
     "execution_count": 25,
     "metadata": {},
     "output_type": "execute_result"
    }
   ],
   "source": [
    "# Delete column with a percentage of nan threshold\n",
    "# In most cases we delete column when it is irrelevant to business objective and have more than 80% missing values\n",
    "# In my delete_row_with_cond data, I have 4 columns with over 30% missing values\n",
    "# I want to list these columns and then remove them from dataset\n",
    "columns_with_missing_30 = delete_row_with_cond.columns[delete_row_with_cond.isnull().mean() > 0.3]\n",
    "print(columns_with_missing_30)\n",
    "\n",
    "# Now, we want to remove them from the dataset and remain with columns missings are less than 30%\n",
    "less_than_30_per_missing = delete_row_with_cond[delete_row_with_cond.columns[delete_row_with_cond.isnull().mean() < 0.3]]\n",
    "less_than_30_per_missing"
   ]
  },
  {
   "cell_type": "markdown",
   "id": "60c27a11-c8b0-46b0-82ea-cd4c014b4985",
   "metadata": {},
   "source": [
    "## b) Imputation\n",
    ">We impute with most frequent value. this is common with categorical variables.\n",
    ">\n",
    ">Assumptions: Data is Missing At Random (MAR) and missing values look like the majority.\n",
    "\n",
    ">Description: Replacing NAN values with the most frequent occurred category in variable/column.\n",
    "\n",
    ">Implementation:\n",
    "\n",
    ">Step 1: Find which category occurred most in each category using mode().\n",
    "\n",
    ">Step 2: Replace all NAN values in that column with that category.\n",
    "\n",
    ">Step 3: Check the dataset for missing values\n",
    "\n",
    ">If the number of missing values in a category are less than 10% and other classes are normally distributed then replace missing values with mode of the variable. But is number of missing values are high then its better to treat it as one more value in that category i.e. replace it with 0 value."
   ]
  },
  {
   "cell_type": "code",
   "execution_count": 46,
   "id": "f0da00c0-e465-4485-945e-a2a635892f03",
   "metadata": {},
   "outputs": [
    {
     "name": "stdout",
     "output_type": "stream",
     "text": [
      "Your selected dataframe has 9 columns.\n",
      "There are 5 columns that have missing values.\n"
     ]
    },
    {
     "data": {
      "text/html": [
       "<div>\n",
       "<style scoped>\n",
       "    .dataframe tbody tr th:only-of-type {\n",
       "        vertical-align: middle;\n",
       "    }\n",
       "\n",
       "    .dataframe tbody tr th {\n",
       "        vertical-align: top;\n",
       "    }\n",
       "\n",
       "    .dataframe thead th {\n",
       "        text-align: right;\n",
       "    }\n",
       "</style>\n",
       "<table border=\"1\" class=\"dataframe\">\n",
       "  <thead>\n",
       "    <tr style=\"text-align: right;\">\n",
       "      <th></th>\n",
       "      <th>Missing Values</th>\n",
       "      <th>% of Total Values</th>\n",
       "    </tr>\n",
       "  </thead>\n",
       "  <tbody>\n",
       "    <tr>\n",
       "      <th>Credit_History</th>\n",
       "      <td>50</td>\n",
       "      <td>8.1</td>\n",
       "    </tr>\n",
       "    <tr>\n",
       "      <th>Self_Employed</th>\n",
       "      <td>32</td>\n",
       "      <td>5.2</td>\n",
       "    </tr>\n",
       "    <tr>\n",
       "      <th>Dependents</th>\n",
       "      <td>15</td>\n",
       "      <td>2.4</td>\n",
       "    </tr>\n",
       "    <tr>\n",
       "      <th>Gender</th>\n",
       "      <td>13</td>\n",
       "      <td>2.1</td>\n",
       "    </tr>\n",
       "    <tr>\n",
       "      <th>Married</th>\n",
       "      <td>3</td>\n",
       "      <td>0.5</td>\n",
       "    </tr>\n",
       "  </tbody>\n",
       "</table>\n",
       "</div>"
      ],
      "text/plain": [
       "                Missing Values  % of Total Values\n",
       "Credit_History              50                8.1\n",
       "Self_Employed               32                5.2\n",
       "Dependents                  15                2.4\n",
       "Gender                      13                2.1\n",
       "Married                      3                0.5"
      ]
     },
     "execution_count": 46,
     "metadata": {},
     "output_type": "execute_result"
    }
   ],
   "source": [
    "# Checking out missing values\n",
    "create_missing_values_table(total_categorical_data)"
   ]
  },
  {
   "cell_type": "markdown",
   "id": "4c1b67e5-f62d-4e71-b9ac-a3ebaac0a535",
   "metadata": {},
   "source": [
    "### Fill with most frequent values for a single column"
   ]
  },
  {
   "cell_type": "code",
   "execution_count": 27,
   "id": "be344dd8-9dfe-4331-867f-f2ed9c8ec1d4",
   "metadata": {},
   "outputs": [
    {
     "name": "stdout",
     "output_type": "stream",
     "text": [
      "Credit_History\n",
      "1.0    475\n",
      "0.0     89\n",
      "Name: count, dtype: int64\n"
     ]
    }
   ],
   "source": [
    "# Check the distribution of categories\n",
    "print(total_categorical_data['Credit_History'].value_counts())"
   ]
  },
  {
   "cell_type": "code",
   "execution_count": 32,
   "id": "8c03bb45-a7bf-4d0c-9a77-32ceb8af2851",
   "metadata": {},
   "outputs": [
    {
     "name": "stdout",
     "output_type": "stream",
     "text": [
      "===================================================================================================\n",
      "Your selected column has 50 null values.\n",
      "After handling with most frequent value fill, there are 0 missing values.\n",
      "===================================================================================================\n"
     ]
    }
   ],
   "source": [
    "# It can be seen that 1 occurs the most times in the credit history column\n",
    "# Let’s impute the missing values using the strategy as most_frequent\n",
    "\n",
    "\n",
    "# Make a copy of your dataset\n",
    "total_categorical_data3 = total_categorical_data.copy()\n",
    "\n",
    "# Replace the missing value with '0' using 'fiilna' method\n",
    "total_categorical_data3['Credit_History']= total_categorical_data3['Credit_History'].fillna(total_categorical_data3['Credit_History'].mode()[0])\n",
    "\n",
    "print(\"===================================================================================================\")\n",
    "print (\"Your selected column has \" + str(total_categorical_data[\"Credit_History\"].isnull().sum()) + \" null values.\\n\"      \n",
    "            \"After handling with most frequent value fill, there are \" + str(total_categorical_data3[\"Credit_History\"].isnull().sum()) +\n",
    "              \" missing values.\")\n",
    "print(\"===================================================================================================\")"
   ]
  },
  {
   "cell_type": "markdown",
   "id": "22b4134a-0451-42c1-ba07-3719ce2ad351",
   "metadata": {},
   "source": [
    "### Fill with most frequent values for all columns"
   ]
  },
  {
   "cell_type": "code",
   "execution_count": 34,
   "id": "1ede0e9a-f9fc-448c-9a30-6610e7b5e834",
   "metadata": {},
   "outputs": [],
   "source": [
    "# It can be seen that 1 occurs the most times in the credit history column\n",
    "# It can be seen that No occurs the most times in the Self-employed column and so on.\n",
    "# Let’s impute the missing values using the strategy as most_frequent\n",
    "\n",
    "# Create a copy of dataset\n",
    "total_categorical_data_mode = total_categorical_data.copy()\n",
    "\n",
    "# Model Creation\n",
    "imputer = SimpleImputer(strategy ='most_frequent')\n",
    "\n",
    "# fitting the imputer on the original dataset\n",
    "imputer.fit(total_categorical_data_mode)\n",
    "\n",
    "# Imputing the missing values in train, validation and test inputs\n",
    "total_categorical_data_mode=imputer.transform(total_categorical_data_mode)"
   ]
  },
  {
   "cell_type": "code",
   "execution_count": 44,
   "id": "a8c5399a-7cc0-47a8-9294-288af63fddd3",
   "metadata": {},
   "outputs": [
    {
     "data": {
      "text/plain": [
       "['Loan_ID',\n",
       " 'Gender',\n",
       " 'Married',\n",
       " 'Dependents',\n",
       " 'Education',\n",
       " 'Self_Employed',\n",
       " 'Property_Area',\n",
       " 'Loan_Status',\n",
       " 'Credit_History']"
      ]
     },
     "execution_count": 44,
     "metadata": {},
     "output_type": "execute_result"
    }
   ],
   "source": [
    "# Get the entire columns of the dataset\n",
    "columns = list(total_categorical_data)\n",
    "columns"
   ]
  },
  {
   "cell_type": "code",
   "execution_count": 43,
   "id": "d9dba1c2-273b-4eff-9a5f-c38a5d260bca",
   "metadata": {},
   "outputs": [],
   "source": [
    "# Now let’s see the number of missing values in the train_inputs after imputation\n",
    "# Using pd.DataFrame()\n",
    "total_categorical_data_mode_df = pd.DataFrame(total_categorical_data_mode, columns = columns)"
   ]
  },
  {
   "cell_type": "code",
   "execution_count": 45,
   "id": "cc28e6da-e849-4a0e-b1dd-1d99ae8c93f1",
   "metadata": {},
   "outputs": [
    {
     "name": "stdout",
     "output_type": "stream",
     "text": [
      "Your selected dataframe has 9 columns.\n",
      "There are 0 columns that have missing values.\n"
     ]
    },
    {
     "data": {
      "text/html": [
       "<div>\n",
       "<style scoped>\n",
       "    .dataframe tbody tr th:only-of-type {\n",
       "        vertical-align: middle;\n",
       "    }\n",
       "\n",
       "    .dataframe tbody tr th {\n",
       "        vertical-align: top;\n",
       "    }\n",
       "\n",
       "    .dataframe thead th {\n",
       "        text-align: right;\n",
       "    }\n",
       "</style>\n",
       "<table border=\"1\" class=\"dataframe\">\n",
       "  <thead>\n",
       "    <tr style=\"text-align: right;\">\n",
       "      <th></th>\n",
       "      <th>Missing Values</th>\n",
       "      <th>% of Total Values</th>\n",
       "    </tr>\n",
       "  </thead>\n",
       "  <tbody>\n",
       "  </tbody>\n",
       "</table>\n",
       "</div>"
      ],
      "text/plain": [
       "Empty DataFrame\n",
       "Columns: [Missing Values, % of Total Values]\n",
       "Index: []"
      ]
     },
     "execution_count": 45,
     "metadata": {},
     "output_type": "execute_result"
    }
   ],
   "source": [
    "# Checking null values with function created above\n",
    "create_missing_values_table(total_categorical_data_mode_df)"
   ]
  },
  {
   "cell_type": "markdown",
   "id": "257cd9aa-0d05-4e3c-bbf6-b6ef1d86169e",
   "metadata": {},
   "source": [
    "***Advantage***: Simple and easy to implement for categorical variables/columns.\n",
    "\n",
    "***Disadvantage***:\n",
    "\n",
    "- Features having a max number of null values may bias prediction if replace with the most occurred category.\n",
    "- It distorts the relation of the most frequent label."
   ]
  },
  {
   "cell_type": "markdown",
   "id": "77c883e9-cf60-425a-ab4f-ea8b59fc1475",
   "metadata": {},
   "source": [
    "## c) Use separate category for missing values\n",
    "\n",
    ">This involves creating a new category specifically for missing values. This can be useful if the missing values have some meaningful interpretation.\n",
    ">This approach allows us to preserve the original data without distorting the existing categories. For example, we could assign the category ‘Unknown’ to represent missing values."
   ]
  },
  {
   "cell_type": "code",
   "execution_count": 48,
   "id": "2fef77bd-e617-43c9-a279-db9bac5e941a",
   "metadata": {},
   "outputs": [
    {
     "name": "stdout",
     "output_type": "stream",
     "text": [
      "Your selected dataframe has 9 columns.\n",
      "There are 5 columns that have missing values.\n"
     ]
    },
    {
     "data": {
      "text/html": [
       "<div>\n",
       "<style scoped>\n",
       "    .dataframe tbody tr th:only-of-type {\n",
       "        vertical-align: middle;\n",
       "    }\n",
       "\n",
       "    .dataframe tbody tr th {\n",
       "        vertical-align: top;\n",
       "    }\n",
       "\n",
       "    .dataframe thead th {\n",
       "        text-align: right;\n",
       "    }\n",
       "</style>\n",
       "<table border=\"1\" class=\"dataframe\">\n",
       "  <thead>\n",
       "    <tr style=\"text-align: right;\">\n",
       "      <th></th>\n",
       "      <th>Missing Values</th>\n",
       "      <th>% of Total Values</th>\n",
       "    </tr>\n",
       "  </thead>\n",
       "  <tbody>\n",
       "    <tr>\n",
       "      <th>Credit_History</th>\n",
       "      <td>50</td>\n",
       "      <td>8.1</td>\n",
       "    </tr>\n",
       "    <tr>\n",
       "      <th>Self_Employed</th>\n",
       "      <td>32</td>\n",
       "      <td>5.2</td>\n",
       "    </tr>\n",
       "    <tr>\n",
       "      <th>Dependents</th>\n",
       "      <td>15</td>\n",
       "      <td>2.4</td>\n",
       "    </tr>\n",
       "    <tr>\n",
       "      <th>Gender</th>\n",
       "      <td>13</td>\n",
       "      <td>2.1</td>\n",
       "    </tr>\n",
       "    <tr>\n",
       "      <th>Married</th>\n",
       "      <td>3</td>\n",
       "      <td>0.5</td>\n",
       "    </tr>\n",
       "  </tbody>\n",
       "</table>\n",
       "</div>"
      ],
      "text/plain": [
       "                Missing Values  % of Total Values\n",
       "Credit_History              50                8.1\n",
       "Self_Employed               32                5.2\n",
       "Dependents                  15                2.4\n",
       "Gender                      13                2.1\n",
       "Married                      3                0.5"
      ]
     },
     "execution_count": 48,
     "metadata": {},
     "output_type": "execute_result"
    }
   ],
   "source": [
    "# Checking out missing values\n",
    "create_missing_values_table(total_categorical_data)"
   ]
  },
  {
   "cell_type": "code",
   "execution_count": 49,
   "id": "aade670b-0387-480e-971b-5fad197c75cc",
   "metadata": {},
   "outputs": [],
   "source": [
    "# For example if we realized that the respondents who have not filled out the gender variable are\n",
    "# Those who preferred not to disclose their gender, and infact, we are interested in their characteristics\n",
    "# In such cases, instead of filling the missing values with most frequent response, we use a different category\n",
    "# For this demo, we use \"prefer not to say\" for the gender missing values."
   ]
  },
  {
   "cell_type": "code",
   "execution_count": 55,
   "id": "280b3edc-7432-4610-89c8-2c5a0e3181c2",
   "metadata": {},
   "outputs": [
    {
     "data": {
      "text/html": [
       "<div>\n",
       "<style scoped>\n",
       "    .dataframe tbody tr th:only-of-type {\n",
       "        vertical-align: middle;\n",
       "    }\n",
       "\n",
       "    .dataframe tbody tr th {\n",
       "        vertical-align: top;\n",
       "    }\n",
       "\n",
       "    .dataframe thead th {\n",
       "        text-align: right;\n",
       "    }\n",
       "</style>\n",
       "<table border=\"1\" class=\"dataframe\">\n",
       "  <thead>\n",
       "    <tr style=\"text-align: right;\">\n",
       "      <th></th>\n",
       "      <th>Loan_ID</th>\n",
       "      <th>Gender</th>\n",
       "      <th>Married</th>\n",
       "      <th>Dependents</th>\n",
       "      <th>Education</th>\n",
       "      <th>Self_Employed</th>\n",
       "      <th>Property_Area</th>\n",
       "      <th>Loan_Status</th>\n",
       "      <th>Credit_History</th>\n",
       "    </tr>\n",
       "  </thead>\n",
       "  <tbody>\n",
       "    <tr>\n",
       "      <th>23</th>\n",
       "      <td>LP001050</td>\n",
       "      <td>NaN</td>\n",
       "      <td>Yes</td>\n",
       "      <td>2</td>\n",
       "      <td>Not Graduate</td>\n",
       "      <td>No</td>\n",
       "      <td>Rural</td>\n",
       "      <td>N</td>\n",
       "      <td>0.0</td>\n",
       "    </tr>\n",
       "    <tr>\n",
       "      <th>126</th>\n",
       "      <td>LP001448</td>\n",
       "      <td>NaN</td>\n",
       "      <td>Yes</td>\n",
       "      <td>3+</td>\n",
       "      <td>Graduate</td>\n",
       "      <td>No</td>\n",
       "      <td>Rural</td>\n",
       "      <td>Y</td>\n",
       "      <td>1.0</td>\n",
       "    </tr>\n",
       "    <tr>\n",
       "      <th>171</th>\n",
       "      <td>LP001585</td>\n",
       "      <td>NaN</td>\n",
       "      <td>Yes</td>\n",
       "      <td>3+</td>\n",
       "      <td>Graduate</td>\n",
       "      <td>No</td>\n",
       "      <td>Urban</td>\n",
       "      <td>Y</td>\n",
       "      <td>1.0</td>\n",
       "    </tr>\n",
       "    <tr>\n",
       "      <th>188</th>\n",
       "      <td>LP001644</td>\n",
       "      <td>NaN</td>\n",
       "      <td>Yes</td>\n",
       "      <td>0</td>\n",
       "      <td>Graduate</td>\n",
       "      <td>Yes</td>\n",
       "      <td>Rural</td>\n",
       "      <td>Y</td>\n",
       "      <td>1.0</td>\n",
       "    </tr>\n",
       "    <tr>\n",
       "      <th>314</th>\n",
       "      <td>LP002024</td>\n",
       "      <td>NaN</td>\n",
       "      <td>Yes</td>\n",
       "      <td>0</td>\n",
       "      <td>Graduate</td>\n",
       "      <td>No</td>\n",
       "      <td>Rural</td>\n",
       "      <td>N</td>\n",
       "      <td>1.0</td>\n",
       "    </tr>\n",
       "    <tr>\n",
       "      <th>334</th>\n",
       "      <td>LP002103</td>\n",
       "      <td>NaN</td>\n",
       "      <td>Yes</td>\n",
       "      <td>1</td>\n",
       "      <td>Graduate</td>\n",
       "      <td>Yes</td>\n",
       "      <td>Urban</td>\n",
       "      <td>Y</td>\n",
       "      <td>1.0</td>\n",
       "    </tr>\n",
       "    <tr>\n",
       "      <th>460</th>\n",
       "      <td>LP002478</td>\n",
       "      <td>NaN</td>\n",
       "      <td>Yes</td>\n",
       "      <td>0</td>\n",
       "      <td>Graduate</td>\n",
       "      <td>Yes</td>\n",
       "      <td>Semiurban</td>\n",
       "      <td>Y</td>\n",
       "      <td>NaN</td>\n",
       "    </tr>\n",
       "    <tr>\n",
       "      <th>467</th>\n",
       "      <td>LP002501</td>\n",
       "      <td>NaN</td>\n",
       "      <td>Yes</td>\n",
       "      <td>0</td>\n",
       "      <td>Graduate</td>\n",
       "      <td>No</td>\n",
       "      <td>Semiurban</td>\n",
       "      <td>Y</td>\n",
       "      <td>1.0</td>\n",
       "    </tr>\n",
       "    <tr>\n",
       "      <th>477</th>\n",
       "      <td>LP002530</td>\n",
       "      <td>NaN</td>\n",
       "      <td>Yes</td>\n",
       "      <td>2</td>\n",
       "      <td>Graduate</td>\n",
       "      <td>No</td>\n",
       "      <td>Semiurban</td>\n",
       "      <td>N</td>\n",
       "      <td>0.0</td>\n",
       "    </tr>\n",
       "    <tr>\n",
       "      <th>507</th>\n",
       "      <td>LP002625</td>\n",
       "      <td>NaN</td>\n",
       "      <td>No</td>\n",
       "      <td>0</td>\n",
       "      <td>Graduate</td>\n",
       "      <td>No</td>\n",
       "      <td>Urban</td>\n",
       "      <td>N</td>\n",
       "      <td>1.0</td>\n",
       "    </tr>\n",
       "    <tr>\n",
       "      <th>576</th>\n",
       "      <td>LP002872</td>\n",
       "      <td>NaN</td>\n",
       "      <td>Yes</td>\n",
       "      <td>0</td>\n",
       "      <td>Graduate</td>\n",
       "      <td>No</td>\n",
       "      <td>Semiurban</td>\n",
       "      <td>N</td>\n",
       "      <td>0.0</td>\n",
       "    </tr>\n",
       "    <tr>\n",
       "      <th>588</th>\n",
       "      <td>LP002925</td>\n",
       "      <td>NaN</td>\n",
       "      <td>No</td>\n",
       "      <td>0</td>\n",
       "      <td>Graduate</td>\n",
       "      <td>No</td>\n",
       "      <td>Semiurban</td>\n",
       "      <td>Y</td>\n",
       "      <td>1.0</td>\n",
       "    </tr>\n",
       "    <tr>\n",
       "      <th>592</th>\n",
       "      <td>LP002933</td>\n",
       "      <td>NaN</td>\n",
       "      <td>No</td>\n",
       "      <td>3+</td>\n",
       "      <td>Graduate</td>\n",
       "      <td>Yes</td>\n",
       "      <td>Semiurban</td>\n",
       "      <td>Y</td>\n",
       "      <td>1.0</td>\n",
       "    </tr>\n",
       "  </tbody>\n",
       "</table>\n",
       "</div>"
      ],
      "text/plain": [
       "      Loan_ID Gender Married Dependents     Education Self_Employed  \\\n",
       "23   LP001050    NaN     Yes          2  Not Graduate            No   \n",
       "126  LP001448    NaN     Yes         3+      Graduate            No   \n",
       "171  LP001585    NaN     Yes         3+      Graduate            No   \n",
       "188  LP001644    NaN     Yes          0      Graduate           Yes   \n",
       "314  LP002024    NaN     Yes          0      Graduate            No   \n",
       "334  LP002103    NaN     Yes          1      Graduate           Yes   \n",
       "460  LP002478    NaN     Yes          0      Graduate           Yes   \n",
       "467  LP002501    NaN     Yes          0      Graduate            No   \n",
       "477  LP002530    NaN     Yes          2      Graduate            No   \n",
       "507  LP002625    NaN      No          0      Graduate            No   \n",
       "576  LP002872    NaN     Yes          0      Graduate            No   \n",
       "588  LP002925    NaN      No          0      Graduate            No   \n",
       "592  LP002933    NaN      No         3+      Graduate           Yes   \n",
       "\n",
       "    Property_Area Loan_Status  Credit_History  \n",
       "23          Rural           N             0.0  \n",
       "126         Rural           Y             1.0  \n",
       "171         Urban           Y             1.0  \n",
       "188         Rural           Y             1.0  \n",
       "314         Rural           N             1.0  \n",
       "334         Urban           Y             1.0  \n",
       "460     Semiurban           Y             NaN  \n",
       "467     Semiurban           Y             1.0  \n",
       "477     Semiurban           N             0.0  \n",
       "507         Urban           N             1.0  \n",
       "576     Semiurban           N             0.0  \n",
       "588     Semiurban           Y             1.0  \n",
       "592     Semiurban           Y             1.0  "
      ]
     },
     "execution_count": 55,
     "metadata": {},
     "output_type": "execute_result"
    }
   ],
   "source": [
    "# Check gender data with null values\n",
    "# You might find something interesting\n",
    "filtered_df = total_categorical_data[total_categorical_data['Gender'].isnull()] # if you want not null use .notnull\n",
    "filtered_df"
   ]
  },
  {
   "cell_type": "code",
   "execution_count": 56,
   "id": "fbbf9d8b-e2b5-4db7-8ede-fd4bd26d812f",
   "metadata": {},
   "outputs": [
    {
     "name": "stdout",
     "output_type": "stream",
     "text": [
      "===================================================================================================\n",
      "Your selected column has 13 null values.\n",
      "After handling with abitrary value fill, there are 0 missing values.\n",
      "===================================================================================================\n"
     ]
    }
   ],
   "source": [
    "# For this case, where we are filling only one column, I don't see a need to use SimpleImputer\n",
    "# Which is perfect when we impute entire missing values in the dataset. Instead,\n",
    "\n",
    "# Make a copy of your dataset\n",
    "total_categorical_data_4 = total_categorical_data.copy()\n",
    "\n",
    "# Replace the missing value with '0' using 'fiilna' method\n",
    "total_categorical_data_4[\"Gender\"] = total_categorical_data_4[\"Gender\"].fillna(\"Prefer not to say\")\n",
    "\n",
    "print(\"===================================================================================================\")\n",
    "print (\"Your selected column has \" + str(total_categorical_data[\"Gender\"].isnull().sum()) + \" null values.\\n\"      \n",
    "            \"After handling with abitrary value fill, there are \" + str(total_categorical_data_4[\"Gender\"].isnull().sum()) +\n",
    "              \" missing values.\")\n",
    "print(\"===================================================================================================\")"
   ]
  },
  {
   "cell_type": "code",
   "execution_count": 57,
   "id": "99c9f1c0-9856-4679-9f18-a4079ca1f501",
   "metadata": {},
   "outputs": [
    {
     "data": {
      "text/plain": [
       "Gender\n",
       "Male                 489\n",
       "Female               112\n",
       "Prefer not to say     13\n",
       "Name: count, dtype: int64"
      ]
     },
     "execution_count": 57,
     "metadata": {},
     "output_type": "execute_result"
    }
   ],
   "source": [
    "# As you may have thought, we have created a new category of respondents who might show a different character\n",
    "# The individuals who are not ready to disclose their gender are equal to previous missing values = 13\n",
    "total_categorical_data_4[\"Gender\"].value_counts()"
   ]
  },
  {
   "cell_type": "markdown",
   "id": "21112b75-e263-4d3f-8b80-953cbf44c08d",
   "metadata": {},
   "source": [
    "## d) Use multiple imputation\n",
    "> ### KNN Imputer\n",
    ">This imputer utilizes the k-Nearest Neighbors method to replace the missing values in the datasets with the mean value from the parameter ‘n_neighbors’ nearest neighbors found in the training set.\n",
    "By default, it uses a Euclidean distance metric to impute the missing values\n",
    ">\n",
    "> For this imputation, we first need to perform encoding as does not recognize text data values and will throw error if we do not change these values to numerical values. I am doing mapping, you can also go with LabelEncoding or OneHotEncoding.\n",
    ">"
   ]
  },
  {
   "cell_type": "markdown",
   "id": "095b4acb-ffea-42fd-b99b-2a547998dae9",
   "metadata": {},
   "source": [
    "### KNN Imputer for single variable"
   ]
  },
  {
   "cell_type": "code",
   "execution_count": null,
   "id": "99bef262-ac24-41e7-8653-e644f09be99e",
   "metadata": {},
   "outputs": [],
   "source": []
  },
  {
   "cell_type": "code",
   "execution_count": null,
   "id": "9336722a-252d-4499-a169-dc541d5f329b",
   "metadata": {},
   "outputs": [],
   "source": []
  },
  {
   "cell_type": "markdown",
   "id": "8f684eec-c9a1-4973-b2ed-b1a07c1b2432",
   "metadata": {},
   "source": [
    "### KNN Imputer for multiple variables"
   ]
  },
  {
   "cell_type": "code",
   "execution_count": null,
   "id": "24fde429-0bad-4cf9-b094-ab7c8feab721",
   "metadata": {},
   "outputs": [],
   "source": []
  },
  {
   "cell_type": "code",
   "execution_count": null,
   "id": "13f87fdc-2203-40a1-9a0f-51b9b71fd5f5",
   "metadata": {},
   "outputs": [],
   "source": []
  },
  {
   "cell_type": "markdown",
   "id": "90fa8b67-2bbd-4cde-b5c4-001eea1b3d67",
   "metadata": {},
   "source": [
    "## e) Mix these techniques for one dataset"
   ]
  },
  {
   "cell_type": "code",
   "execution_count": null,
   "id": "a231b095-1fa3-4397-8aff-cad5378f7f41",
   "metadata": {},
   "outputs": [],
   "source": []
  },
  {
   "cell_type": "code",
   "execution_count": null,
   "id": "43c74717-1c3b-43dc-a9b5-3f09bb8dd4cb",
   "metadata": {},
   "outputs": [],
   "source": []
  },
  {
   "cell_type": "markdown",
   "id": "349ca0c2-30b6-4528-816c-1cb8f18beaaf",
   "metadata": {},
   "source": [
    "## Conclusion\n",
    "> Well, there is no single best way to handle missing values. One needs to experiment with different methods and then decide which method is best for a particular problem."
   ]
  },
  {
   "cell_type": "markdown",
   "id": "981e410d-6b4b-4b68-8977-98937f591913",
   "metadata": {},
   "source": [
    "## References and good resources\n",
    "> - https://campus.datacamp.com/courses/dealing-with-missing-data-in-python/the-problem-with-missing-data?ex=1\n",
    "> - https://towardsdatascience.com/how-to-handle-missing-data-8646b18db0d4"
   ]
  }
 ],
 "metadata": {
  "kernelspec": {
   "display_name": "Python 3 (ipykernel)",
   "language": "python",
   "name": "python3"
  },
  "language_info": {
   "codemirror_mode": {
    "name": "ipython",
    "version": 3
   },
   "file_extension": ".py",
   "mimetype": "text/x-python",
   "name": "python",
   "nbconvert_exporter": "python",
   "pygments_lexer": "ipython3",
   "version": "3.11.7"
  }
 },
 "nbformat": 4,
 "nbformat_minor": 5
}
